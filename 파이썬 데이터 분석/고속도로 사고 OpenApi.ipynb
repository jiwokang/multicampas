{
 "cells": [
  {
   "cell_type": "code",
   "execution_count": null,
   "id": "4523651e-c2ae-4c39-b3c8-d164443e8eda",
   "metadata": {},
   "outputs": [],
   "source": [
    "import urllib.request\n",
    "from urllib.parse import urlparse, ParseResult\n",
    "import json\n",
    "from bs4 import BeautifulSoup\n",
    "from urllib import parse\n",
    "import pprint\n",
    "\n",
    "default_url = \"https://openapi.its.go.kr:9443/eventInfo?\"\n",
    "key = \"a64b3b4cab004593bfd2311becb8852e\"\n",
    "type = \"ex\"\n",
    "evenType = \"all\"\n",
    "minX = float(123)\n",
    "maxX = float(132)\n",
    "minY = float(32)\n",
    "maxY = float(43)\n",
    "getType = 'json'\n",
    "\n",
    "query = urllib.parse.urlencode({'apiKey':key,'type':type,'eventType':evenType,'minX':minX,'maxX':maxX,'minY':minY,'maxY':maxY,'getType':getType})\n",
    "url = default_url + query\n",
    "\n",
    "print(url)\n",
    "\n",
    "response = urllib.request.urlopen(url)\n",
    "rescode = response.getcode()\n",
    "\n",
    "response_body = response.read().decode('utf-8')\n",
    "pprint.pprint(response_body)\n",
    "dataList = json.loads(response_body) #json형식으로 구성되어 있는 text내용을 argument로 받아서 python의 dictionary로 반환해준다."
   ]
  },
  {
   "cell_type": "code",
   "execution_count": null,
   "id": "96303029-2969-43c3-b67e-d4d2e87e9a83",
   "metadata": {},
   "outputs": [],
   "source": [
    "pprint.pprint(dataList)"
   ]
  },
  {
   "cell_type": "code",
   "execution_count": null,
   "id": "7328310a-7e18-49a2-ae09-05607f983f83",
   "metadata": {},
   "outputs": [],
   "source": [
    "len(dataList['body']['items'])"
   ]
  },
  {
   "cell_type": "code",
   "execution_count": null,
   "id": "5ee9578f-e4a8-4f4c-9211-f34c7eb83881",
   "metadata": {},
   "outputs": [],
   "source": [
    "dataList['body']['items'][0]"
   ]
  },
  {
   "cell_type": "code",
   "execution_count": null,
   "id": "fb0ca6c9-d30f-40f9-a368-a6df3354df0e",
   "metadata": {},
   "outputs": [],
   "source": [
    "x_coord = []\n",
    "y_coord = [] \n",
    "\n",
    "for t in dataList['body']['items']:\n",
    "    y_coord.append(t['coordX'])\n",
    "    x_coord.append(t['coordY'])\n"
   ]
  },
  {
   "cell_type": "code",
   "execution_count": null,
   "id": "22985c7c-d016-4845-8f5e-31d49be0d0a2",
   "metadata": {},
   "outputs": [],
   "source": [
    "dic = {'x':x_coord,'y':y_coord}\n",
    "df = pd.DataFrame(data=dic)\n",
    "df.head()"
   ]
  },
  {
   "cell_type": "code",
   "execution_count": null,
   "id": "2c2d966c-cebb-44c9-9a4f-eaeb5bbe54b5",
   "metadata": {},
   "outputs": [],
   "source": [
    "import seaborn as sns\n",
    "import pandas as pd\n",
    "import numpy as np\n",
    "import matplotlib.pyplot as plt\n",
    "import folium\n",
    "\n",
    "seoul_map = folium.Map(location=[36.5,128], tiles='cartodbpositron', \n",
    "                        zoom_start=7.5)\n",
    "\n",
    "for lat, lng in zip(df.x, df.y):\n",
    "    folium.CircleMarker([lat, lng],\n",
    "                        radius=6,         # 원의 반지름\n",
    "                        color='brown',         # 원의 둘레 색상\n",
    "                        weight=0.1,\n",
    "                        fill=True,\n",
    "                        fill_color='#ff0000',    # 원을 채우는 색\n",
    "                        fill_opacity=0.5, # 투명도    \n",
    "    ).add_to(seoul_map)    \n",
    "display(seoul_map)"
   ]
  },
  {
   "cell_type": "code",
   "execution_count": null,
   "id": "112517c6-efa2-43d3-a9a9-e230d5962b6a",
   "metadata": {},
   "outputs": [],
   "source": [
    "df"
   ]
  }
 ],
 "metadata": {
  "kernelspec": {
   "display_name": "pydatavenv",
   "language": "python",
   "name": "pydatavenv"
  },
  "language_info": {
   "codemirror_mode": {
    "name": "ipython",
    "version": 3
   },
   "file_extension": ".py",
   "mimetype": "text/x-python",
   "name": "python",
   "nbconvert_exporter": "python",
   "pygments_lexer": "ipython3",
   "version": "3.9.12"
  }
 },
 "nbformat": 4,
 "nbformat_minor": 5
}

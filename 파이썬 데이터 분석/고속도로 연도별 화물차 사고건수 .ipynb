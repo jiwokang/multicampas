{
 "cells": [
  {
   "cell_type": "code",
   "execution_count": null,
   "id": "ea1909d1-a5f3-4208-8ccd-4e10938d6a61",
   "metadata": {},
   "outputs": [],
   "source": [
    "import pandas as pd\n",
    "import numpy as np\n",
    "import matplotlib.pyplot as plt\n",
    "import seaborn as sns\n",
    "\n",
    "df = pd.read_csv('고속도로 사고 데이터/고속도로 화물차 교통사고.csv')\n",
    "df.head()"
   ]
  },
  {
   "cell_type": "code",
   "execution_count": null,
   "id": "ac90e5c4-8f0c-442f-951e-3e2add3c8908",
   "metadata": {},
   "outputs": [],
   "source": [
    "df.columns"
   ]
  },
  {
   "cell_type": "code",
   "execution_count": null,
   "id": "1e04411a-2038-4e3c-8f72-9a2c61fc4073",
   "metadata": {},
   "outputs": [],
   "source": [
    "df.rename(columns={'가해운전자 차종별 ':'차종별'},inplace=True)"
   ]
  },
  {
   "cell_type": "code",
   "execution_count": null,
   "id": "80366887-7f1a-4056-9fe2-e4c83cbf30ae",
   "metadata": {},
   "outputs": [],
   "source": [
    "df.head(20)"
   ]
  },
  {
   "cell_type": "code",
   "execution_count": null,
   "id": "649e9ee3-3e42-4dfe-bc4f-7b922c071681",
   "metadata": {},
   "outputs": [],
   "source": [
    "hwamulcha = df.iloc[[10,11,12],:]"
   ]
  },
  {
   "cell_type": "code",
   "execution_count": null,
   "id": "6aa6be9a-0014-4dec-9f4f-fe7274150004",
   "metadata": {},
   "outputs": [],
   "source": [
    "hwamulcha.set_index(['사고년도'],inplace=True)\n",
    "hwamulcha.head()"
   ]
  },
  {
   "cell_type": "code",
   "execution_count": null,
   "id": "befa8a85-63fa-467d-b58d-d6da7c8eeef2",
   "metadata": {},
   "outputs": [],
   "source": [
    "hwamulcha.drop(labels=['차종별','합계'],axis=1,inplace=True)"
   ]
  },
  {
   "cell_type": "code",
   "execution_count": null,
   "id": "9298bbf3-a91e-485f-bac9-7a41c688788c",
   "metadata": {},
   "outputs": [],
   "source": [
    "hwamulcha.head()"
   ]
  },
  {
   "cell_type": "code",
   "execution_count": null,
   "id": "731e76e4-5a2f-4276-b25f-526adea7c403",
   "metadata": {},
   "outputs": [],
   "source": [
    "ndf = hwamulcha[['Unnamed: 8','Unnamed: 15','Unnamed: 22','Unnamed: 29','Unnamed: 36']]\n",
    "ndf.columns = [2016,2017,2018,2019,2020]\n",
    "ndf"
   ]
  },
  {
   "cell_type": "code",
   "execution_count": null,
   "id": "8c15a5e6-85bd-43b2-9e85-e8b8250e61a8",
   "metadata": {},
   "outputs": [],
   "source": [
    "ndf.reset_index(inplace=True)"
   ]
  },
  {
   "cell_type": "code",
   "execution_count": null,
   "id": "5aa995c2-cada-45e6-aabe-c68e7c66144f",
   "metadata": {},
   "outputs": [],
   "source": [
    "ndf.drop(labels='사고년도',axis=1,inplace=True)"
   ]
  },
  {
   "cell_type": "code",
   "execution_count": null,
   "id": "c214de8b-1db5-445c-acd0-c25be31bc7e2",
   "metadata": {},
   "outputs": [],
   "source": [
    "ndf"
   ]
  },
  {
   "cell_type": "code",
   "execution_count": null,
   "id": "19db3a99-ccc4-4065-9700-529675e488c1",
   "metadata": {},
   "outputs": [],
   "source": [
    "import re\n",
    "\n",
    "for col in ndf.columns:\n",
    "    ndf[col] = ndf[col].apply(lambda x: re.sub('\\D','',x)).astype(int)\n",
    "\n",
    "ndf"
   ]
  },
  {
   "cell_type": "code",
   "execution_count": null,
   "id": "b8eab6c9-4932-45e7-9048-10dd5d075937",
   "metadata": {},
   "outputs": [],
   "source": [
    "res = ndf.sum()"
   ]
  },
  {
   "cell_type": "code",
   "execution_count": null,
   "id": "756fa6bd-1a97-4de8-bfcf-c5c187198515",
   "metadata": {},
   "outputs": [],
   "source": [
    "import matplotlib\n",
    "import matplotlib.font_manager as fm\n",
    "fm.get_fontconfig_fonts()\n",
    "# font_location = '/usr/share/fonts/truetype/nanum/NanumGothicOTF.ttf'\n",
    "font_location = r'C:\\Users\\Jo\\PYDATAexam\\font\\malgun.ttf' # For Windows\n",
    "font_name = fm.FontProperties(fname=font_location).get_name()\n",
    "matplotlib.rc('font', family=font_name)"
   ]
  },
  {
   "cell_type": "code",
   "execution_count": null,
   "id": "49a9e49e-2633-48d7-a0f7-e53325d7de5e",
   "metadata": {},
   "outputs": [],
   "source": [
    "\n",
    "sns.lineplot(x=res.index.tolist(),y=res.values.tolist(),marker='o',data=res,linewidth=2,markersize=8,color='#ff0000')\n",
    "sns.set(rc = {'figure.figsize':(20,10)})\n",
    "plt.title('고속도로 화물차 사고 건수',size=20,y=1.05)\n",
    "plt.xlabel('연도',size=15)\n",
    "plt.ylabel('사고수',size=15)\n",
    "plt.xticks(res.index.tolist())\n",
    "plt.savefig('고속도로_화물차_사고_건수')"
   ]
  }
 ],
 "metadata": {
  "kernelspec": {
   "display_name": "pydatavenv",
   "language": "python",
   "name": "pydatavenv"
  },
  "language_info": {
   "codemirror_mode": {
    "name": "ipython",
    "version": 3
   },
   "file_extension": ".py",
   "mimetype": "text/x-python",
   "name": "python",
   "nbconvert_exporter": "python",
   "pygments_lexer": "ipython3",
   "version": "3.9.12"
  }
 },
 "nbformat": 4,
 "nbformat_minor": 5
}

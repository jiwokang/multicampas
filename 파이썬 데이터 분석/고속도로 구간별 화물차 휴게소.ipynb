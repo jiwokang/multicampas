{
 "cells": [
  {
   "cell_type": "code",
   "execution_count": null,
   "id": "541c6fb5-2629-459f-859e-06e408359cc3",
   "metadata": {},
   "outputs": [],
   "source": [
    "import pandas as pd\n",
    "import numpy as np\n",
    "import matplotlib.pyplot as plt\n",
    "import ast\n",
    "\n",
    "traffic_df = pd.read_csv('도로종류별 교통량_(좌표,휴게소,사고건수)추가_최종본.csv')\n",
    "traffic_df.head()"
   ]
  },
  {
   "cell_type": "code",
   "execution_count": null,
   "id": "b5e0cc7c-8af7-4e39-9c1e-2448303c40b7",
   "metadata": {},
   "outputs": [],
   "source": [
    "def cal_dist(x1, y1, x2, y2, a, b):\n",
    "    area = abs((x1-a) * (y2-b) - (y1-b) * (x2 - a))\n",
    "    AB = ((x1-x2)**2 + (y1-y2)**2) **0.5\n",
    "    distance = area/AB\n",
    "    return distance"
   ]
  },
  {
   "cell_type": "code",
   "execution_count": null,
   "id": "ce9c908b-4df1-4223-92bf-d983e110fb14",
   "metadata": {},
   "outputs": [],
   "source": [
    "traffic_df.drop('Unnamed: 0',axis=1,inplace=True)\n",
    "traffic_df.head()"
   ]
  },
  {
   "cell_type": "code",
   "execution_count": null,
   "id": "9bf6a5aa-e2da-4b9c-b098-545833ff7f0c",
   "metadata": {},
   "outputs": [],
   "source": [
    "traffic_df['startpoint_coor'] = traffic_df['startpoint_coor'].apply(ast.literal_eval)\n",
    "traffic_df['endpoint_coor'] = traffic_df['endpoint_coor'].apply(ast.literal_eval)"
   ]
  },
  {
   "cell_type": "code",
   "execution_count": null,
   "id": "5a2158ff-3ea5-484b-88bd-9e97300f2c5d",
   "metadata": {},
   "outputs": [],
   "source": [
    "traffic_df['hwamulchaRest_count'] = 0"
   ]
  },
  {
   "cell_type": "code",
   "execution_count": null,
   "id": "7c0b09a1-e41c-468c-b8b4-e812d63f55b2",
   "metadata": {},
   "outputs": [],
   "source": [
    "traffic_df.head()"
   ]
  },
  {
   "cell_type": "code",
   "execution_count": null,
   "id": "b8096b6d-cd21-4b21-85c4-b5854248c89e",
   "metadata": {},
   "outputs": [],
   "source": [
    "rest_df = pd.read_csv('휴게소데이터.csv')\n",
    "rest_df.head()"
   ]
  },
  {
   "cell_type": "code",
   "execution_count": null,
   "id": "ebdcb030-aa01-445b-b231-a7f06dcf6e95",
   "metadata": {},
   "outputs": [],
   "source": [
    "rest_df = rest_df[rest_df['truckSaYn'] == 'O']\n",
    "rest_df.head()"
   ]
  },
  {
   "cell_type": "code",
   "execution_count": null,
   "id": "6ed340b5-c91d-4bec-9694-0f85e59d6d02",
   "metadata": {},
   "outputs": [],
   "source": [
    "rest_df.reset_index(inplace=True)\n",
    "rest_df.drop('index',axis=1,inplace=True)"
   ]
  },
  {
   "cell_type": "code",
   "execution_count": null,
   "id": "2e14345c-742b-48bd-bd96-4f2f4bc230fa",
   "metadata": {},
   "outputs": [],
   "source": [
    "rest_df"
   ]
  },
  {
   "cell_type": "code",
   "execution_count": null,
   "id": "77caf4fc-48ce-4520-8e8f-98fa6615463e",
   "metadata": {},
   "outputs": [],
   "source": [
    "rest_df.shape"
   ]
  },
  {
   "cell_type": "code",
   "execution_count": null,
   "id": "27c536e5-8ccd-4fff-ac86-8eace94dcc5d",
   "metadata": {},
   "outputs": [],
   "source": [
    "rest_df.head()"
   ]
  },
  {
   "cell_type": "code",
   "execution_count": null,
   "id": "074a9825-d862-412c-b499-c53b81b56dd6",
   "metadata": {},
   "outputs": [],
   "source": [
    "#각 고속도로 사고별 최단 거리에 있는 고속도로 구간 탐색 -> 점과 직선사이의 거리 공식을 이용해 카운트\n",
    "pd.options.display.float_format = '{:.5f}'.format\n",
    "\n",
    "for i in range(len(rest_df)):\n",
    "    rest_x = rest_df.iloc[i]['위도']\n",
    "    rest_y = rest_df.iloc[i]['경도']\n",
    "    \n",
    "    min_dist_secName = ''\n",
    "    min_dist = 9999999\n",
    "    \n",
    "    for j in range(len(traffic_df)):    \n",
    "        sect_sx = traffic_df.iloc[j]['startpoint_coor'][0]\n",
    "        sect_sy = traffic_df.iloc[j]['startpoint_coor'][1]\n",
    "        sect_ex = traffic_df.iloc[j]['endpoint_coor'][0]\n",
    "        sect_ey = traffic_df.iloc[j]['endpoint_coor'][1]\n",
    "        sectName = traffic_df.iloc[j]['구간']\n",
    "        \n",
    "        dist = cal_dist(sect_sx,sect_sy,sect_ex,sect_ey,rest_x,rest_y)\n",
    "        \n",
    "        if sect_sx > sect_ex:\n",
    "            tmp = sect_ex\n",
    "            sect_ex = sect_sx\n",
    "            sect_sx = tmp\n",
    "        if sect_sy > sect_ey:\n",
    "            tmp = sect_ey\n",
    "            sect_ey = sect_sy\n",
    "            sect_sy = tmp\n",
    "        \n",
    "        if min_dist > dist and ((sect_sx < rest_x and rest_x < sect_ex) or (sect_sy < rest_y and rest_y < sect_ey)):\n",
    "            min_dist = dist\n",
    "            min_dist_secName = sectName\n",
    "\n",
    "    idx = traffic_df[traffic_df['구간'] == min_dist_secName].index.tolist()[0]\n",
    "    traffic_df.iloc[idx,18] = traffic_df[traffic_df['구간'] == min_dist_secName]['hwamulchaRest_count'] + 1"
   ]
  },
  {
   "cell_type": "code",
   "execution_count": null,
   "id": "4f6b899e-f443-4de4-928b-356ff69bf449",
   "metadata": {},
   "outputs": [],
   "source": [
    "traffic_df.to_csv('도로종류별 교통량_(좌표,휴게소,사고건수,화물차휴게소)추가_최종본.csv')"
   ]
  },
  {
   "cell_type": "code",
   "execution_count": null,
   "id": "e7cfcf9f-325a-43d6-b646-bb2cb85eaa63",
   "metadata": {},
   "outputs": [],
   "source": [
    "traffic_df"
   ]
  },
  {
   "cell_type": "code",
   "execution_count": null,
   "id": "d5a14cb6-6f8a-4e00-b7a8-769010632ee8",
   "metadata": {},
   "outputs": [],
   "source": [
    "traffic_df['hwamulchaRest_count'].value_counts()"
   ]
  }
 ],
 "metadata": {
  "kernelspec": {
   "display_name": "pydatavenv",
   "language": "python",
   "name": "pydatavenv"
  },
  "language_info": {
   "codemirror_mode": {
    "name": "ipython",
    "version": 3
   },
   "file_extension": ".py",
   "mimetype": "text/x-python",
   "name": "python",
   "nbconvert_exporter": "python",
   "pygments_lexer": "ipython3",
   "version": "3.9.12"
  }
 },
 "nbformat": 4,
 "nbformat_minor": 5
}

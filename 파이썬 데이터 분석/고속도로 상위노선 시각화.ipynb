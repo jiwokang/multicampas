{
 "cells": [
  {
   "cell_type": "code",
   "execution_count": null,
   "id": "9d3e4856-5ddc-4540-9730-1a535c57c351",
   "metadata": {},
   "outputs": [],
   "source": [
    "import pandas as pd\n",
    "import re\n",
    "road_df_2020 = pd.read_csv('차종별통행량_2020.csv')\n",
    "road_df_2021 = pd.read_csv('차종별통행량_2021.csv')\n",
    "#road_df_top5 = road_df[:5].copy()\n",
    "#road_df_top5.reset_index(drop=True,inplace=True)"
   ]
  },
  {
   "cell_type": "code",
   "execution_count": null,
   "id": "89d1a187-95d4-4f79-8d91-2343fe3c8286",
   "metadata": {},
   "outputs": [],
   "source": [
    "road_df_2020.head()\n",
    "road_df_2020.columns = ['노선명','계']\n",
    "road_df_2020.fillna(0,inplace=True)\n",
    "road_df_2020['노선명'] = road_df_2020['노선명'].apply(lambda x: re.sub(' ','',str(x))) \n",
    "road_df_2020['계'] = road_df_2020['계'].apply(lambda x: int(re.sub(',','',str(x)))) \n",
    "road_df_2020.head()"
   ]
  },
  {
   "cell_type": "code",
   "execution_count": null,
   "id": "7147abd8-037f-4a9b-84be-398ebc05bb3a",
   "metadata": {},
   "outputs": [],
   "source": [
    "import re\n",
    "\n",
    "road_df_2021.head()\n",
    "road_df_2021.columns = ['노선명','계']\n",
    "road_df_2021.fillna(0,inplace=True)\n",
    "road_df_2021['노선명'] = road_df_2021['노선명'].apply(lambda x: re.sub(' ','',str(x))) \n",
    "road_df_2021['계'] = road_df_2021['계'].apply(lambda x: int(re.sub(',','',str(x)))) \n",
    "road_df_2021.head()"
   ]
  },
  {
   "cell_type": "code",
   "execution_count": null,
   "id": "2c5a9edf-74d8-46db-b036-af904493a8c9",
   "metadata": {},
   "outputs": [],
   "source": [
    "res_df = pd.merge(road_df_2020,road_df_2021,how='outer',on='노선명')\n",
    "\n",
    "res_df['합계'] = res_df['계_x'] + res_df['계_y']"
   ]
  },
  {
   "cell_type": "code",
   "execution_count": null,
   "id": "acf078a2-1572-4905-8589-18b5447973c3",
   "metadata": {},
   "outputs": [],
   "source": [
    "res_df.to_csv('2020~2021_고속도로_통행량.csv')"
   ]
  },
  {
   "cell_type": "code",
   "execution_count": null,
   "id": "017b5a65-5eac-4930-9a7f-5b0de4bbb656",
   "metadata": {},
   "outputs": [],
   "source": [
    "highway_nums = pd.read_csv('2020~2021_고속도로_통행량.csv')\n",
    "highway_nums.drop(labels=['Unnamed: 0'],axis=1,inplace=True)\n",
    "highway_nums"
   ]
  },
  {
   "cell_type": "code",
   "execution_count": null,
   "id": "ef784107-9d0e-4cfa-b364-bf1a068e9097",
   "metadata": {},
   "outputs": [],
   "source": [
    "highway_nums.dropna(axis=0,inplace=True)\n",
    "highway_nums"
   ]
  },
  {
   "cell_type": "code",
   "execution_count": null,
   "id": "67800c69-aa91-4614-be85-c8229cccc833",
   "metadata": {},
   "outputs": [],
   "source": [
    "import matplotlib.pyplot as plt\n",
    "import squarify\n",
    "\n",
    "highway_nums.drop(49,axis=0,inplace=True)\n",
    "highway_nums"
   ]
  },
  {
   "cell_type": "code",
   "execution_count": null,
   "id": "d8e0c329-22a4-4eb9-b195-092a072544a4",
   "metadata": {},
   "outputs": [],
   "source": [
    "import matplotlib\n",
    "import matplotlib.font_manager as fm\n",
    "fm.get_fontconfig_fonts()\n",
    "# font_location = '/usr/share/fonts/truetype/nanum/NanumGothicOTF.ttf'\n",
    "font_location = r'C:\\Users\\Jo\\PYDATAexam\\font\\malgun.ttf' # For Windows\n",
    "font_name = fm.FontProperties(fname=font_location).get_name()\n",
    "matplotlib.rc('font', family=font_name)"
   ]
  },
  {
   "cell_type": "code",
   "execution_count": null,
   "id": "9bfb4f5f-5e09-490d-9660-d34427eca436",
   "metadata": {},
   "outputs": [],
   "source": [
    "import matplotlib.cm\n",
    "\n",
    "# Create a dataset:\n",
    "my_values=[i**3 for i in range(0,150)]\n",
    " \n",
    "# create a color palette, mapped to these values\n",
    "cmap = mpl.cm.Blues #Blues\n",
    "mini=min(my_values)\n",
    "maxi=max(my_values)\n",
    "norm = mpl.colors.Normalize(vmin=mini, vmax=maxi)\n",
    "colors = [cmap(norm(value)) for value in my_values]\n",
    "colors = colors[::-1]"
   ]
  },
  {
   "cell_type": "code",
   "execution_count": null,
   "id": "62196746-6dcc-4ef5-8076-e957893e4f73",
   "metadata": {},
   "outputs": [],
   "source": [
    "highway_nums.sort_values('합계', ascending=False, inplace=True)\n",
    "fig, ax = plt.subplots(1, figsize = (12,12))\n",
    "squarify.plot(sizes=highway_nums['합계'], \n",
    "              label=highway_nums['노선명'][:45], \n",
    "              alpha=.8,\n",
    "              bar_kwargs=dict(linewidth=3, edgecolor=\"#eee\"), color=colors)\n",
    "plt.axis('off')\n",
    "plt.savefig('image.png')\n",
    "plt.show()"
   ]
  }
 ],
 "metadata": {
  "kernelspec": {
   "display_name": "pydatavenv",
   "language": "python",
   "name": "pydatavenv"
  },
  "language_info": {
   "codemirror_mode": {
    "name": "ipython",
    "version": 3
   },
   "file_extension": ".py",
   "mimetype": "text/x-python",
   "name": "python",
   "nbconvert_exporter": "python",
   "pygments_lexer": "ipython3",
   "version": "3.9.12"
  }
 },
 "nbformat": 4,
 "nbformat_minor": 5
}

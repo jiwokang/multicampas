{
 "cells": [
  {
   "cell_type": "code",
   "execution_count": null,
   "id": "3c29ca51-0d4f-430c-81d2-3081cb0f7a8a",
   "metadata": {},
   "outputs": [],
   "source": [
    "import pandas as pd\n",
    "import ast \n",
    "\n",
    "acc_df = pd.read_csv('고속도로 사고 데이터.csv')\n",
    "acc_df"
   ]
  },
  {
   "cell_type": "code",
   "execution_count": null,
   "id": "49ed2576-2e36-4b69-a8c0-2af8423167a0",
   "metadata": {},
   "outputs": [],
   "source": [
    "traffic_df = pd.read_csv('도로종류별 교통량(좌표,휴게소,사고건수,화물차휴게소)추가_최종본.csv')"
   ]
  },
  {
   "cell_type": "code",
   "execution_count": null,
   "id": "e5ba6cf6-a2b5-424b-9b18-7feb94bbd035",
   "metadata": {},
   "outputs": [],
   "source": [
    "traffic_df.head()\n",
    "traffic_df.drop('Unnamed: 0',axis=1,inplace=True)"
   ]
  },
  {
   "cell_type": "code",
   "execution_count": null,
   "id": "75b2117b-36bd-4067-9506-4c85e5b8007e",
   "metadata": {},
   "outputs": [],
   "source": [
    "trafffic_ndf = traffic_df[traffic_df['accident_count'] > 0]\n",
    "trafffic_ndf.head()"
   ]
  },
  {
   "cell_type": "code",
   "execution_count": null,
   "id": "adaf042b-a4c4-49d6-9aa7-17d7d7f9b8c6",
   "metadata": {},
   "outputs": [],
   "source": [
    "traffic_df['startpoint_coor'] = traffic_df['startpoint_coor'].apply(ast.literal_eval)\n",
    "traffic_df['endpoint_coor'] = traffic_df['endpoint_coor'].apply(ast.literal_eval)"
   ]
  },
  {
   "cell_type": "code",
   "execution_count": null,
   "id": "2b874fce-ac4f-4a43-bbd4-01530c2496bf",
   "metadata": {},
   "outputs": [],
   "source": [
    "x = []\n",
    "y = []\n",
    "for i in range(len(traffic_df)):\n",
    "    start_x, start_y = traffic_df['startpoint_coor'][i]\n",
    "    end_x, end_y = traffic_df['endpoint_coor'][i]\n",
    "    \n",
    "    center_x = (start_x + end_x) / 2\n",
    "    center_y = (start_y + end_y) / 2\n",
    "    \n",
    "    x.append(center_x)\n",
    "    y.append(center_y)\n",
    "\n",
    "traffic_df['center_x'] = x\n",
    "traffic_df['center_y'] = y"
   ]
  },
  {
   "cell_type": "code",
   "execution_count": null,
   "id": "7122ac4f-a7ce-4d45-abb1-e609dbceee8c",
   "metadata": {},
   "outputs": [],
   "source": [
    "coord_ec = traffic_df[['center_x','center_y']].astype(float).values.tolist()\n",
    "cs = traffic_df['구간'].tolist()\n",
    "cc = traffic_df['accident_count'].tolist()"
   ]
  },
  {
   "cell_type": "code",
   "execution_count": null,
   "id": "3cdfc40c-8e66-4436-b30e-bf4d8d0f4232",
   "metadata": {},
   "outputs": [],
   "source": [
    "# 라이브러리\n",
    "import folium\n",
    "from folium import Choropleth, Circle, Marker, PolyLine\n",
    "import numpy as np\n",
    "import pandas as pd\n",
    "import seaborn as sns\n",
    "import squarify\n",
    "import ast\n",
    "import pickle\n",
    "import warnings\n",
    "import math\n",
    "\n",
    "import geopy\n",
    "from geopy.distance import geodesic\n",
    "\n",
    "from shapely.geometry import Point\n",
    "from shapely.geometry.polygon import Polygon\n",
    "\n",
    "from mpl_toolkits.mplot3d import Axes3D \n",
    "from datetime import datetime\n",
    "from haversine import haversine\n",
    "\n",
    "import plotly.express as px\n",
    "import plotly.graph_objects as go\n",
    "from plotly.subplots import make_subplots\n",
    "\n",
    "from sklearn.cluster import KMeans\n",
    "from sklearn.preprocessing import MinMaxScaler, StandardScaler, PowerTransformer, QuantileTransformer, RobustScaler"
   ]
  },
  {
   "cell_type": "code",
   "execution_count": null,
   "id": "e8ebb831-4a4c-4e09-86ce-201e6f9c7aef",
   "metadata": {},
   "outputs": [],
   "source": [
    "hwamulcha_df = acc_df[acc_df['피해운전자 차종'] == '화물']\n",
    "hwamulcha_df.head()"
   ]
  },
  {
   "cell_type": "code",
   "execution_count": null,
   "id": "fe18a574-bb78-42c7-8ab1-c3fed96f5d56",
   "metadata": {},
   "outputs": [],
   "source": [
    "import seaborn as sns\n",
    "import pandas as pd\n",
    "import numpy as np\n",
    "import matplotlib.pyplot as plt\n",
    "import folium\n",
    "\n",
    "map = folium.Map(location=[36.5,128], tiles='cartodbpositron', \n",
    "                        zoom_start=7.5)\n",
    "#고속도로 시각화\n",
    "for i in range(len(traffic_df)):\n",
    "    start_x_coor, start_y_coor = traffic_df['startpoint_coor'][i]\n",
    "    end_x_coor, end_y_coor = traffic_df['endpoint_coor'][i]\n",
    "    polylines = []\n",
    "    polylines.append([(start_x_coor,start_y_coor),(end_x_coor,end_y_coor)])\n",
    "\n",
    "    folium.PolyLine(locations=polylines,\n",
    "                 color=\"#B7D7B7\",\n",
    "                 weight = 5,\n",
    "                 fill_color = None,\n",
    "                 fill_opacity=0.2,\n",
    "                 tooltip=traffic_df['구간'][i]\n",
    "                ).add_to(map)\n",
    "\n",
    "\n",
    "#고속도로 사고 위도,경도\n",
    "for name, lat, lng in zip(hwamulcha_df.시군구, hwamulcha_df.위도, hwamulcha_df.경도):\n",
    "    folium.CircleMarker([lat, lng],\n",
    "                        radius=6,         # 원의 반지름\n",
    "                        color='brown',         # 원의 둘레 색상\n",
    "                        weight=0.1,\n",
    "                        fill=True,\n",
    "                        fill_color='#ff0000',    # 원을 채우는 색\n",
    "                        fill_opacity=0.5, # 투명도    \n",
    "                        popup=name\n",
    "    ).add_to(map)\n",
    "    \n",
    "display(map)"
   ]
  },
  {
   "cell_type": "code",
   "execution_count": null,
   "id": "7f9e9088-8b45-438c-ac10-4c2b72ee0987",
   "metadata": {},
   "outputs": [],
   "source": [
    "traffic_df.info()"
   ]
  },
  {
   "cell_type": "code",
   "execution_count": null,
   "id": "f0a5ff0c-205e-4d1a-b783-8451aff662e5",
   "metadata": {},
   "outputs": [],
   "source": [
    "traffic_df['startpoint_coor'] = traffic_df['startpoint_coor'].apply(ast.literal_eval)\n",
    "traffic_df['endpoint_coor'] = traffic_df['endpoint_coor'].apply(ast.literal_eval)"
   ]
  },
  {
   "cell_type": "code",
   "execution_count": null,
   "id": "aa531272-ffe2-47ad-86ba-8bdabe93774d",
   "metadata": {},
   "outputs": [],
   "source": [
    "def cal_rad(A,B):\n",
    "    rad = math.atan2(A[1]-B[1], A[0]-B[0])\n",
    "    return rad\n",
    "\n",
    "def count_color(count):\n",
    "    if count >=20:\n",
    "        color = '#c18cd1'\n",
    "    elif count >=14:\n",
    "        color = '#bc65d6'\n",
    "    elif count >=7:\n",
    "        color = '#b940de'\n",
    "    elif count >=3:\n",
    "        color = '#b223de'\n",
    "    else:\n",
    "        color = '#9000c9'\n",
    "    return color"
   ]
  },
  {
   "cell_type": "code",
   "execution_count": null,
   "id": "122dadf7-2b15-4f8c-9dec-187a27828a9e",
   "metadata": {},
   "outputs": [],
   "source": [
    "traffic_df.head()"
   ]
  },
  {
   "cell_type": "code",
   "execution_count": null,
   "id": "ce6b7c81-b38c-403d-add4-4dd152dd0a42",
   "metadata": {},
   "outputs": [],
   "source": [
    "counts=[]\n",
    "acc_map = folium.Map(location=[36, 127.5], tiles='cartodbpositron', zoom_start=7)\n",
    "\n",
    "for i in range(len(traffic_df)):\n",
    "    startpoint = traffic_df['startpoint_coor'][i]\n",
    "    endpoint = traffic_df['endpoint_coor'][i]\n",
    "\n",
    "    rad = cal_rad(startpoint, endpoint)\n",
    "    deg = np.rad2deg(rad)\n",
    "    dist = 5\n",
    "    origin_start = geopy.Point(startpoint)\n",
    "    origin_end = geopy.Point(endpoint)\n",
    "\n",
    "    degree = [90+deg, 270+deg]\n",
    "\n",
    "    poly_a = []\n",
    "    poly_b = []\n",
    "\n",
    "    for de in degree:\n",
    "\n",
    "        destination_start = geodesic(kilometers=dist).destination(origin_start, de)\n",
    "        destination_end = geodesic(kilometers=dist).destination(origin_end, de)\n",
    "        new_lat1, new_lon1 = destination_start.latitude, destination_start.longitude\n",
    "        new_lat2, new_lon2 = destination_end.latitude, destination_end.longitude\n",
    "\n",
    "        poly_a.append([new_lat1, new_lon1])\n",
    "        poly_b.append([new_lat2, new_lon2])\n",
    "        \n",
    "      \n",
    "    polygon_vect = np.array([poly_a[0],poly_b[0],poly_b[1],poly_a[1]])\n",
    "    polygon = Polygon(polygon_vect)\n",
    "\n",
    "    count =0\n",
    "    for i in range(len(acc_df)):\n",
    "        point = Point(acc_df['위도'][i], acc_df['경도'][i])\n",
    "\n",
    "        if polygon.contains(point):\n",
    "            count+=1\n",
    "\n",
    "    counts.append(count)\n",
    "    \n",
    "    lats_vect = np.array([poly_a[0], poly_b[0]])\n",
    "    lons_vect = np.array([poly_a[1], poly_b[1]])\n",
    "    folium.Polygon(locations=[poly_a[0], poly_b[0], poly_b[1], poly_a[1]],\n",
    "                   weight = 1,\n",
    "                   color = None, \n",
    "                   fill_color = '#50aa50',\n",
    "                   fill_opacity=0.2, #0.2\n",
    "                      ).add_to(acc_map)\n",
    "    \n",
    "traffic_df['counts'] = counts\n",
    "    \n",
    "for i,co in enumerate(coord_ec):\n",
    "    folium.Circle(location=co,color=\"red\", opacity = 0.2 * cc[i], radius=cc[i] * 70,fill_color=f'#C1C0BD' ,fill_opacity=0.5).add_to(acc_map)"
   ]
  },
  {
   "cell_type": "code",
   "execution_count": null,
   "id": "0e454d6b-2af2-4862-8737-8e875cdd0f4c",
   "metadata": {},
   "outputs": [],
   "source": [
    "acc_map"
   ]
  },
  {
   "cell_type": "code",
   "execution_count": null,
   "id": "3d1be103-160a-42ce-ba4d-2764b1b8281c",
   "metadata": {},
   "outputs": [],
   "source": [
    "acc_map.save('고속도로 사고 시각화_최종본.html')"
   ]
  }
 ],
 "metadata": {
  "kernelspec": {
   "display_name": "pydatavenv",
   "language": "python",
   "name": "pydatavenv"
  },
  "language_info": {
   "codemirror_mode": {
    "name": "ipython",
    "version": 3
   },
   "file_extension": ".py",
   "mimetype": "text/x-python",
   "name": "python",
   "nbconvert_exporter": "python",
   "pygments_lexer": "ipython3",
   "version": "3.9.12"
  }
 },
 "nbformat": 4,
 "nbformat_minor": 5
}

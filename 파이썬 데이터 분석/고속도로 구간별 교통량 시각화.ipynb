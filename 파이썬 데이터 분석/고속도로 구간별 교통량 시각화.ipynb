{
 "cells": [
  {
   "cell_type": "code",
   "execution_count": null,
   "id": "dda9afdd-7974-4c07-976f-d382ed6512af",
   "metadata": {},
   "outputs": [],
   "source": [
    "#고속도로 통행량 color,weight 변환 함수\n",
    "def traffic_color(traffic):\n",
    "    if traffic >= 9000:\n",
    "        weight = 7\n",
    "        color = '#990000'\n",
    "    elif traffic >= 7000:\n",
    "        weight = 6\n",
    "        color = '#d7301f' \n",
    "    elif traffic >= 4000:\n",
    "        weight = 5\n",
    "        color = '#ef6548'\n",
    "    elif traffic >= 2000:\n",
    "        weight = 4\n",
    "        color = '#fc8d59'\n",
    "    elif traffic >= 1000:\n",
    "        weight = 3\n",
    "        color = '#fdbb84'\n",
    "    elif traffic >= 500:\n",
    "        weight = 2\n",
    "        color = '#fdd49e'\n",
    "    else:\n",
    "        weight = 1\n",
    "        color = '#fef0d9'\n",
    "        \n",
    "    return color, weight"
   ]
  },
  {
   "cell_type": "code",
   "execution_count": null,
   "id": "a7be4112-e4ef-4a8e-944c-9a33e8586b26",
   "metadata": {},
   "outputs": [],
   "source": [
    "#고속도로 통행량 시각화\n",
    "import folium\n",
    "import re\n",
    "import ast\n",
    "\n",
    "#데이터 프레임에 'startpoint_coor', 'endpoint_coor', '평균일교통량' column이 존재 해야된다.\n",
    "def highway_traffic_visualization(df):\n",
    "    traffic_map = folium.Map([36, 127.5],tiles='cartodbpositron', zoom_start=7)\n",
    "    for i in range(len(df)):\n",
    "        start_x_coor, start_y_coor = str_to_coor(df['startpoint_coor'][i])\n",
    "        end_x_coor, end_y_coor = str_to_coor(df['endpoint_coor'][i])\n",
    "        polylines = []\n",
    "        polylines.append([(start_x_coor,start_y_coor),(end_x_coor,end_y_coor)])\n",
    "    \n",
    "        folium.PolyLine(locations=polylines,\n",
    "                     color=traffic_color(df['3~12종'][i])[0],\n",
    "                    weight=traffic_color(df['3~12종'][i])[1],\n",
    "                    tooltip=df['구간'][i]\n",
    "                    ).add_to(traffic_map)\n",
    "    return traffic_map"
   ]
  },
  {
   "cell_type": "code",
   "execution_count": null,
   "id": "5b338dd4-6ba9-482e-b01a-6e518136f9d5",
   "metadata": {},
   "outputs": [],
   "source": [
    "str_to_coor('(35.2506518734081, 129.097583873429)')"
   ]
  },
  {
   "cell_type": "code",
   "execution_count": null,
   "id": "6b9fbb94-3a4d-47eb-b00f-da28e058608e",
   "metadata": {},
   "outputs": [],
   "source": [
    "import pandas as pd\n",
    "\n",
    "df = pd.read_csv('도로종류별 교통량_(좌표,휴게소,사고건수,화물차휴게소)추가_최종본.csv')\n",
    "df.head()"
   ]
  },
  {
   "cell_type": "code",
   "execution_count": null,
   "id": "b8e76946-f933-4091-a425-64055e91bb69",
   "metadata": {},
   "outputs": [],
   "source": [
    "df['3~12종'].describe()"
   ]
  },
  {
   "cell_type": "code",
   "execution_count": null,
   "id": "678a7b9b-745d-4854-be53-9ed329f79957",
   "metadata": {},
   "outputs": [],
   "source": [
    "df.drop('Unnamed: 0',axis=1,inplace=True)\n",
    "df.head()"
   ]
  },
  {
   "cell_type": "code",
   "execution_count": null,
   "id": "64666e1f-e1c8-4e27-8dfa-727fef69968f",
   "metadata": {},
   "outputs": [],
   "source": [
    "pd.options.display.float_format = '{:.5f}'.format"
   ]
  },
  {
   "cell_type": "code",
   "execution_count": null,
   "id": "ac67f36b-c1d1-40d2-a401-145171c0916c",
   "metadata": {},
   "outputs": [],
   "source": [
    "df.info()"
   ]
  },
  {
   "cell_type": "code",
   "execution_count": null,
   "id": "f028f6f6-ce67-4159-a601-08eb0e2f477f",
   "metadata": {},
   "outputs": [],
   "source": [
    "traffic_map = highway_traffic_visualization(df)"
   ]
  },
  {
   "cell_type": "code",
   "execution_count": null,
   "id": "9aec057d-9de7-4288-b2fa-534b0aaa69e6",
   "metadata": {
    "tags": []
   },
   "outputs": [],
   "source": [
    "traffic_map"
   ]
  },
  {
   "cell_type": "code",
   "execution_count": null,
   "id": "4d17d52c-9606-43df-975d-cfda5554e6d5",
   "metadata": {},
   "outputs": [],
   "source": [
    "traffic_map.save('2017~2020년도_3~12종 총 교통량_시각화.html')"
   ]
  },
  {
   "cell_type": "code",
   "execution_count": null,
   "id": "3134015a-9ad5-4d62-981d-6bdfb0732012",
   "metadata": {
    "tags": []
   },
   "outputs": [],
   "source": [
    "#카카오맵 api 키워드 -> 위도, 경도 반환 함수\n",
    "\n",
    "import requests\n",
    "\n",
    "def to_latlng2(place):\n",
    "    url = 'https://dapi.kakao.com/v2/local/search/keyword.json?query={}'.format(place)\n",
    "    headers = { \"Authorization\": \"KakaoAK \" + \"583cc3a933b33ebd2e55e3dc318ea19b\" }\n",
    "    places = requests.get(url, headers = headers).json()\n",
    "    target_x = 0\n",
    "    target_y = 0\n",
    "    \n",
    "    for place in places['documents']:\n",
    "        if place['category_name'].find('교통,수송') == -1:\n",
    "            pass\n",
    "        else:\n",
    "            target_x = place['x']\n",
    "            target_y = place['y']\n",
    "            break\n",
    "    \n",
    "    xVal = float(target_x)\n",
    "    yVal = float(target_y)\n",
    "    \n",
    "    return (yVal, xVal)"
   ]
  },
  {
   "cell_type": "code",
   "execution_count": null,
   "id": "df843224-bcd5-4a6d-aebb-52b557eee666",
   "metadata": {},
   "outputs": [],
   "source": [
    "#Test\n",
    "to_latlng2('시흥IC')"
   ]
  },
  {
   "cell_type": "code",
   "execution_count": null,
   "id": "99445779-5656-45c2-b6f0-82a78c9bdc5a",
   "metadata": {},
   "outputs": [],
   "source": [
    "# 1~2종 교통량 시각화\n",
    "df['1~2종'].describe()"
   ]
  },
  {
   "cell_type": "code",
   "execution_count": null,
   "id": "bb90fedf-edf4-4972-be43-37c504755faf",
   "metadata": {},
   "outputs": [],
   "source": [
    "df_1 = df[['구간','1~2종','startpoint_coor','endpoint_coor']]\n",
    "df_1.head()"
   ]
  },
  {
   "cell_type": "code",
   "execution_count": null,
   "id": "8554a791-d0df-40c4-9b9d-2dc4aaaaa3a2",
   "metadata": {},
   "outputs": [],
   "source": [
    "df_1.columns = ['구간','17~20년도_합계','startpoint_coor','endpoint_coor']\n",
    "df_1.head()"
   ]
  },
  {
   "cell_type": "code",
   "execution_count": null,
   "id": "b53ba9d7-70a3-47c2-abca-5ae968415964",
   "metadata": {},
   "outputs": [],
   "source": [
    "traffic_map_df1 = highway_traffic_visualization(df_1)"
   ]
  },
  {
   "cell_type": "code",
   "execution_count": null,
   "id": "9df85fa9-1b2e-4523-8f4e-9e13a757b332",
   "metadata": {},
   "outputs": [],
   "source": [
    "traffic_map_df1"
   ]
  },
  {
   "cell_type": "code",
   "execution_count": null,
   "id": "6c8cfee9-574a-4e90-b6f4-ae7ab9b02ce7",
   "metadata": {},
   "outputs": [],
   "source": [
    "traffic_map_df1.save('2017~2020년도_1~2종 총 교통량_시각화.html')"
   ]
  },
  {
   "cell_type": "code",
   "execution_count": null,
   "id": "d9396293-c9b7-4cd1-966b-b16e6ce01c32",
   "metadata": {},
   "outputs": [],
   "source": [
    "# 3~12종 교통량 시각화\n",
    "\n",
    "df['3~12종'].describe()"
   ]
  },
  {
   "cell_type": "code",
   "execution_count": null,
   "id": "65b51520-b5a6-4805-ab8a-b078b3f7c9e0",
   "metadata": {},
   "outputs": [],
   "source": [
    "df_2 = df[['구간','3~12종','startpoint_coor','endpoint_coor']]\n",
    "df_2.head()"
   ]
  },
  {
   "cell_type": "code",
   "execution_count": null,
   "id": "b302ad08-8729-413e-a328-af8eab4ee314",
   "metadata": {},
   "outputs": [],
   "source": [
    "df_2.columns = ['구간','17~20년도_합계','startpoint_coor','endpoint_coor']\n",
    "df_2.head()"
   ]
  },
  {
   "cell_type": "code",
   "execution_count": null,
   "id": "acdb063f-7762-4b21-a4da-93f73c64d713",
   "metadata": {},
   "outputs": [],
   "source": [
    "traffic_map_df2 = highway_traffic_visualization(df_2)"
   ]
  },
  {
   "cell_type": "code",
   "execution_count": null,
   "id": "7bba85fc-a711-459e-8ee5-45cd4af12d11",
   "metadata": {},
   "outputs": [],
   "source": [
    "traffic_map_df2"
   ]
  },
  {
   "cell_type": "code",
   "execution_count": null,
   "id": "f9631133-507f-4414-9ed8-8ec26b4e3c68",
   "metadata": {},
   "outputs": [],
   "source": [
    "traffic_map_df2.save('2017~2020년도_3~12종 총 교통량_시각화.html')"
   ]
  }
 ],
 "metadata": {
  "kernelspec": {
   "display_name": "pydatavenv",
   "language": "python",
   "name": "pydatavenv"
  },
  "language_info": {
   "codemirror_mode": {
    "name": "ipython",
    "version": 3
   },
   "file_extension": ".py",
   "mimetype": "text/x-python",
   "name": "python",
   "nbconvert_exporter": "python",
   "pygments_lexer": "ipython3",
   "version": "3.9.12"
  }
 },
 "nbformat": 4,
 "nbformat_minor": 5
}

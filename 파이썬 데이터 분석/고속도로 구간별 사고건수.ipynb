{
 "cells": [
  {
   "cell_type": "code",
   "execution_count": null,
   "id": "a6428afb-b1bc-4be9-962a-061a6d5211fa",
   "metadata": {},
   "outputs": [],
   "source": [
    "import pandas as pd\n",
    "import numpy as np\n",
    "import matplotlib.pyplot as plt\n",
    "import seaborn as sns\n",
    "import ast\n",
    "\n",
    "traffic_df = pd.read_csv('도로종류별 교통량_좌표,휴게소추가_최종본.csv')\n",
    "traffic_df.head()"
   ]
  },
  {
   "cell_type": "code",
   "execution_count": null,
   "id": "fbe3cf9c-3487-4668-99d6-69939c90271c",
   "metadata": {},
   "outputs": [],
   "source": [
    "# 라이브러리\n",
    "import folium\n",
    "from folium import Choropleth, Circle, Marker, PolyLine\n",
    "import numpy as np\n",
    "import pandas as pd\n",
    "import seaborn as sns\n",
    "import squarify\n",
    "import ast\n",
    "import pickle\n",
    "import warnings\n",
    "import math\n",
    "\n",
    "import geopy\n",
    "from geopy.distance import geodesic\n",
    "\n",
    "from shapely.geometry import Point\n",
    "from shapely.geometry.polygon import Polygon\n",
    "\n",
    "from mpl_toolkits.mplot3d import Axes3D \n",
    "from datetime import datetime\n",
    "from haversine import haversine\n",
    "\n",
    "import plotly.express as px\n",
    "import plotly.graph_objects as go\n",
    "from plotly.subplots import make_subplots\n",
    "\n",
    "from sklearn.cluster import KMeans\n",
    "from sklearn.preprocessing import MinMaxScaler, StandardScaler, PowerTransformer, QuantileTransformer, RobustScaler"
   ]
  },
  {
   "cell_type": "code",
   "execution_count": null,
   "id": "62414b72-6490-4e14-aec5-e89ab3d1851c",
   "metadata": {},
   "outputs": [],
   "source": [
    "def cal_rad(A,B):\n",
    "    rad = math.atan2(A[1]-B[1], A[0]-B[0])\n",
    "    return rad\n",
    "\n",
    "def count_color(count):\n",
    "    if count >=20:\n",
    "        color = '#c18cd1'\n",
    "    elif count >=14:\n",
    "        color = '#bc65d6'\n",
    "    elif count >=7:\n",
    "        color = '#b940de'\n",
    "    elif count >=3:\n",
    "        color = '#b223de'\n",
    "    else:\n",
    "        color = '#9000c9'\n",
    "    return color"
   ]
  },
  {
   "cell_type": "code",
   "execution_count": null,
   "id": "d6cdc019-49a3-42cb-9d19-16ae8ba7ecc3",
   "metadata": {},
   "outputs": [],
   "source": [
    "def cal_dist(x1, y1, x2, y2, a, b):\n",
    "    area = abs((x1-a) * (y2-b) - (y1-b) * (x2 - a))\n",
    "    AB = ((x1-x2)**2 + (y1-y2)**2) **0.5\n",
    "    distance = area/AB\n",
    "    return distance"
   ]
  },
  {
   "cell_type": "code",
   "execution_count": null,
   "id": "8a0feb48-cf3a-4eb0-971a-761316bc858c",
   "metadata": {},
   "outputs": [],
   "source": [
    "traffic_df['accident_count'] = 0\n",
    "traffic_df.drop('Unnamed: 0',axis=1,inplace=True)\n",
    "traffic_df.head()"
   ]
  },
  {
   "cell_type": "code",
   "execution_count": null,
   "id": "41022ec6-7fad-4f6a-9c77-ee56a48a28a2",
   "metadata": {},
   "outputs": [],
   "source": [
    "traffic_df['startpoint_coor'] = traffic_df['startpoint_coor'].apply(ast.literal_eval)\n",
    "traffic_df['endpoint_coor'] = traffic_df['endpoint_coor'].apply(ast.literal_eval)"
   ]
  },
  {
   "cell_type": "code",
   "execution_count": null,
   "id": "1e08afec-7e63-4de8-a331-7b0994154322",
   "metadata": {},
   "outputs": [],
   "source": [
    "acc_df = pd.read_csv('고속도로 사고 데이터.csv')\n",
    "print(acc_df.shape)\n",
    "acc_df.head()"
   ]
  },
  {
   "cell_type": "code",
   "execution_count": null,
   "id": "6d787457-f136-4f0b-8e87-847b2ca61fcc",
   "metadata": {},
   "outputs": [],
   "source": [
    "acc_df = acc_df[acc_df['가해운전자 차종'] == '화물']\n",
    "acc_df.shape"
   ]
  },
  {
   "cell_type": "code",
   "execution_count": null,
   "id": "2ee1f189-44f4-44df-92ec-0cda585f9c15",
   "metadata": {},
   "outputs": [],
   "source": [
    "# 1.각 고속도로 사고별 최단 거리에 있는 고속도로 구간 탐색 -> 점과 직선사이의 거리 공식을 이용해 카운트\n",
    "pd.options.display.float_format = '{:.5f}'.format\n",
    "\n",
    "for i in range(len(acc_df)):\n",
    "    rest_x = acc_df.iloc[i]['위도']\n",
    "    rest_y = acc_df.iloc[i]['경도']\n",
    "    \n",
    "    min_dist_secName = ''\n",
    "    min_dist = 9999999\n",
    "    \n",
    "    for j in range(len(traffic_df)):    \n",
    "        sect_sx = traffic_df.iloc[j]['startpoint_coor'][0]\n",
    "        sect_sy = traffic_df.iloc[j]['startpoint_coor'][1]\n",
    "        sect_ex = traffic_df.iloc[j]['endpoint_coor'][0]\n",
    "        sect_ey = traffic_df.iloc[j]['endpoint_coor'][1]\n",
    "        sectName = traffic_df.iloc[j]['구간']\n",
    "        \n",
    "        dist = cal_dist(sect_sx,sect_sy,sect_ex,sect_ey,rest_x,rest_y)\n",
    "        \n",
    "        if sect_sx > sect_ex:\n",
    "            tmp = sect_ex\n",
    "            sect_ex = sect_sx\n",
    "            sect_sx = tmp\n",
    "        if sect_sy > sect_ey:\n",
    "            tmp = sect_ey\n",
    "            sect_ey = sect_sy\n",
    "            sect_sy = tmp\n",
    "        \n",
    "        if min_dist > dist and ((sect_sx < rest_x and rest_x < sect_ex) or (sect_sy < rest_y and rest_y < sect_ey)):\n",
    "            min_dist = dist\n",
    "            min_dist_secName = sectName\n",
    "\n",
    "    idx = traffic_df[traffic_df['구간'] == min_dist_secName].index\n",
    "    traffic_df.iloc[idx,17] = traffic_df[traffic_df['구간'] == min_dist_secName]['accident_count'] + 1"
   ]
  },
  {
   "cell_type": "code",
   "execution_count": null,
   "id": "009193b4-8449-4432-ac94-a89b15c754dc",
   "metadata": {},
   "outputs": [],
   "source": [
    "traffic_df['accident_count'].hist()"
   ]
  },
  {
   "cell_type": "code",
   "execution_count": null,
   "id": "abcefcbc-391b-4c67-8c06-3ed95cfdeef5",
   "metadata": {},
   "outputs": [],
   "source": [
    "#2. polygon.contains를 활용해서 구간별 사고건수 check\n",
    "counts=[]\n",
    "\n",
    "for i in range(len(traffic_df)):\n",
    "    startpoint = traffic_df['startpoint_coor'][i]\n",
    "    endpoint = traffic_df['endpoint_coor'][i]\n",
    "\n",
    "    rad = cal_rad(startpoint, endpoint)\n",
    "    deg = np.rad2deg(rad)\n",
    "    dist = 1.6\n",
    "    origin_start = geopy.Point(startpoint)\n",
    "    origin_end = geopy.Point(endpoint)\n",
    "\n",
    "    degree = [90+deg, 270+deg]\n",
    "\n",
    "    poly_a = []\n",
    "    poly_b = []\n",
    "\n",
    "    for de in degree:\n",
    "\n",
    "        destination_start = geodesic(kilometers=dist).destination(origin_start, de)\n",
    "        destination_end = geodesic(kilometers=dist).destination(origin_end, de)\n",
    "        new_lat1, new_lon1 = destination_start.latitude, destination_start.longitude\n",
    "        new_lat2, new_lon2 = destination_end.latitude, destination_end.longitude\n",
    "\n",
    "        poly_a.append([new_lat1, new_lon1])\n",
    "        poly_b.append([new_lat2, new_lon2])\n",
    "        \n",
    "      \n",
    "    polygon_vect = np.array([poly_a[0],poly_b[0],poly_b[1],poly_a[1]])\n",
    "    polygon = Polygon(polygon_vect)\n",
    "\n",
    "    count =0\n",
    "    for i in range(len(acc_df)):\n",
    "        point = Point(acc_df['위도'][i], acc_df['경도'][i])\n",
    "\n",
    "        if polygon.contains(point):\n",
    "            count+=1\n",
    "\n",
    "    counts.append(count)"
   ]
  }
 ],
 "metadata": {
  "kernelspec": {
   "display_name": "pydatavenv",
   "language": "python",
   "name": "pydatavenv"
  },
  "language_info": {
   "codemirror_mode": {
    "name": "ipython",
    "version": 3
   },
   "file_extension": ".py",
   "mimetype": "text/x-python",
   "name": "python",
   "nbconvert_exporter": "python",
   "pygments_lexer": "ipython3",
   "version": "3.9.12"
  }
 },
 "nbformat": 4,
 "nbformat_minor": 5
}

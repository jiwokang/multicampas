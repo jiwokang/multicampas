{
 "cells": [
  {
   "cell_type": "code",
   "execution_count": null,
   "id": "670ccf24-7acc-4c05-bb2a-0d500d534a82",
   "metadata": {
    "tags": []
   },
   "outputs": [],
   "source": [
    "import pandas as pd\n",
    "\n",
    "df = pd.read_csv('고속도로 휴게소 데이터.csv')\n",
    "df"
   ]
  },
  {
   "cell_type": "code",
   "execution_count": null,
   "id": "5b1ba897-e315-42d8-a6d7-16fffc6bf2e2",
   "metadata": {},
   "outputs": [],
   "source": [
    "df['truckSaYn'].value_counts()"
   ]
  },
  {
   "cell_type": "code",
   "execution_count": null,
   "id": "68b2932b-9fad-44bb-acd9-54e80f3142d0",
   "metadata": {},
   "outputs": [],
   "source": [
    "truck_no = df[df['truckSaYn'] == 'O']\n",
    "truck_no.head()"
   ]
  },
  {
   "cell_type": "code",
   "execution_count": null,
   "id": "852e3872-4d5f-4532-b3a5-1856482282cb",
   "metadata": {},
   "outputs": [],
   "source": [
    "truck_yes = df[df['truckSaYn'] == 'X']\n",
    "truck_yes.head()"
   ]
  },
  {
   "cell_type": "code",
   "execution_count": null,
   "id": "ba3c6326-edca-4028-970c-705d38420567",
   "metadata": {},
   "outputs": [],
   "source": [
    "#고속도로 통행량 시각화\n",
    "import folium\n",
    "import re\n",
    "\n",
    "#데이터 프레임에 'startpoint_coor', 'endpoint_coor', '평균일교통량' column이 존재 해야된다.\n",
    "def highway_traffic_visualization(df):\n",
    "    traffic_map = folium.Map([36, 127.5],tiles='cartodbpositron', zoom_start=7)\n",
    "    for i in range(len(df)):\n",
    "        start_x_coor, start_y_coor = str_to_coor(df['startpoint_coor'][i])\n",
    "        end_x_coor, end_y_coor = str_to_coor(df['endpoint_coor'][i])\n",
    "        polylines = []\n",
    "        polylines.append([(start_x_coor,start_y_coor),(end_x_coor,end_y_coor)])\n",
    "    \n",
    "        folium.PolyLine(locations=polylines,\n",
    "                     color=None,\n",
    "                     fill_color = '#50aa50',\n",
    "                     fill_opacity=0.2,\n",
    "                     tooltip=df['구간'][i]\n",
    "                    ).add_to(traffic_map)\n",
    "    return traffic_map"
   ]
  },
  {
   "cell_type": "code",
   "execution_count": null,
   "id": "2305fe9a-749a-4b22-997d-bac4b0d0cd6f",
   "metadata": {},
   "outputs": [],
   "source": [
    "import pandas as pd\n",
    "\n",
    "traffic_df = pd.read_csv('도로종류별 교통량_좌표추가_최종본.csv')\n",
    "traffic_df.head()"
   ]
  },
  {
   "cell_type": "code",
   "execution_count": null,
   "id": "264bdfb9-673a-4464-bead-2e25294c255a",
   "metadata": {},
   "outputs": [],
   "source": [
    "import re\n",
    "\n",
    "def str_to_coor(text):\n",
    "    text = re.sub('[()]','',text)\n",
    "    \n",
    "    x = text.split(',')[0]\n",
    "    y = text.split(',')[1]\n",
    "    y = re.sub(' ','',y)\n",
    "    \n",
    "    return float(x),float(y)"
   ]
  },
  {
   "cell_type": "code",
   "execution_count": null,
   "id": "650e0e25-707b-4612-a5c0-e4ae938c8b3f",
   "metadata": {},
   "outputs": [],
   "source": [
    "import seaborn as sns\n",
    "import pandas as pd\n",
    "import numpy as np\n",
    "import matplotlib.pyplot as plt\n",
    "import folium\n",
    "\n",
    "map = folium.Map(location=[36.5,128], tiles='cartodbpositron', \n",
    "                        zoom_start=7.5)\n",
    "\n",
    "truck_df_list = [(truck_no,'#1b4dd7'),(truck_yes,'#ff0000')]\n",
    "\n",
    "#고속도로 시각화\n",
    "for i in range(len(traffic_df)):\n",
    "    start_x_coor, start_y_coor = str_to_coor(traffic_df['startpoint_coor'][i])\n",
    "    end_x_coor, end_y_coor = str_to_coor(traffic_df['endpoint_coor'][i])\n",
    "    polylines = []\n",
    "    polylines.append([(start_x_coor,start_y_coor),(end_x_coor,end_y_coor)])\n",
    "\n",
    "    folium.PolyLine(locations=polylines,\n",
    "                 color=\"#B7D7B7\",\n",
    "                 weight = 5,\n",
    "                 fill_color = None,\n",
    "                 fill_opacity=0.2,\n",
    "                 tooltip=traffic_df['구간'][i]\n",
    "                ).add_to(map)\n",
    "    \n",
    "#휴게소 지점 시각화\n",
    "for df,color in truck_df_list:\n",
    "    for name, lat, lng in zip(df.serviceAreaName, df.위도, df.경도):\n",
    "        folium.CircleMarker([lat, lng],\n",
    "                            radius=6,         # 원의 반지름\n",
    "                            color='brown',         # 원의 둘레 색상\n",
    "                            weight=0.1,\n",
    "                            fill=True,\n",
    "                            fill_color=color,    # 원을 채우는 색\n",
    "                            fill_opacity=0.5, # 투명도    \n",
    "                            popup=name\n",
    "        ).add_to(map)\n",
    "\n",
    "\n",
    "\n",
    "map.save('휴게소_시각화.html')\n",
    "display(map)"
   ]
  }
 ],
 "metadata": {
  "kernelspec": {
   "display_name": "pydatavenv",
   "language": "python",
   "name": "pydatavenv"
  },
  "language_info": {
   "codemirror_mode": {
    "name": "ipython",
    "version": 3
   },
   "file_extension": ".py",
   "mimetype": "text/x-python",
   "name": "python",
   "nbconvert_exporter": "python",
   "pygments_lexer": "ipython3",
   "version": "3.9.12"
  }
 },
 "nbformat": 4,
 "nbformat_minor": 5
}

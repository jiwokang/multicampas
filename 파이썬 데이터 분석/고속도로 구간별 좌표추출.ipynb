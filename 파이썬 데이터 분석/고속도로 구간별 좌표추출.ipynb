{
 "cells": [
  {
   "cell_type": "code",
   "execution_count": null,
   "id": "5e63bcbb-464c-4b50-8bd6-cf32d5bf9243",
   "metadata": {},
   "outputs": [],
   "source": [
    "## 1. 고속도로 출입시설 위치정보 \n",
    "\n",
    "import numpy as np\n",
    "import pandas as pd\n",
    "from urllib.request import urlopen\n",
    "from urllib import parse\n",
    "from urllib.request import Request\n",
    "from urllib.error import HTTPError\n",
    "from bs4 import BeautifulSoup\n",
    "import json\n",
    "from pprint import pprint\n",
    " \n",
    "api_key = '1044310891'\n",
    "default_url = 'http://data.ex.co.kr/openapi/locationinfo/locationinfoIc?' \n",
    "query = 'key=' + api_key + '&' + 'type=json'\n",
    "url = default_url + query\n",
    "\n",
    "request = Request(url)\n",
    "response = urlopen(request)\n",
    "\n",
    "rescode = response.getcode()\n",
    "\n",
    "icName_list = []\n",
    "x_list = []\n",
    "y_list = []\n",
    "routeName_list = []\n",
    "\n",
    "if rescode == 200:\n",
    "    response_body = response.read().decode('utf-8')\n",
    "    \n",
    "    dicts = json.loads(response_body)\n",
    "    for dict in dicts[\"list\"]:\n",
    "        icName_list.append(dict['icName'])\n",
    "        x_list.append(dict['xValue'])\n",
    "        y_list.append(dict['yValue'])\n",
    "        routeName_list.append(dict['routeName'])\n",
    "else:\n",
    "    print('Response error code : ',rescode)"
   ]
  },
  {
   "cell_type": "code",
   "execution_count": null,
   "id": "eba66fad-2bc0-4d3d-a2ba-fe7845cea34f",
   "metadata": {},
   "outputs": [],
   "source": [
    "data = {\n",
    "    'icName' : icName_list,\n",
    "    'x_coor' : x_list,\n",
    "    'y_coor' : y_list,\n",
    "    'routeName' : routeName_list\n",
    "}\n",
    "\n",
    "df = pd.DataFrame(data)\n",
    "df.head()"
   ]
  },
  {
   "cell_type": "code",
   "execution_count": null,
   "id": "6de39e7d-0a9a-412d-b716-b4ec1d300d53",
   "metadata": {},
   "outputs": [],
   "source": [
    "df.to_csv('고속도로_출입시설_위치정보.csv')"
   ]
  },
  {
   "cell_type": "code",
   "execution_count": null,
   "id": "a281945d-9d27-4465-8cd0-22fa5e485c3e",
   "metadata": {},
   "outputs": [],
   "source": [
    "import pandas as pd\n",
    "\n",
    "#2. 고속도로 시각화\n",
    "\n",
    "    #2 - 1. 데이터 전처리\n",
    "df = pd.read_csv('도로종류별-교통량_병권님수정본.csv')\n",
    "df.head()"
   ]
  },
  {
   "cell_type": "code",
   "execution_count": null,
   "id": "82e97a8c-890b-43de-a50d-1c84aa0094df",
   "metadata": {},
   "outputs": [],
   "source": [
    "df.columns = ['노선번호','구간','이정','연장','2017','2018','2019','2020','계','1~2종','3~12종']\n",
    "df.head()"
   ]
  },
  {
   "cell_type": "code",
   "execution_count": null,
   "id": "36d51939-7746-40cb-af4c-02c07af47b25",
   "metadata": {},
   "outputs": [],
   "source": [
    "import re \n",
    "\n",
    "df['구간'] = df['구간'].apply(lambda x : re.sub(' ','',x))\n",
    "df.head()"
   ]
  },
  {
   "cell_type": "code",
   "execution_count": null,
   "id": "78d5c12d-7353-4e6b-996b-984a237aa0b1",
   "metadata": {},
   "outputs": [],
   "source": [
    "df.info()"
   ]
  },
  {
   "cell_type": "code",
   "execution_count": null,
   "id": "ca381855-ba13-478a-803d-79242f3cacbf",
   "metadata": {},
   "outputs": [],
   "source": [
    "df['2017'] = df['2017'].apply(lambda x: re.sub(' ','',x))\n",
    "df['2018'] = df['2018'].apply(lambda x: re.sub(' ','',x))\n",
    "df['2019'] = df['2019'].apply(lambda x: re.sub(' ','',x))\n",
    "df['2020'] = df['2020'].apply(lambda x: re.sub(' ','',x))"
   ]
  },
  {
   "cell_type": "code",
   "execution_count": null,
   "id": "8b3fb39c-0909-4af5-8177-cd1879a310da",
   "metadata": {},
   "outputs": [],
   "source": [
    "import numpy as np\n",
    "\n",
    "df.replace('-',np.nan,inplace=True)\n",
    "df.head()"
   ]
  },
  {
   "cell_type": "code",
   "execution_count": null,
   "id": "e468eeb0-abc2-43da-9468-55645b662e07",
   "metadata": {},
   "outputs": [],
   "source": [
    "df['2017'].fillna(0,inplace=True)\n",
    "df['2018'].fillna(0,inplace=True)\n",
    "df['2019'].fillna(0,inplace=True)\n",
    "df['2020'].fillna(0,inplace=True)"
   ]
  },
  {
   "cell_type": "code",
   "execution_count": null,
   "id": "51a61a7f-5a35-42f9-ac75-bbb7091a2ca6",
   "metadata": {},
   "outputs": [],
   "source": [
    "df.head()"
   ]
  },
  {
   "cell_type": "code",
   "execution_count": null,
   "id": "3daf1b7d-904e-4c56-ad51-c7021ee47e2f",
   "metadata": {},
   "outputs": [],
   "source": [
    "df['2017'] = df['2017'].apply(lambda x: re.sub(',','',str(x)))\n",
    "df['2018'] = df['2018'].apply(lambda x: re.sub(',','',str(x)))\n",
    "df['2019'] = df['2019'].apply(lambda x: re.sub(',','',str(x)))\n",
    "df['2020'] = df['2020'].apply(lambda x: re.sub(',','',str(x)))\n",
    "df['1~2종'] = df['1~2종'].apply(lambda x: re.sub(',','',str(x)))\n",
    "df['3~12종'] = df['3~12종'].apply(lambda x: re.sub(',','',str(x)))\n",
    "\n",
    "df['2017'] = df['2017'].astype(int)\n",
    "df['2018'] = df['2018'].astype(int)\n",
    "df['2019'] = df['2019'].astype(int)\n",
    "df['2020'] = df['2020'].astype(int)\n",
    "df['1~2종'] = df['1~2종'].astype(int)\n",
    "df['3~12종'] = df['3~12종'].astype(int)\n",
    "\n",
    "df.head()"
   ]
  },
  {
   "cell_type": "code",
   "execution_count": null,
   "id": "29960c30-2467-4ee7-b379-1aaa061a4d18",
   "metadata": {},
   "outputs": [],
   "source": [
    "df.info()"
   ]
  },
  {
   "cell_type": "code",
   "execution_count": null,
   "id": "46a7fd9c-2d54-4b48-b483-627f2af831ac",
   "metadata": {},
   "outputs": [],
   "source": [
    "df['17~20년도_합계'] = df['2017'] + df['2018'] + df['2019'] + df['2020'] "
   ]
  },
  {
   "cell_type": "code",
   "execution_count": null,
   "id": "811751f6-d6d8-4015-81aa-48bc8354bd5e",
   "metadata": {},
   "outputs": [],
   "source": [
    "df"
   ]
  },
  {
   "cell_type": "code",
   "execution_count": null,
   "id": "5bbb6278-6fa9-4ffb-9bfe-4dd4e810da86",
   "metadata": {},
   "outputs": [],
   "source": [
    "mean_2017 = df['2017'].mean()\n",
    "mean_2018 = df['2018'].mean()\n",
    "mean_2019 = df['2019'].mean()\n",
    "mean_2020 = df['2020'].mean()\n",
    "\n",
    "df['2017'] = df['2017'].apply(lambda x: mean_2017 if x == 0 else x)\n",
    "df['2018'] = df['2018'].apply(lambda x: mean_2017 if x == 0 else x)\n",
    "df['2019'] = df['2019'].apply(lambda x: mean_2017 if x == 0 else x)\n",
    "df['2020'] = df['2020'].apply(lambda x: mean_2017 if x == 0 else x)"
   ]
  },
  {
   "cell_type": "code",
   "execution_count": null,
   "id": "023a8560-c508-421b-bd9c-59c44d56e837",
   "metadata": {},
   "outputs": [],
   "source": [
    "df['17~20년도_합계'] = df['2017'] + df['2018'] + df['2019'] + df['2020']\n",
    "df.head()"
   ]
  },
  {
   "cell_type": "code",
   "execution_count": null,
   "id": "1a45f273-e299-44e9-a8b9-adfc4e7bf1ea",
   "metadata": {},
   "outputs": [],
   "source": [
    "#2.2 구간 좌표 추출\n",
    "\n",
    "startpoint = []\n",
    "endpoint = []\n",
    "\n",
    "for sector in df['구간']:\n",
    "    \n",
    "    start = sector.split('~')[0]\n",
    "    end = sector.split('~')[1]\n",
    "\n",
    "    startpoint.append(start)\n",
    "    endpoint.append(end)\n",
    "    \n",
    "df['startpoint'] = startpoint\n",
    "df['endpoint'] = endpoint"
   ]
  },
  {
   "cell_type": "code",
   "execution_count": null,
   "id": "baf78e80-6814-4a00-8705-6aac99a5c94e",
   "metadata": {},
   "outputs": [],
   "source": [
    "import requests\n",
    "\n",
    "def to_latlng2(place):\n",
    "    url = 'https://dapi.kakao.com/v2/local/search/keyword.json?query={}'.format(place)\n",
    "    headers = { \"Authorization\": \"KakaoAK \" + \"583cc3a933b33ebd2e55e3dc318ea19b\" }\n",
    "    places = requests.get(url, headers = headers).json()\n",
    "    target_x = 0\n",
    "    target_y = 0\n",
    "    \n",
    "    for place in places['documents']:\n",
    "        if place['category_name'].find('교통,수송') == -1:\n",
    "            pass\n",
    "        else:\n",
    "            target_x = place['x']\n",
    "            target_y = place['y']\n",
    "            break\n",
    "    \n",
    "    xVal = float(target_x)\n",
    "    yVal = float(target_y)\n",
    "    \n",
    "    return (yVal, xVal)"
   ]
  },
  {
   "cell_type": "code",
   "execution_count": null,
   "id": "786531c1-9d2f-4585-99c5-6598e85cdf9b",
   "metadata": {},
   "outputs": [],
   "source": [
    "to_latlng2('통도사IC')"
   ]
  },
  {
   "cell_type": "code",
   "execution_count": null,
   "id": "e6001396-df34-4a91-b23a-56318e2028c9",
   "metadata": {},
   "outputs": [],
   "source": [
    "startpoint_list = []\n",
    "endpoint_list = []\n",
    "\n",
    "for start, end in zip(df['startpoint'].tolist(), df['endpoint'].tolist()):\n",
    "    startpoint_list.append(to_latlng2(start))\n",
    "    endpoint_list.append(to_latlng2(end))\n",
    "    \n",
    "    print('[',start,'~',end,'] 완료')\n",
    "\n",
    "print(len(startpoint_list))\n",
    "print(len(endpoint_list))"
   ]
  },
  {
   "cell_type": "code",
   "execution_count": null,
   "id": "848cd784-de08-43c9-9510-71f66438ef78",
   "metadata": {},
   "outputs": [],
   "source": [
    "df['startpoint_coor'] = startpoint_list\n",
    "df['endpoint_coor'] = endpoint_list\n",
    "\n",
    "df.head()"
   ]
  },
  {
   "cell_type": "code",
   "execution_count": null,
   "id": "6c896840-e802-42c9-8437-313d6f1a4209",
   "metadata": {},
   "outputs": [],
   "source": [
    "df.to_csv('도로종류별 교통량_좌표추가.csv')"
   ]
  },
  {
   "cell_type": "code",
   "execution_count": null,
   "id": "ff60a0ce-3e1d-4e1d-ba2e-643ef46a6eaf",
   "metadata": {},
   "outputs": [],
   "source": [
    "from pprint import pprint\n",
    "url = 'https://dapi.kakao.com/v2/local/search/keyword.json?query={}'.format('서울주JC')\n",
    "headers = { \"Authorization\": \"KakaoAK \" + \"583cc3a933b33ebd2e55e3dc318ea19b\" }\n",
    "places = requests.get(url, headers = headers).json()\n",
    "\n",
    "doc = places['documents']\n",
    "pprint(doc)"
   ]
  }
 ],
 "metadata": {
  "kernelspec": {
   "display_name": "pydatavenv",
   "language": "python",
   "name": "pydatavenv"
  },
  "language_info": {
   "codemirror_mode": {
    "name": "ipython",
    "version": 3
   },
   "file_extension": ".py",
   "mimetype": "text/x-python",
   "name": "python",
   "nbconvert_exporter": "python",
   "pygments_lexer": "ipython3",
   "version": "3.9.12"
  }
 },
 "nbformat": 4,
 "nbformat_minor": 5
}

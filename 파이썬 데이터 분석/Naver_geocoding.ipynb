{
 "cells": [
  {
   "cell_type": "code",
   "execution_count": 4,
   "id": "604d235d-46ae-4f15-bbd2-a09a811ce96e",
   "metadata": {},
   "outputs": [
    {
     "ename": "NameError",
     "evalue": "name 'pd' is not defined",
     "output_type": "error",
     "traceback": [
      "\u001b[1;31m---------------------------------------------------------------------------\u001b[0m",
      "\u001b[1;31mNameError\u001b[0m                                 Traceback (most recent call last)",
      "Input \u001b[1;32mIn [4]\u001b[0m, in \u001b[0;36m<cell line: 17>\u001b[1;34m()\u001b[0m\n\u001b[0;32m     13\u001b[0m api_url \u001b[38;5;241m=\u001b[39m \u001b[38;5;124m'\u001b[39m\u001b[38;5;124mhttps://naveropenapi.apigw.ntruss.com/map-geocode/v2/geocode?query=\u001b[39m\u001b[38;5;124m'\u001b[39m\n\u001b[0;32m     15\u001b[0m \u001b[38;5;66;03m# 주소 목록 파일 (.xlsx)\u001b[39;00m\n\u001b[0;32m     16\u001b[0m \u001b[38;5;66;03m#data = pd.read_excel('list_of_address.xlsx', usecols='B, C', names=['구주소', '도로명주소'])\u001b[39;00m\n\u001b[1;32m---> 17\u001b[0m data \u001b[38;5;241m=\u001b[39m \u001b[43mpd\u001b[49m\u001b[38;5;241m.\u001b[39mDataFrame(data\u001b[38;5;241m=\u001b[39m{\u001b[38;5;124m'\u001b[39m\u001b[38;5;124m도로명주소\u001b[39m\u001b[38;5;124m'\u001b[39m:[\u001b[38;5;124m'\u001b[39m\u001b[38;5;124m서울특별시 마포구 서교동 371-7\u001b[39m\u001b[38;5;124m'\u001b[39m]})\n\u001b[0;32m     20\u001b[0m \u001b[38;5;66;03m# 네이버 지도 API 이용해서 위경도 찾기\u001b[39;00m\n\u001b[0;32m     21\u001b[0m geo_coordi \u001b[38;5;241m=\u001b[39m []     \u001b[38;5;66;03m# geographic coordinates\u001b[39;00m\n",
      "\u001b[1;31mNameError\u001b[0m: name 'pd' is not defined"
     ]
    }
   ],
   "source": [
    "# naver api\n",
    "client_id = '1gd7nt7i7v'\n",
    "client_pw = 'MyCsg43hgzOpddIY7CL3I5LEniZMwOyOYUrHjdXx'\n",
    "\n",
    "# res_type\n",
    "res_type = 'json'   # 'json' or 'xml'\n",
    "\n",
    "if res_type == 'json':\n",
    "    api_url = 'https://openapi.naver.com/v1/map/geocode?query='     # json\n",
    "else:\n",
    "    api_url = 'https://openapi.naver.com/v1/map/geocode.xml?query='     # xml\n",
    "\n",
    "api_url = 'https://naveropenapi.apigw.ntruss.com/map-geocode/v2/geocode?query='\n",
    "\n",
    "# 주소 목록 파일 (.xlsx)\n",
    "#data = pd.read_excel('list_of_address.xlsx', usecols='B, C', names=['구주소', '도로명주소'])\n",
    "data = pd.DataFrame(data={'도로명주소':['서울특별시 마포구 서교동 371-7']})\n",
    "\n",
    "\n",
    "# 네이버 지도 API 이용해서 위경도 찾기\n",
    "geo_coordi = []     # geographic coordinates\n",
    "for add in data['도로명주소']:\n",
    "    add_urlenc = parse.quote(add)   # 주소를 URL에서 사용할 수 있도록 URL Encoding\n",
    "    url = api_url + add_urlenc\n",
    "    request = Request(url)\n",
    "    request.add_header('X-NCP-APIGW-API-KEY-ID', client_id)\n",
    "    request.add_header('X-NCP-APIGW-API-KEY', client_pw)\n",
    "    try:\n",
    "        response = urlopen(request)\n",
    "    except HTTPError as e:\n",
    "        print('HTTP Error!')\n",
    "        latitude = None\n",
    "        longitude = None\n",
    "    else:\n",
    "        rescode = response.getcode()  # 정상이면 200 리턴\n",
    "        if rescode == 200:\n",
    "            response_body = response.read().decode('utf-8')\n",
    "            if res_type == 'json':\n",
    "                response_body = json.loads(response_body)   # json\n",
    "                if 'result' in response_body:\n",
    "                    latitude = response_body['result']['items'][0]['point']['y']\n",
    "                    longitude = response_body['result']['items'][0]['point']['x']\n",
    "                    print(\"Success!\")\n",
    "                else:\n",
    "                    print(\"'result' not exist!\")\n",
    "                    latitude = None\n",
    "                    longitude = None\n",
    "            else:\n",
    "                response_body = BeautifulSoup(response_body, \"lxml\")  # xml\n",
    "                latitude = [float(xy.get_text()) for xy in response_body.find_all(\"y\")][0]\n",
    "                longitude = [float(xy.get_text()) for xy in response_body.find_all(\"x\")][0]\n",
    "        else:\n",
    "            print('Response error code : %d' % rescode)\n",
    "            latitude = None\n",
    "            longitude = None\n",
    "\n",
    "    geo_coordi.append([latitude, longitude])\n",
    "\n",
    "# 결과 dataframe으로 할당\n",
    "np_geo_coordi = np.array(geo_coordi)\n",
    "pd_geo_coordi = pd.DataFrame({\n",
    "                              \"도로명\": data['도로명주소'].values,\n",
    "                              \"위도\": np_geo_coordi[:, 0],\n",
    "                              \"경도\": np_geo_coordi[:, 1]})\n"
   ]
  },
  {
   "cell_type": "code",
   "execution_count": 14,
   "id": "7d996621-db83-4102-893c-35badf73015d",
   "metadata": {},
   "outputs": [],
   "source": [
    "#네이버 Geocoding\n",
    "import numpy as np\n",
    "import pandas as pd\n",
    "from urllib.request import urlopen\n",
    "from urllib import parse\n",
    "from urllib.request import Request\n",
    "from urllib.error import HTTPError\n",
    "from bs4 import BeautifulSoup\n",
    "import json\n",
    "import pprint\n",
    "\n",
    "client_id = '1gd7nt7i7v'\n",
    "client_pw = 'MyCsg43hgzOpddIY7CL3I5LEniZMwOyOYUrHjdXx'\n",
    "\n",
    "api_url = 'https://naveropenapi.apigw.ntruss.com/map-geocode/v2/geocode?query='\n",
    "\n",
    "add = '양촌나들목'\n",
    "\n",
    "add_urlenc = parse.quote(add)   # 주소를 URL에서 사용할 수 있도록 URL Encoding\n",
    "url = api_url + add_urlenc\n",
    "\n",
    "request = Request(url)\n",
    "request.add_header('X-NCP-APIGW-API-KEY-ID', client_id)\n",
    "request.add_header('X-NCP-APIGW-API-KEY', client_pw)\n",
    "\n",
    "response = urlopen(request)\n",
    "\n",
    "response_body = response.read().decode('utf-8')"
   ]
  },
  {
   "cell_type": "code",
   "execution_count": 15,
   "id": "22a687f4-ecb6-4141-8cd4-22b0fc57c6bc",
   "metadata": {},
   "outputs": [
    {
     "name": "stdout",
     "output_type": "stream",
     "text": [
      "'{\"status\":\"OK\",\"meta\":{\"totalCount\":0,\"count\":0},\"addresses\":[],\"errorMessage\":\"\"}'\n"
     ]
    }
   ],
   "source": [
    "pprint.pprint(response_body)"
   ]
  },
  {
   "cell_type": "code",
   "execution_count": null,
   "id": "f33ac792-cd90-40e2-95d4-c8b3d1fa0ebc",
   "metadata": {},
   "outputs": [],
   "source": []
  }
 ],
 "metadata": {
  "kernelspec": {
   "display_name": "pydatavenv",
   "language": "python",
   "name": "pydatavenv"
  },
  "language_info": {
   "codemirror_mode": {
    "name": "ipython",
    "version": 3
   },
   "file_extension": ".py",
   "mimetype": "text/x-python",
   "name": "python",
   "nbconvert_exporter": "python",
   "pygments_lexer": "ipython3",
   "version": "3.9.12"
  }
 },
 "nbformat": 4,
 "nbformat_minor": 5
}

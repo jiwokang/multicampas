{
 "cells": [
  {
   "cell_type": "code",
   "execution_count": 32,
   "id": "6d029a40-a563-41d8-90f7-47a16a2bf0be",
   "metadata": {},
   "outputs": [],
   "source": [
    "import pandas as pd\n",
    "import numpy as np\n",
    "import seaborn as sns\n",
    "import matplotlib.pyplot as plt\n",
    "import re\n",
    "import folium\n",
    "from folium import Choropleth, Circle, Marker, PolyLine\n",
    "import squarify\n",
    "import ast\n",
    "import pickle\n",
    "import warnings\n",
    "import math\n",
    "\n",
    "import geopy\n",
    "from geopy.distance import geodesic\n",
    "\n",
    "from shapely.geometry import Point\n",
    "from shapely.geometry.polygon import Polygon\n",
    "\n",
    "from mpl_toolkits.mplot3d import Axes3D \n",
    "from datetime import datetime\n",
    "from haversine import haversine\n",
    "\n",
    "import plotly.express as px\n",
    "import plotly.graph_objects as go\n",
    "from plotly.subplots import make_subplots\n",
    "\n",
    "from sklearn.cluster import KMeans\n",
    "from sklearn.preprocessing import MinMaxScaler, StandardScaler, PowerTransformer, QuantileTransformer, RobustScaler"
   ]
  },
  {
   "cell_type": "code",
   "execution_count": 33,
   "id": "74261b0a-72fb-4e56-9c10-5351d8d48aa2",
   "metadata": {},
   "outputs": [],
   "source": [
    "def cal_rad(A,B):\n",
    "    rad = math.atan2(A[1]-B[1], A[0]-B[0])\n",
    "    return rad\n",
    "\n",
    "def count_color(count):\n",
    "    if count >=4:\n",
    "        color = '#c18cd1'\n",
    "    elif count ==3:\n",
    "        color = '#bc65d6'\n",
    "    elif count ==2:\n",
    "        color = '#b940de'\n",
    "    elif count ==1:\n",
    "        color = '#b223de'\n",
    "    else:\n",
    "        color = '#9000c9'\n",
    "    return color"
   ]
  },
  {
   "cell_type": "code",
   "execution_count": 34,
   "id": "4102f5fe-22f3-4537-82c4-62b211afeda9",
   "metadata": {},
   "outputs": [],
   "source": [
    "def geo_cluster_color(id):\n",
    "    if id == 0:\n",
    "        color = '#ef476f' # 빨강\n",
    "        opacity = 1\n",
    "    elif id == 1:\n",
    "        color = '#06d6a0' # 초록\n",
    "        opacity = 0.1\n",
    "    elif id == 2:\n",
    "        color = '#ffd166' # 노랑\n",
    "        opacity = 0.1\n",
    "    elif id == 3:\n",
    "        color = '#118ab2' # 파랑\n",
    "        opacity = 0.1\n",
    "    else:\n",
    "        color = '#000000'\n",
    "        opacity = 0.1\n",
    "    return color, opacity"
   ]
  },
  {
   "cell_type": "code",
   "execution_count": 35,
   "id": "3c9770a4-6026-496a-bbd0-7c56a59cbf16",
   "metadata": {},
   "outputs": [],
   "source": [
    "### 여러개의 클러스터링 갯수를 List로 입력 받아 각각의 실루엣 계수를 면적으로 시각화한 함수 작성\n",
    "def visualize_silhouette(cluster_lists, X_features): \n",
    "    \n",
    "    from sklearn.datasets import make_blobs\n",
    "    from sklearn.cluster import KMeans\n",
    "    from sklearn.metrics import silhouette_samples, silhouette_score\n",
    "\n",
    "    import matplotlib.pyplot as plt\n",
    "    import matplotlib.cm as cm\n",
    "    import math\n",
    "    \n",
    "    # 입력값으로 클러스터링 갯수들을 리스트로 받아서, 각 갯수별로 클러스터링을 적용하고 실루엣 개수를 구함\n",
    "    n_cols = len(cluster_lists)\n",
    "    \n",
    "    # plt.subplots()으로 리스트에 기재된 클러스터링 수만큼의 sub figures를 가지는 axs 생성 \n",
    "    fig, axs = plt.subplots(figsize=(4*n_cols, 4), nrows=1, ncols=n_cols)\n",
    "    \n",
    "    # 리스트에 기재된 클러스터링 갯수들을 차례로 iteration 수행하면서 실루엣 개수 시각화\n",
    "    for ind, n_cluster in enumerate(cluster_lists):\n",
    "        \n",
    "        # KMeans 클러스터링 수행하고, 실루엣 스코어와 개별 데이터의 실루엣 값 계산. \n",
    "        clusterer = KMeans(n_clusters = n_cluster, max_iter=500, random_state=0)\n",
    "        cluster_labels = clusterer.fit_predict(X_features)\n",
    "        \n",
    "        sil_avg = silhouette_score(X_features, cluster_labels)\n",
    "        sil_values = silhouette_samples(X_features, cluster_labels)\n",
    "        \n",
    "        y_lower = 10\n",
    "        axs[ind].set_title('Number of Cluster : '+ str(n_cluster)+'\\n' \\\n",
    "                          'Silhouette Score :' + str(round(sil_avg,3)) )\n",
    "        axs[ind].set_xlabel(\"The silhouette coefficient values\")\n",
    "        axs[ind].set_ylabel(\"Cluster label\")\n",
    "        axs[ind].set_xlim([-0.1, 1])\n",
    "        axs[ind].set_ylim([0, len(X_features) + (n_cluster + 1) * 10])\n",
    "        axs[ind].set_yticks([])  # Clear the yaxis labels / ticks\n",
    "        axs[ind].set_xticks([0, 0.2, 0.4, 0.6, 0.8, 1])\n",
    "        \n",
    "        # 클러스터링 갯수별로 fill_betweenx( )형태의 막대 그래프 표현. \n",
    "        for i in range(n_cluster):\n",
    "            ith_cluster_sil_values = sil_values[cluster_labels==i]\n",
    "            ith_cluster_sil_values.sort()\n",
    "            \n",
    "            size_cluster_i = ith_cluster_sil_values.shape[0]\n",
    "            y_upper = y_lower + size_cluster_i\n",
    "            \n",
    "            color = cm.nipy_spectral(float(i) / n_cluster)\n",
    "            axs[ind].fill_betweenx(np.arange(y_lower, y_upper), 0, ith_cluster_sil_values, \\\n",
    "                                facecolor=color, edgecolor=color, alpha=0.7)\n",
    "            axs[ind].text(-0.05, y_lower + 0.5 * size_cluster_i, str(i))\n",
    "            y_lower = y_upper + 10\n",
    "            \n",
    "        axs[ind].axvline(x=sil_avg, color=\"red\", linestyle=\"--\")"
   ]
  },
  {
   "cell_type": "code",
   "execution_count": 36,
   "id": "5daa5d60-e42c-4ce6-8a7a-6a054df24f53",
   "metadata": {},
   "outputs": [],
   "source": [
    "def cal_dist(x1, y1, x2, y2, a, b):\n",
    "    area = abs((x1-a) * (y2-b) - (y1-b) * (x2 - a))\n",
    "    AB = ((x1-x2)**2 + (y1-y2)**2) **0.5\n",
    "    distance = area/AB\n",
    "    return distance"
   ]
  },
  {
   "cell_type": "code",
   "execution_count": 37,
   "id": "cb781bbe-2ea5-4810-b375-a0fd3a1630e6",
   "metadata": {},
   "outputs": [
    {
     "data": {
      "text/plain": [
       "(638, 19)"
      ]
     },
     "execution_count": 37,
     "metadata": {},
     "output_type": "execute_result"
    }
   ],
   "source": [
    "#고속도로 구간별 좌표 load\n",
    "traffic_df = pd.read_csv('도로종류별 교통량(좌표,휴게소,사고건수,화물차휴게소)추가_최종본.csv')\n",
    "traffic_df.shape"
   ]
  },
  {
   "cell_type": "code",
   "execution_count": 38,
   "id": "f1eccf1f-78b6-4f1b-a145-fc7535adc2d8",
   "metadata": {},
   "outputs": [],
   "source": [
    "#ast library 사용\n",
    "traffic_df['startpoint_coor'] = traffic_df['startpoint_coor'].apply(ast.literal_eval)\n",
    "traffic_df['endpoint_coor'] = traffic_df['endpoint_coor'].apply(ast.literal_eval)"
   ]
  },
  {
   "cell_type": "code",
   "execution_count": 39,
   "id": "80f65d5f-e804-455d-b1d5-c65124672d26",
   "metadata": {},
   "outputs": [],
   "source": [
    "#변수로 사용할 각 노선별 거리 측정\n",
    "km_list = []\n",
    "for i in range(len(traffic_df)):\n",
    "    startpoint = traffic_df['startpoint_coor'][i]\n",
    "    endpoint = traffic_df['endpoint_coor'][i]\n",
    "    \n",
    "    km = haversine(startpoint,endpoint)\n",
    "    km_list.append(km)\n",
    "traffic_df['distance'] = km_list"
   ]
  },
  {
   "cell_type": "code",
   "execution_count": 40,
   "id": "4bafede8-9060-4c00-b417-85b0ae729c58",
   "metadata": {},
   "outputs": [],
   "source": [
    "#지역 군집화\n",
    "x = []\n",
    "y = []\n",
    "for i in range(len(traffic_df)):\n",
    "    start_x, start_y = traffic_df['startpoint_coor'][i]\n",
    "    end_x, end_y = traffic_df['endpoint_coor'][i]\n",
    "    \n",
    "    center_x = (start_x + end_x) / 2\n",
    "    center_y = (start_y + end_y) / 2\n",
    "    \n",
    "    x.append(center_x)\n",
    "    y.append(center_y)\n",
    "\n",
    "traffic_df['center_x'] = x\n",
    "traffic_df['center_y'] = y"
   ]
  },
  {
   "cell_type": "code",
   "execution_count": 41,
   "id": "1bc85320-d551-48ef-aa46-ba3ea80ecfb6",
   "metadata": {},
   "outputs": [],
   "source": [
    "from sklearn.cluster import KMeans\n",
    "from sklearn.preprocessing import MinMaxScaler, StandardScaler, PowerTransformer, QuantileTransformer, RobustScaler\n",
    "\n",
    "data = traffic_df[['center_x', 'center_y']].values\n",
    "data = StandardScaler().fit_transform(data)\n",
    "kmeans = KMeans(n_clusters=4, random_state=51).fit(data) # 51\n",
    "traffic_df['geo_cluster_id'] = kmeans.labels_"
   ]
  },
  {
   "cell_type": "code",
   "execution_count": 42,
   "id": "aefd4244-aeec-4047-8493-d5791a69d139",
   "metadata": {},
   "outputs": [],
   "source": [
    "traffic_df.drop('Unnamed: 0',axis=1,inplace=True)"
   ]
  },
  {
   "cell_type": "code",
   "execution_count": 43,
   "id": "fbf3c81c-4c07-4483-a3fa-f8d7de089887",
   "metadata": {},
   "outputs": [],
   "source": [
    "#강원지역만 필터링\n",
    "traffic_df_gangwon = traffic_df[traffic_df['geo_cluster_id'] == 1]"
   ]
  },
  {
   "cell_type": "code",
   "execution_count": 44,
   "id": "c4d5545b-56f1-4bb7-a663-6dd909aa49c8",
   "metadata": {},
   "outputs": [
    {
     "data": {
      "text/html": [
       "<div>\n",
       "<style scoped>\n",
       "    .dataframe tbody tr th:only-of-type {\n",
       "        vertical-align: middle;\n",
       "    }\n",
       "\n",
       "    .dataframe tbody tr th {\n",
       "        vertical-align: top;\n",
       "    }\n",
       "\n",
       "    .dataframe thead th {\n",
       "        text-align: right;\n",
       "    }\n",
       "</style>\n",
       "<table border=\"1\" class=\"dataframe\">\n",
       "  <thead>\n",
       "    <tr style=\"text-align: right;\">\n",
       "      <th></th>\n",
       "      <th>index</th>\n",
       "      <th>노선번호</th>\n",
       "      <th>구간</th>\n",
       "      <th>이정</th>\n",
       "      <th>연장</th>\n",
       "      <th>2017</th>\n",
       "      <th>2018</th>\n",
       "      <th>2019</th>\n",
       "      <th>2020</th>\n",
       "      <th>계</th>\n",
       "      <th>...</th>\n",
       "      <th>startpoint</th>\n",
       "      <th>endpoint</th>\n",
       "      <th>startpoint_coor</th>\n",
       "      <th>endpoint_coor</th>\n",
       "      <th>rest_count</th>\n",
       "      <th>accident_count</th>\n",
       "      <th>distance</th>\n",
       "      <th>center_x</th>\n",
       "      <th>center_y</th>\n",
       "      <th>geo_cluster_id</th>\n",
       "    </tr>\n",
       "  </thead>\n",
       "  <tbody>\n",
       "    <tr>\n",
       "      <th>0</th>\n",
       "      <td>271</td>\n",
       "      <td>NaN</td>\n",
       "      <td>회인IC~보은IC</td>\n",
       "      <td>18.8~29.6</td>\n",
       "      <td>10.8</td>\n",
       "      <td>40711.0</td>\n",
       "      <td>35166.0</td>\n",
       "      <td>37124.0</td>\n",
       "      <td>37771.0</td>\n",
       "      <td>44,142</td>\n",
       "      <td>...</td>\n",
       "      <td>회인IC</td>\n",
       "      <td>보은IC</td>\n",
       "      <td>(36.4867607216413, 127.608658835495)</td>\n",
       "      <td>(36.45669341997925, 127.72057897489313)</td>\n",
       "      <td>0</td>\n",
       "      <td>1</td>\n",
       "      <td>10.551324</td>\n",
       "      <td>36.471727</td>\n",
       "      <td>127.664619</td>\n",
       "      <td>1</td>\n",
       "    </tr>\n",
       "    <tr>\n",
       "      <th>1</th>\n",
       "      <td>272</td>\n",
       "      <td>NaN</td>\n",
       "      <td>보은IC~속리산IC</td>\n",
       "      <td>29.6~35.6</td>\n",
       "      <td>6.0</td>\n",
       "      <td>37958.0</td>\n",
       "      <td>42308.0</td>\n",
       "      <td>39213.0</td>\n",
       "      <td>37586.0</td>\n",
       "      <td>41,240</td>\n",
       "      <td>...</td>\n",
       "      <td>보은IC</td>\n",
       "      <td>속리산IC</td>\n",
       "      <td>(36.45669341997925, 127.72057897489313)</td>\n",
       "      <td>(36.4556382830322, 127.786916855392)</td>\n",
       "      <td>0</td>\n",
       "      <td>0</td>\n",
       "      <td>5.934122</td>\n",
       "      <td>36.456166</td>\n",
       "      <td>127.753748</td>\n",
       "      <td>1</td>\n",
       "    </tr>\n",
       "    <tr>\n",
       "      <th>2</th>\n",
       "      <td>273</td>\n",
       "      <td>NaN</td>\n",
       "      <td>속리산IC~화서IC</td>\n",
       "      <td>35.6~51.8</td>\n",
       "      <td>16.2</td>\n",
       "      <td>35982.0</td>\n",
       "      <td>40774.0</td>\n",
       "      <td>36231.0</td>\n",
       "      <td>34601.0</td>\n",
       "      <td>39,554</td>\n",
       "      <td>...</td>\n",
       "      <td>속리산IC</td>\n",
       "      <td>화서IC</td>\n",
       "      <td>(36.4556382830322, 127.786916855392)</td>\n",
       "      <td>(36.4425366912992, 127.962402816848)</td>\n",
       "      <td>2</td>\n",
       "      <td>6</td>\n",
       "      <td>15.763568</td>\n",
       "      <td>36.449087</td>\n",
       "      <td>127.874660</td>\n",
       "      <td>1</td>\n",
       "    </tr>\n",
       "    <tr>\n",
       "      <th>3</th>\n",
       "      <td>274</td>\n",
       "      <td>NaN</td>\n",
       "      <td>화서IC~남상주IC</td>\n",
       "      <td>51.8~70.8</td>\n",
       "      <td>19.0</td>\n",
       "      <td>36847.0</td>\n",
       "      <td>40171.0</td>\n",
       "      <td>37625.0</td>\n",
       "      <td>35744.0</td>\n",
       "      <td>39,939</td>\n",
       "      <td>...</td>\n",
       "      <td>화서IC</td>\n",
       "      <td>남상주IC</td>\n",
       "      <td>(36.4425366912992, 127.962402816848)</td>\n",
       "      <td>(36.3678425216301, 128.140642144337)</td>\n",
       "      <td>0</td>\n",
       "      <td>6</td>\n",
       "      <td>17.984167</td>\n",
       "      <td>36.405190</td>\n",
       "      <td>128.051522</td>\n",
       "      <td>1</td>\n",
       "    </tr>\n",
       "    <tr>\n",
       "      <th>4</th>\n",
       "      <td>337</td>\n",
       "      <td>NaN</td>\n",
       "      <td>음성IC~서충주IC</td>\n",
       "      <td>72.4~77.8</td>\n",
       "      <td>5.4</td>\n",
       "      <td>28589.0</td>\n",
       "      <td>31748.0</td>\n",
       "      <td>30720.0</td>\n",
       "      <td>30506.0</td>\n",
       "      <td>33,759</td>\n",
       "      <td>...</td>\n",
       "      <td>음성IC</td>\n",
       "      <td>서충주IC</td>\n",
       "      <td>(36.9888709152251, 127.619380194658)</td>\n",
       "      <td>(37.0099220870185, 127.671334266729)</td>\n",
       "      <td>0</td>\n",
       "      <td>0</td>\n",
       "      <td>5.173614</td>\n",
       "      <td>36.999397</td>\n",
       "      <td>127.645357</td>\n",
       "      <td>1</td>\n",
       "    </tr>\n",
       "  </tbody>\n",
       "</table>\n",
       "<p>5 rows × 23 columns</p>\n",
       "</div>"
      ],
      "text/plain": [
       "   index 노선번호          구간         이정    연장     2017     2018     2019  \\\n",
       "0    271  NaN   회인IC~보은IC  18.8~29.6  10.8  40711.0  35166.0  37124.0   \n",
       "1    272  NaN  보은IC~속리산IC  29.6~35.6   6.0  37958.0  42308.0  39213.0   \n",
       "2    273  NaN  속리산IC~화서IC  35.6~51.8  16.2  35982.0  40774.0  36231.0   \n",
       "3    274  NaN  화서IC~남상주IC  51.8~70.8  19.0  36847.0  40171.0  37625.0   \n",
       "4    337  NaN  음성IC~서충주IC  72.4~77.8   5.4  28589.0  31748.0  30720.0   \n",
       "\n",
       "      2020       계  ...  startpoint  endpoint  \\\n",
       "0  37771.0  44,142  ...        회인IC      보은IC   \n",
       "1  37586.0  41,240  ...        보은IC     속리산IC   \n",
       "2  34601.0  39,554  ...       속리산IC      화서IC   \n",
       "3  35744.0  39,939  ...        화서IC     남상주IC   \n",
       "4  30506.0  33,759  ...        음성IC     서충주IC   \n",
       "\n",
       "                           startpoint_coor  \\\n",
       "0     (36.4867607216413, 127.608658835495)   \n",
       "1  (36.45669341997925, 127.72057897489313)   \n",
       "2     (36.4556382830322, 127.786916855392)   \n",
       "3     (36.4425366912992, 127.962402816848)   \n",
       "4     (36.9888709152251, 127.619380194658)   \n",
       "\n",
       "                             endpoint_coor rest_count accident_count  \\\n",
       "0  (36.45669341997925, 127.72057897489313)          0              1   \n",
       "1     (36.4556382830322, 127.786916855392)          0              0   \n",
       "2     (36.4425366912992, 127.962402816848)          2              6   \n",
       "3     (36.3678425216301, 128.140642144337)          0              6   \n",
       "4     (37.0099220870185, 127.671334266729)          0              0   \n",
       "\n",
       "    distance   center_x    center_y  geo_cluster_id  \n",
       "0  10.551324  36.471727  127.664619               1  \n",
       "1   5.934122  36.456166  127.753748               1  \n",
       "2  15.763568  36.449087  127.874660               1  \n",
       "3  17.984167  36.405190  128.051522               1  \n",
       "4   5.173614  36.999397  127.645357               1  \n",
       "\n",
       "[5 rows x 23 columns]"
      ]
     },
     "execution_count": 44,
     "metadata": {},
     "output_type": "execute_result"
    }
   ],
   "source": [
    "traffic_df_gangwon.reset_index(inplace=True)\n",
    "traffic_df_gangwon.head()"
   ]
  },
  {
   "cell_type": "code",
   "execution_count": 45,
   "id": "597f2253-981a-45ae-9b5a-62ab5f8376df",
   "metadata": {},
   "outputs": [],
   "source": [
    "#지도 시각화\n",
    "counts=[]\n",
    "grouping_map = folium.Map(location=[36, 127.5], tiles='cartodbpositron', zoom_start=7)\n",
    "\n",
    "for i in range(len(traffic_df_gangwon)):\n",
    "    startpoint = traffic_df_gangwon['startpoint_coor'][i]\n",
    "    endpoint = traffic_df_gangwon['endpoint_coor'][i]\n",
    "\n",
    "    rad = cal_rad(startpoint, endpoint)\n",
    "    deg = np.rad2deg(rad)\n",
    "    dist = 1.5\n",
    "    origin_start = geopy.Point(startpoint)\n",
    "    origin_end = geopy.Point(endpoint)\n",
    "\n",
    "    degree = [90+deg, 270+deg]\n",
    "\n",
    "    poly_a = []\n",
    "    poly_b = []\n",
    "\n",
    "\n",
    "    for de in degree:\n",
    "        destination_start = geodesic(kilometers=dist).destination(origin_start, de)\n",
    "        destination_end = geodesic(kilometers=dist).destination(origin_end, de)\n",
    "        new_lat1, new_lon1 = destination_start.latitude, destination_start.longitude\n",
    "        new_lat2, new_lon2 = destination_end.latitude, destination_end.longitude\n",
    "\n",
    "        poly_a.append([new_lat1, new_lon1])\n",
    "        poly_b.append([new_lat2, new_lon2])\n",
    "\n",
    "        \n",
    "    polygon_vect = np.array([poly_a[0],poly_b[0],poly_b[1],poly_a[1]])\n",
    "    polygon = Polygon(polygon_vect)\n",
    "    \n",
    "    folium.Polygon(locations=[poly_a[0], poly_b[0], poly_b[1], poly_a[1]],\n",
    "                  weight = 1,\n",
    "                  color = None, # traffic_color(traffic_df['traffic'][i])[0], #'#4287f5',\n",
    "                  fill_color = geo_cluster_color(id = traffic_df_gangwon['geo_cluster_id'][i])[0], # '#50aa50', \n",
    "                  fill_opacity=0.8, #0.2\n",
    "                      ).add_to(grouping_map)"
   ]
  },
  {
   "cell_type": "code",
   "execution_count": 46,
   "id": "f9444c97-7816-4061-89cf-8c686bc0cece",
   "metadata": {},
   "outputs": [
    {
     "data": {
      "text/html": [
       "<div style=\"width:100%;\"><div style=\"position:relative;width:100%;height:0;padding-bottom:60%;\"><span style=\"color:#565656\">Make this Notebook Trusted to load map: File -> Trust Notebook</span><iframe src=\"about:blank\" style=\"position:absolute;width:100%;height:100%;left:0;top:0;border:none !important;\" data-html=%3C%21DOCTYPE%20html%3E%0A%3Chead%3E%20%20%20%20%0A%20%20%20%20%3Cmeta%20http-equiv%3D%22content-type%22%20content%3D%22text/html%3B%20charset%3DUTF-8%22%20/%3E%0A%20%20%20%20%0A%20%20%20%20%20%20%20%20%3Cscript%3E%0A%20%20%20%20%20%20%20%20%20%20%20%20L_NO_TOUCH%20%3D%20false%3B%0A%20%20%20%20%20%20%20%20%20%20%20%20L_DISABLE_3D%20%3D%20false%3B%0A%20%20%20%20%20%20%20%20%3C/script%3E%0A%20%20%20%20%0A%20%20%20%20%3Cstyle%3Ehtml%2C%20body%20%7Bwidth%3A%20100%25%3Bheight%3A%20100%25%3Bmargin%3A%200%3Bpadding%3A%200%3B%7D%3C/style%3E%0A%20%20%20%20%3Cstyle%3E%23map%20%7Bposition%3Aabsolute%3Btop%3A0%3Bbottom%3A0%3Bright%3A0%3Bleft%3A0%3B%7D%3C/style%3E%0A%20%20%20%20%3Cscript%20src%3D%22https%3A//cdn.jsdelivr.net/npm/leaflet%401.6.0/dist/leaflet.js%22%3E%3C/script%3E%0A%20%20%20%20%3Cscript%20src%3D%22https%3A//code.jquery.com/jquery-1.12.4.min.js%22%3E%3C/script%3E%0A%20%20%20%20%3Cscript%20src%3D%22https%3A//maxcdn.bootstrapcdn.com/bootstrap/3.2.0/js/bootstrap.min.js%22%3E%3C/script%3E%0A%20%20%20%20%3Cscript%20src%3D%22https%3A//cdnjs.cloudflare.com/ajax/libs/Leaflet.awesome-markers/2.0.2/leaflet.awesome-markers.js%22%3E%3C/script%3E%0A%20%20%20%20%3Clink%20rel%3D%22stylesheet%22%20href%3D%22https%3A//cdn.jsdelivr.net/npm/leaflet%401.6.0/dist/leaflet.css%22/%3E%0A%20%20%20%20%3Clink%20rel%3D%22stylesheet%22%20href%3D%22https%3A//maxcdn.bootstrapcdn.com/bootstrap/3.2.0/css/bootstrap.min.css%22/%3E%0A%20%20%20%20%3Clink%20rel%3D%22stylesheet%22%20href%3D%22https%3A//maxcdn.bootstrapcdn.com/bootstrap/3.2.0/css/bootstrap-theme.min.css%22/%3E%0A%20%20%20%20%3Clink%20rel%3D%22stylesheet%22%20href%3D%22https%3A//maxcdn.bootstrapcdn.com/font-awesome/4.6.3/css/font-awesome.min.css%22/%3E%0A%20%20%20%20%3Clink%20rel%3D%22stylesheet%22%20href%3D%22https%3A//cdnjs.cloudflare.com/ajax/libs/Leaflet.awesome-markers/2.0.2/leaflet.awesome-markers.css%22/%3E%0A%20%20%20%20%3Clink%20rel%3D%22stylesheet%22%20href%3D%22https%3A//cdn.jsdelivr.net/gh/python-visualization/folium/folium/templates/leaflet.awesome.rotate.min.css%22/%3E%0A%20%20%20%20%0A%20%20%20%20%20%20%20%20%20%20%20%20%3Cmeta%20name%3D%22viewport%22%20content%3D%22width%3Ddevice-width%2C%0A%20%20%20%20%20%20%20%20%20%20%20%20%20%20%20%20initial-scale%3D1.0%2C%20maximum-scale%3D1.0%2C%20user-scalable%3Dno%22%20/%3E%0A%20%20%20%20%20%20%20%20%20%20%20%20%3Cstyle%3E%0A%20%20%20%20%20%20%20%20%20%20%20%20%20%20%20%20%23map_55094f1a776c4147b5ad73db012842ee%20%7B%0A%20%20%20%20%20%20%20%20%20%20%20%20%20%20%20%20%20%20%20%20position%3A%20relative%3B%0A%20%20%20%20%20%20%20%20%20%20%20%20%20%20%20%20%20%20%20%20width%3A%20100.0%25%3B%0A%20%20%20%20%20%20%20%20%20%20%20%20%20%20%20%20%20%20%20%20height%3A%20100.0%25%3B%0A%20%20%20%20%20%20%20%20%20%20%20%20%20%20%20%20%20%20%20%20left%3A%200.0%25%3B%0A%20%20%20%20%20%20%20%20%20%20%20%20%20%20%20%20%20%20%20%20top%3A%200.0%25%3B%0A%20%20%20%20%20%20%20%20%20%20%20%20%20%20%20%20%7D%0A%20%20%20%20%20%20%20%20%20%20%20%20%3C/style%3E%0A%20%20%20%20%20%20%20%20%0A%3C/head%3E%0A%3Cbody%3E%20%20%20%20%0A%20%20%20%20%0A%20%20%20%20%20%20%20%20%20%20%20%20%3Cdiv%20class%3D%22folium-map%22%20id%3D%22map_55094f1a776c4147b5ad73db012842ee%22%20%3E%3C/div%3E%0A%20%20%20%20%20%20%20%20%0A%3C/body%3E%0A%3Cscript%3E%20%20%20%20%0A%20%20%20%20%0A%20%20%20%20%20%20%20%20%20%20%20%20var%20map_55094f1a776c4147b5ad73db012842ee%20%3D%20L.map%28%0A%20%20%20%20%20%20%20%20%20%20%20%20%20%20%20%20%22map_55094f1a776c4147b5ad73db012842ee%22%2C%0A%20%20%20%20%20%20%20%20%20%20%20%20%20%20%20%20%7B%0A%20%20%20%20%20%20%20%20%20%20%20%20%20%20%20%20%20%20%20%20center%3A%20%5B36.0%2C%20127.5%5D%2C%0A%20%20%20%20%20%20%20%20%20%20%20%20%20%20%20%20%20%20%20%20crs%3A%20L.CRS.EPSG3857%2C%0A%20%20%20%20%20%20%20%20%20%20%20%20%20%20%20%20%20%20%20%20zoom%3A%207%2C%0A%20%20%20%20%20%20%20%20%20%20%20%20%20%20%20%20%20%20%20%20zoomControl%3A%20true%2C%0A%20%20%20%20%20%20%20%20%20%20%20%20%20%20%20%20%20%20%20%20preferCanvas%3A%20false%2C%0A%20%20%20%20%20%20%20%20%20%20%20%20%20%20%20%20%7D%0A%20%20%20%20%20%20%20%20%20%20%20%20%29%3B%0A%0A%20%20%20%20%20%20%20%20%20%20%20%20%0A%0A%20%20%20%20%20%20%20%20%0A%20%20%20%20%0A%20%20%20%20%20%20%20%20%20%20%20%20var%20tile_layer_f63fc4e0800b4aeeac39d2905d049b2e%20%3D%20L.tileLayer%28%0A%20%20%20%20%20%20%20%20%20%20%20%20%20%20%20%20%22https%3A//cartodb-basemaps-%7Bs%7D.global.ssl.fastly.net/light_all/%7Bz%7D/%7Bx%7D/%7By%7D.png%22%2C%0A%20%20%20%20%20%20%20%20%20%20%20%20%20%20%20%20%7B%22attribution%22%3A%20%22%5Cu0026copy%3B%20%5Cu003ca%20href%3D%5C%22http%3A//www.openstreetmap.org/copyright%5C%22%5Cu003eOpenStreetMap%5Cu003c/a%5Cu003e%20contributors%20%5Cu0026copy%3B%20%5Cu003ca%20href%3D%5C%22http%3A//cartodb.com/attributions%5C%22%5Cu003eCartoDB%5Cu003c/a%5Cu003e%2C%20CartoDB%20%5Cu003ca%20href%20%3D%5C%22http%3A//cartodb.com/attributions%5C%22%5Cu003eattributions%5Cu003c/a%5Cu003e%22%2C%20%22detectRetina%22%3A%20false%2C%20%22maxNativeZoom%22%3A%2018%2C%20%22maxZoom%22%3A%2018%2C%20%22minZoom%22%3A%200%2C%20%22noWrap%22%3A%20false%2C%20%22opacity%22%3A%201%2C%20%22subdomains%22%3A%20%22abc%22%2C%20%22tms%22%3A%20false%7D%0A%20%20%20%20%20%20%20%20%20%20%20%20%29.addTo%28map_55094f1a776c4147b5ad73db012842ee%29%3B%0A%20%20%20%20%20%20%20%20%0A%20%20%20%20%0A%20%20%20%20%20%20%20%20%20%20%20%20var%20polygon_2f5aa9f5ea8d4b46ad9c19f99dc6941a%20%3D%20L.polygon%28%0A%20%20%20%20%20%20%20%20%20%20%20%20%20%20%20%20%5B%5B36.49981514963022%2C%20127.61300272939944%5D%2C%20%5B36.469747913980704%2C%20127.72492119058943%5D%2C%20%5B36.443638739450776%2C%20127.71623821446153%5D%2C%20%5B36.47370610694393%2C%20127.60431639901411%5D%5D%2C%0A%20%20%20%20%20%20%20%20%20%20%20%20%20%20%20%20%7B%22bubblingMouseEvents%22%3A%20true%2C%20%22color%22%3A%20null%2C%20%22dashArray%22%3A%20null%2C%20%22dashOffset%22%3A%20null%2C%20%22fill%22%3A%20true%2C%20%22fillColor%22%3A%20%22%2306d6a0%22%2C%20%22fillOpacity%22%3A%200.8%2C%20%22fillRule%22%3A%20%22evenodd%22%2C%20%22lineCap%22%3A%20%22round%22%2C%20%22lineJoin%22%3A%20%22round%22%2C%20%22noClip%22%3A%20false%2C%20%22opacity%22%3A%201.0%2C%20%22smoothFactor%22%3A%201.0%2C%20%22stroke%22%3A%20true%2C%20%22weight%22%3A%201%7D%0A%20%20%20%20%20%20%20%20%20%20%20%20%29.addTo%28map_55094f1a776c4147b5ad73db012842ee%29%3B%0A%20%20%20%20%20%20%20%20%0A%20%20%20%20%0A%20%20%20%20%20%20%20%20%20%20%20%20var%20polygon_38dbc864262b457c9fe53aca2bbac4d2%20%3D%20L.polygon%28%0A%20%20%20%20%20%20%20%20%20%20%20%20%20%20%20%20%5B%5B36.470209167509175%2C%20127.72084514079557%5D%2C%20%5B36.469154032956986%2C%20127.78718301768721%5D%2C%20%5B36.44212250183957%2C%20127.78665078544643%5D%2C%20%5B36.44317764118112%2C%20127.72031290134514%5D%5D%2C%0A%20%20%20%20%20%20%20%20%20%20%20%20%20%20%20%20%7B%22bubblingMouseEvents%22%3A%20true%2C%20%22color%22%3A%20null%2C%20%22dashArray%22%3A%20null%2C%20%22dashOffset%22%3A%20null%2C%20%22fill%22%3A%20true%2C%20%22fillColor%22%3A%20%22%2306d6a0%22%2C%20%22fillOpacity%22%3A%200.8%2C%20%22fillRule%22%3A%20%22evenodd%22%2C%20%22lineCap%22%3A%20%22round%22%2C%20%22lineJoin%22%3A%20%22round%22%2C%20%22noClip%22%3A%20false%2C%20%22opacity%22%3A%201.0%2C%20%22smoothFactor%22%3A%201.0%2C%20%22stroke%22%3A%20true%2C%20%22weight%22%3A%201%7D%0A%20%20%20%20%20%20%20%20%20%20%20%20%29.addTo%28map_55094f1a776c4147b5ad73db012842ee%29%3B%0A%20%20%20%20%20%20%20%20%0A%20%20%20%20%0A%20%20%20%20%20%20%20%20%20%20%20%20var%20polygon_9205c60fc22d4996abe5ddf383bb3459%20%3D%20L.polygon%28%0A%20%20%20%20%20%20%20%20%20%20%20%20%20%20%20%20%5B%5B36.469118220236794%2C%20127.78816288596029%5D%2C%20%5B36.4560166581627%2C%20127.96364863780296%5D%2C%20%5B36.42905668093114%2C%20127.96115742680153%5D%2C%20%5B36.44215830231266%2C%20127.7856712560106%5D%5D%2C%0A%20%20%20%20%20%20%20%20%20%20%20%20%20%20%20%20%7B%22bubblingMouseEvents%22%3A%20true%2C%20%22color%22%3A%20null%2C%20%22dashArray%22%3A%20null%2C%20%22dashOffset%22%3A%20null%2C%20%22fill%22%3A%20true%2C%20%22fillColor%22%3A%20%22%2306d6a0%22%2C%20%22fillOpacity%22%3A%200.8%2C%20%22fillRule%22%3A%20%22evenodd%22%2C%20%22lineCap%22%3A%20%22round%22%2C%20%22lineJoin%22%3A%20%22round%22%2C%20%22noClip%22%3A%20false%2C%20%22opacity%22%3A%201.0%2C%20%22smoothFactor%22%3A%201.0%2C%20%22stroke%22%3A%20true%2C%20%22weight%22%3A%201%7D%0A%20%20%20%20%20%20%20%20%20%20%20%20%29.addTo%28map_55094f1a776c4147b5ad73db012842ee%29%3B%0A%20%20%20%20%20%20%20%20%0A%20%20%20%20%0A%20%20%20%20%20%20%20%20%20%20%20%20var%20polygon_57bb085f1efd4f5c9fcbc4fa6a399cee%20%3D%20L.polygon%28%0A%20%20%20%20%20%20%20%20%20%20%20%20%20%20%20%20%5B%5B36.455003550770634%2C%20127.96887015494822%5D%2C%20%5B36.38030953786927%2C%20128.14710329240904%5D%2C%20%5B36.35537513001465%2C%20128.13418305753817%5D%2C%20%5B36.430069455482105%2C%20127.95593754762501%5D%5D%2C%0A%20%20%20%20%20%20%20%20%20%20%20%20%20%20%20%20%7B%22bubblingMouseEvents%22%3A%20true%2C%20%22color%22%3A%20null%2C%20%22dashArray%22%3A%20null%2C%20%22dashOffset%22%3A%20null%2C%20%22fill%22%3A%20true%2C%20%22fillColor%22%3A%20%22%2306d6a0%22%2C%20%22fillOpacity%22%3A%200.8%2C%20%22fillRule%22%3A%20%22evenodd%22%2C%20%22lineCap%22%3A%20%22round%22%2C%20%22lineJoin%22%3A%20%22round%22%2C%20%22noClip%22%3A%20false%2C%20%22opacity%22%3A%201.0%2C%20%22smoothFactor%22%3A%201.0%2C%20%22stroke%22%3A%20true%2C%20%22weight%22%3A%201%7D%0A%20%20%20%20%20%20%20%20%20%20%20%20%29.addTo%28map_55094f1a776c4147b5ad73db012842ee%29%3B%0A%20%20%20%20%20%20%20%20%0A%20%20%20%20%0A%20%20%20%20%20%20%20%20%20%20%20%20var%20polygon_29fe7bbacd314353a546cb688cadf92f%20%3D%20L.polygon%28%0A%20%20%20%20%20%20%20%20%20%20%20%20%20%20%20%20%5B%5B37.001397731068096%2C%20127.61305171556904%5D%2C%20%5B37.02244885819626%2C%20127.66500404201027%5D%2C%20%5B36.9973949518241%2C%20127.67766241410001%5D%2C%20%5B36.97634373562724%2C%20127.62570659855633%5D%5D%2C%0A%20%20%20%20%20%20%20%20%20%20%20%20%20%20%20%20%7B%22bubblingMouseEvents%22%3A%20true%2C%20%22color%22%3A%20null%2C%20%22dashArray%22%3A%20null%2C%20%22dashOffset%22%3A%20null%2C%20%22fill%22%3A%20true%2C%20%22fillColor%22%3A%20%22%2306d6a0%22%2C%20%22fillOpacity%22%3A%200.8%2C%20%22fillRule%22%3A%20%22evenodd%22%2C%20%22lineCap%22%3A%20%22round%22%2C%20%22lineJoin%22%3A%20%22round%22%2C%20%22noClip%22%3A%20false%2C%20%22opacity%22%3A%201.0%2C%20%22smoothFactor%22%3A%201.0%2C%20%22stroke%22%3A%20true%2C%20%22weight%22%3A%201%7D%0A%20%20%20%20%20%20%20%20%20%20%20%20%29.addTo%28map_55094f1a776c4147b5ad73db012842ee%29%3B%0A%20%20%20%20%20%20%20%20%0A%20%20%20%20%0A%20%20%20%20%20%20%20%20%20%20%20%20var%20polygon_329744880485421daa878c8db4bfbd2a%20%3D%20L.polygon%28%0A%20%20%20%20%20%20%20%20%20%20%20%20%20%20%20%20%5B%5B37.02225685059399%2C%20127.66444259387902%5D%2C%20%5B37.05250246494563%2C%20127.73195371191443%5D%2C%20%5B37.027832638099056%2C%20127.74574029528182%5D%2C%20%5B36.997586897705276%2C%20127.6782237126381%5D%5D%2C%0A%20%20%20%20%20%20%20%20%20%20%20%20%20%20%20%20%7B%22bubblingMouseEvents%22%3A%20true%2C%20%22color%22%3A%20null%2C%20%22dashArray%22%3A%20null%2C%20%22dashOffset%22%3A%20null%2C%20%22fill%22%3A%20true%2C%20%22fillColor%22%3A%20%22%2306d6a0%22%2C%20%22fillOpacity%22%3A%200.8%2C%20%22fillRule%22%3A%20%22evenodd%22%2C%20%22lineCap%22%3A%20%22round%22%2C%20%22lineJoin%22%3A%20%22round%22%2C%20%22noClip%22%3A%20false%2C%20%22opacity%22%3A%201.0%2C%20%22smoothFactor%22%3A%201.0%2C%20%22stroke%22%3A%20true%2C%20%22weight%22%3A%201%7D%0A%20%20%20%20%20%20%20%20%20%20%20%20%29.addTo%28map_55094f1a776c4147b5ad73db012842ee%29%3B%0A%20%20%20%20%20%20%20%20%0A%20%20%20%20%0A%20%20%20%20%20%20%20%20%20%20%20%20var%20polygon_1b583f0385494a3eacdb439990c3b3e6%20%3D%20L.polygon%28%0A%20%20%20%20%20%20%20%20%20%20%20%20%20%20%20%20%5B%5B37.05365785436522%2C%20127.73989429289188%5D%2C%20%5B37.049588216193435%2C%20127.80536768799483%5D%2C%20%5B37.022607978173234%2C%20127.803275821434%5D%2C%20%5B37.02667763489505%2C%20127.73780231468729%5D%5D%2C%0A%20%20%20%20%20%20%20%20%20%20%20%20%20%20%20%20%7B%22bubblingMouseEvents%22%3A%20true%2C%20%22color%22%3A%20null%2C%20%22dashArray%22%3A%20null%2C%20%22dashOffset%22%3A%20null%2C%20%22fill%22%3A%20true%2C%20%22fillColor%22%3A%20%22%2306d6a0%22%2C%20%22fillOpacity%22%3A%200.8%2C%20%22fillRule%22%3A%20%22evenodd%22%2C%20%22lineCap%22%3A%20%22round%22%2C%20%22lineJoin%22%3A%20%22round%22%2C%20%22noClip%22%3A%20false%2C%20%22opacity%22%3A%201.0%2C%20%22smoothFactor%22%3A%201.0%2C%20%22stroke%22%3A%20true%2C%20%22weight%22%3A%201%7D%0A%20%20%20%20%20%20%20%20%20%20%20%20%29.addTo%28map_55094f1a776c4147b5ad73db012842ee%29%3B%0A%20%20%20%20%20%20%20%20%0A%20%20%20%20%0A%20%20%20%20%20%20%20%20%20%20%20%20var%20polygon_ee280389c63a4208ac8bf8166fca967c%20%3D%20L.polygon%28%0A%20%20%20%20%20%20%20%20%20%20%20%20%20%20%20%20%5B%5B37.049238108974166%2C%20127.80037143654144%5D%2C%20%5B37.077345836590474%2C%20127.91701982877787%5D%2C%20%5B37.051065817156925%2C%20127.92492164743449%5D%2C%20%5B37.022957964730956%2C%20127.80827034182644%5D%5D%2C%0A%20%20%20%20%20%20%20%20%20%20%20%20%20%20%20%20%7B%22bubblingMouseEvents%22%3A%20true%2C%20%22color%22%3A%20null%2C%20%22dashArray%22%3A%20null%2C%20%22dashOffset%22%3A%20null%2C%20%22fill%22%3A%20true%2C%20%22fillColor%22%3A%20%22%2306d6a0%22%2C%20%22fillOpacity%22%3A%200.8%2C%20%22fillRule%22%3A%20%22evenodd%22%2C%20%22lineCap%22%3A%20%22round%22%2C%20%22lineJoin%22%3A%20%22round%22%2C%20%22noClip%22%3A%20false%2C%20%22opacity%22%3A%201.0%2C%20%22smoothFactor%22%3A%201.0%2C%20%22stroke%22%3A%20true%2C%20%22weight%22%3A%201%7D%0A%20%20%20%20%20%20%20%20%20%20%20%20%29.addTo%28map_55094f1a776c4147b5ad73db012842ee%29%3B%0A%20%20%20%20%20%20%20%20%0A%20%20%20%20%0A%20%20%20%20%20%20%20%20%20%20%20%20var%20polygon_eb364e1b2a3b482c9d651e5b5d0dce82%20%3D%20L.polygon%28%0A%20%20%20%20%20%20%20%20%20%20%20%20%20%20%20%20%5B%5B37.07769569129141%2C%20127.91991989002474%5D%2C%20%5B37.093558556094344%2C%20128.17390143383588%5D%2C%20%5B37.06657902028458%2C%20128.17600455857945%5D%2C%20%5B37.050716083153375%2C%20127.92202257677025%5D%5D%2C%0A%20%20%20%20%20%20%20%20%20%20%20%20%20%20%20%20%7B%22bubblingMouseEvents%22%3A%20true%2C%20%22color%22%3A%20null%2C%20%22dashArray%22%3A%20null%2C%20%22dashOffset%22%3A%20null%2C%20%22fill%22%3A%20true%2C%20%22fillColor%22%3A%20%22%2306d6a0%22%2C%20%22fillOpacity%22%3A%200.8%2C%20%22fillRule%22%3A%20%22evenodd%22%2C%20%22lineCap%22%3A%20%22round%22%2C%20%22lineJoin%22%3A%20%22round%22%2C%20%22noClip%22%3A%20false%2C%20%22opacity%22%3A%201.0%2C%20%22smoothFactor%22%3A%201.0%2C%20%22stroke%22%3A%20true%2C%20%22weight%22%3A%201%7D%0A%20%20%20%20%20%20%20%20%20%20%20%20%29.addTo%28map_55094f1a776c4147b5ad73db012842ee%29%3B%0A%20%20%20%20%20%20%20%20%0A%20%20%20%20%0A%20%20%20%20%20%20%20%20%20%20%20%20var%20polygon_e093f772e2d5427ca3a66349fc1869ac%20%3D%20L.polygon%28%0A%20%20%20%20%20%20%20%20%20%20%20%20%20%20%20%20%5B%5B36.417954560875714%2C%20128.1976961509539%5D%2C%20%5B36.526022110444046%2C%20128.1535492294517%5D%2C%20%5B36.53624163197679%2C%20128.18456246126829%5D%2C%20%5B36.428174267902264%2C%20128.2286663523571%5D%5D%2C%0A%20%20%20%20%20%20%20%20%20%20%20%20%20%20%20%20%7B%22bubblingMouseEvents%22%3A%20true%2C%20%22color%22%3A%20null%2C%20%22dashArray%22%3A%20null%2C%20%22dashOffset%22%3A%20null%2C%20%22fill%22%3A%20true%2C%20%22fillColor%22%3A%20%22%2306d6a0%22%2C%20%22fillOpacity%22%3A%200.8%2C%20%22fillRule%22%3A%20%22evenodd%22%2C%20%22lineCap%22%3A%20%22round%22%2C%20%22lineJoin%22%3A%20%22round%22%2C%20%22noClip%22%3A%20false%2C%20%22opacity%22%3A%201.0%2C%20%22smoothFactor%22%3A%201.0%2C%20%22stroke%22%3A%20true%2C%20%22weight%22%3A%201%7D%0A%20%20%20%20%20%20%20%20%20%20%20%20%29.addTo%28map_55094f1a776c4147b5ad73db012842ee%29%3B%0A%20%20%20%20%20%20%20%20%0A%20%20%20%20%0A%20%20%20%20%20%20%20%20%20%20%20%20var%20polygon_1cf2e13250a54d99ac2b9aeea2cf44a0%20%3D%20L.polygon%28%0A%20%20%20%20%20%20%20%20%20%20%20%20%20%20%20%20%5B%5B36.52775937818946%2C%20128.15283573835364%5D%2C%20%5B36.582757079855575%2C%20128.13865494260372%5D%2C%20%5B36.58950181630582%2C%20128.17111752367106%5D%2C%20%5B36.53450417699777%2C%20128.18527532065514%5D%5D%2C%0A%20%20%20%20%20%20%20%20%20%20%20%20%20%20%20%20%7B%22bubblingMouseEvents%22%3A%20true%2C%20%22color%22%3A%20null%2C%20%22dashArray%22%3A%20null%2C%20%22dashOffset%22%3A%20null%2C%20%22fill%22%3A%20true%2C%20%22fillColor%22%3A%20%22%2306d6a0%22%2C%20%22fillOpacity%22%3A%200.8%2C%20%22fillRule%22%3A%20%22evenodd%22%2C%20%22lineCap%22%3A%20%22round%22%2C%20%22lineJoin%22%3A%20%22round%22%2C%20%22noClip%22%3A%20false%2C%20%22opacity%22%3A%201.0%2C%20%22smoothFactor%22%3A%201.0%2C%20%22stroke%22%3A%20true%2C%20%22weight%22%3A%201%7D%0A%20%20%20%20%20%20%20%20%20%20%20%20%29.addTo%28map_55094f1a776c4147b5ad73db012842ee%29%3B%0A%20%20%20%20%20%20%20%20%0A%20%20%20%20%0A%20%20%20%20%20%20%20%20%20%20%20%20var%20polygon_31079b1b6ae449dea4437127db6ad97b%20%3D%20L.polygon%28%0A%20%20%20%20%20%20%20%20%20%20%20%20%20%20%20%20%5B%5B36.581351022435406%2C%20128.1392074613711%5D%2C%20%5B36.69640442982034%2C%20128.09570373813162%5D%2C%20%5B36.70596124201749%2C%20128.12710847404762%5D%2C%20%5B36.590908019640594%2C%20128.1705655256337%5D%5D%2C%0A%20%20%20%20%20%20%20%20%20%20%20%20%20%20%20%20%7B%22bubblingMouseEvents%22%3A%20true%2C%20%22color%22%3A%20null%2C%20%22dashArray%22%3A%20null%2C%20%22dashOffset%22%3A%20null%2C%20%22fill%22%3A%20true%2C%20%22fillColor%22%3A%20%22%2306d6a0%22%2C%20%22fillOpacity%22%3A%200.8%2C%20%22fillRule%22%3A%20%22evenodd%22%2C%20%22lineCap%22%3A%20%22round%22%2C%20%22lineJoin%22%3A%20%22round%22%2C%20%22noClip%22%3A%20false%2C%20%22opacity%22%3A%201.0%2C%20%22smoothFactor%22%3A%201.0%2C%20%22stroke%22%3A%20true%2C%20%22weight%22%3A%201%7D%0A%20%20%20%20%20%20%20%20%20%20%20%20%29.addTo%28map_55094f1a776c4147b5ad73db012842ee%29%3B%0A%20%20%20%20%20%20%20%20%0A%20%20%20%20%0A%20%20%20%20%20%20%20%20%20%20%20%20var%20polygon_98f7cec2dc41456a8b1c49535e712ea5%20%3D%20L.polygon%28%0A%20%20%20%20%20%20%20%20%20%20%20%20%20%20%20%20%5B%5B36.68902671122279%2C%20128.10406807799143%5D%2C%20%5B36.746879303792895%2C%20127.98503932622279%5D%2C%20%5B36.7711929139269%2C%20127.99972676407741%5D%2C%20%5B36.71334055824398%2C%20128.1187445014982%5D%5D%2C%0A%20%20%20%20%20%20%20%20%20%20%20%20%20%20%20%20%7B%22bubblingMouseEvents%22%3A%20true%2C%20%22color%22%3A%20null%2C%20%22dashArray%22%3A%20null%2C%20%22dashOffset%22%3A%20null%2C%20%22fill%22%3A%20true%2C%20%22fillColor%22%3A%20%22%2306d6a0%22%2C%20%22fillOpacity%22%3A%200.8%2C%20%22fillRule%22%3A%20%22evenodd%22%2C%20%22lineCap%22%3A%20%22round%22%2C%20%22lineJoin%22%3A%20%22round%22%2C%20%22noClip%22%3A%20false%2C%20%22opacity%22%3A%201.0%2C%20%22smoothFactor%22%3A%201.0%2C%20%22stroke%22%3A%20true%2C%20%22weight%22%3A%201%7D%0A%20%20%20%20%20%20%20%20%20%20%20%20%29.addTo%28map_55094f1a776c4147b5ad73db012842ee%29%3B%0A%20%20%20%20%20%20%20%20%0A%20%20%20%20%0A%20%20%20%20%20%20%20%20%20%20%20%20var%20polygon_188b974fa4424a558419262221dbd52d%20%3D%20L.polygon%28%0A%20%20%20%20%20%20%20%20%20%20%20%20%20%20%20%20%5B%5B36.751766594367105%2C%20127.97822023161726%5D%2C%20%5B36.859946963174416%2C%20127.90919721792321%5D%2C%20%5B36.874484510498895%2C%20127.93756308488685%5D%2C%20%5B36.76630440677845%2C%20128.0065462136724%5D%5D%2C%0A%20%20%20%20%20%20%20%20%20%20%20%20%20%20%20%20%7B%22bubblingMouseEvents%22%3A%20true%2C%20%22color%22%3A%20null%2C%20%22dashArray%22%3A%20null%2C%20%22dashOffset%22%3A%20null%2C%20%22fill%22%3A%20true%2C%20%22fillColor%22%3A%20%22%2306d6a0%22%2C%20%22fillOpacity%22%3A%200.8%2C%20%22fillRule%22%3A%20%22evenodd%22%2C%20%22lineCap%22%3A%20%22round%22%2C%20%22lineJoin%22%3A%20%22round%22%2C%20%22noClip%22%3A%20false%2C%20%22opacity%22%3A%201.0%2C%20%22smoothFactor%22%3A%201.0%2C%20%22stroke%22%3A%20true%2C%20%22weight%22%3A%201%7D%0A%20%20%20%20%20%20%20%20%20%20%20%20%29.addTo%28map_55094f1a776c4147b5ad73db012842ee%29%3B%0A%20%20%20%20%20%20%20%20%0A%20%20%20%20%0A%20%20%20%20%20%20%20%20%20%20%20%20var%20polygon_cb7b4fbc44b94271aa9a9c0d9cfbd763%20%3D%20L.polygon%28%0A%20%20%20%20%20%20%20%20%20%20%20%20%20%20%20%20%5B%5B36.85953689595524%2C%20127.90953605954088%5D%2C%20%5B36.97081045001812%2C%20127.83270041648208%5D%2C%20%5B36.98616792226732%2C%20127.86042894746056%5D%2C%20%5B36.874894656575016%2C%20127.93722432706572%5D%5D%2C%0A%20%20%20%20%20%20%20%20%20%20%20%20%20%20%20%20%7B%22bubblingMouseEvents%22%3A%20true%2C%20%22color%22%3A%20null%2C%20%22dashArray%22%3A%20null%2C%20%22dashOffset%22%3A%20null%2C%20%22fill%22%3A%20true%2C%20%22fillColor%22%3A%20%22%2306d6a0%22%2C%20%22fillOpacity%22%3A%200.8%2C%20%22fillRule%22%3A%20%22evenodd%22%2C%20%22lineCap%22%3A%20%22round%22%2C%20%22lineJoin%22%3A%20%22round%22%2C%20%22noClip%22%3A%20false%2C%20%22opacity%22%3A%201.0%2C%20%22smoothFactor%22%3A%201.0%2C%20%22stroke%22%3A%20true%2C%20%22weight%22%3A%201%7D%0A%20%20%20%20%20%20%20%20%20%20%20%20%29.addTo%28map_55094f1a776c4147b5ad73db012842ee%29%3B%0A%20%20%20%20%20%20%20%20%0A%20%20%20%20%0A%20%20%20%20%20%20%20%20%20%20%20%20var%20polygon_5f112d59711c4441ac5d3f5b81289371%20%3D%20L.polygon%28%0A%20%20%20%20%20%20%20%20%20%20%20%20%20%20%20%20%5B%5B36.96970086717158%2C%20127.83376520684766%5D%2C%20%5B37.026066468308024%2C%20127.78551712344512%5D%2C%20%5B37.04364317495942%2C%20127.81113513891357%5D%2C%20%5B36.98727774114722%2C%20127.85936431485415%5D%5D%2C%0A%20%20%20%20%20%20%20%20%20%20%20%20%20%20%20%20%7B%22bubblingMouseEvents%22%3A%20true%2C%20%22color%22%3A%20null%2C%20%22dashArray%22%3A%20null%2C%20%22dashOffset%22%3A%20null%2C%20%22fill%22%3A%20true%2C%20%22fillColor%22%3A%20%22%2306d6a0%22%2C%20%22fillOpacity%22%3A%200.8%2C%20%22fillRule%22%3A%20%22evenodd%22%2C%20%22lineCap%22%3A%20%22round%22%2C%20%22lineJoin%22%3A%20%22round%22%2C%20%22noClip%22%3A%20false%2C%20%22opacity%22%3A%201.0%2C%20%22smoothFactor%22%3A%201.0%2C%20%22stroke%22%3A%20true%2C%20%22weight%22%3A%201%7D%0A%20%20%20%20%20%20%20%20%20%20%20%20%29.addTo%28map_55094f1a776c4147b5ad73db012842ee%29%3B%0A%20%20%20%20%20%20%20%20%0A%20%20%20%20%0A%20%20%20%20%20%20%20%20%20%20%20%20var%20polygon_f1d1b0246c434537837c0aabe9f81940%20%3D%20L.polygon%28%0A%20%20%20%20%20%20%20%20%20%20%20%20%20%20%20%20%5B%5B37.02139293022736%2C%20127.79682506338526%5D%2C%20%5B37.026705187405724%2C%20127.73734842257696%5D%2C%20%5B37.05363029223905%2C%20127.74034834455244%5D%2C%20%5B37.04831805922502%2C%20127.79982477638531%5D%5D%2C%0A%20%20%20%20%20%20%20%20%20%20%20%20%20%20%20%20%7B%22bubblingMouseEvents%22%3A%20true%2C%20%22color%22%3A%20null%2C%20%22dashArray%22%3A%20null%2C%20%22dashOffset%22%3A%20null%2C%20%22fill%22%3A%20true%2C%20%22fillColor%22%3A%20%22%2306d6a0%22%2C%20%22fillOpacity%22%3A%200.8%2C%20%22fillRule%22%3A%20%22evenodd%22%2C%20%22lineCap%22%3A%20%22round%22%2C%20%22lineJoin%22%3A%20%22round%22%2C%20%22noClip%22%3A%20false%2C%20%22opacity%22%3A%201.0%2C%20%22smoothFactor%22%3A%201.0%2C%20%22stroke%22%3A%20true%2C%20%22weight%22%3A%201%7D%0A%20%20%20%20%20%20%20%20%20%20%20%20%29.addTo%28map_55094f1a776c4147b5ad73db012842ee%29%3B%0A%20%20%20%20%20%20%20%20%0A%20%20%20%20%0A%20%20%20%20%20%20%20%20%20%20%20%20var%20polygon_39d58caa575749e0b78bd2b8e47a8794%20%3D%20L.polygon%28%0A%20%20%20%20%20%20%20%20%20%20%20%20%20%20%20%20%5B%5B37.03163081128747%2C%20127.7257770773653%5D%2C%20%5B37.11602444243088%2C%20127.65701834422293%5D%2C%20%5B37.13309665298734%2C%20127.68319235206879%5D%2C%20%5B37.04870326536611%2C%20127.75192208707362%5D%5D%2C%0A%20%20%20%20%20%20%20%20%20%20%20%20%20%20%20%20%7B%22bubblingMouseEvents%22%3A%20true%2C%20%22color%22%3A%20null%2C%20%22dashArray%22%3A%20null%2C%20%22dashOffset%22%3A%20null%2C%20%22fill%22%3A%20true%2C%20%22fillColor%22%3A%20%22%2306d6a0%22%2C%20%22fillOpacity%22%3A%200.8%2C%20%22fillRule%22%3A%20%22evenodd%22%2C%20%22lineCap%22%3A%20%22round%22%2C%20%22lineJoin%22%3A%20%22round%22%2C%20%22noClip%22%3A%20false%2C%20%22opacity%22%3A%201.0%2C%20%22smoothFactor%22%3A%201.0%2C%20%22stroke%22%3A%20true%2C%20%22weight%22%3A%201%7D%0A%20%20%20%20%20%20%20%20%20%20%20%20%29.addTo%28map_55094f1a776c4147b5ad73db012842ee%29%3B%0A%20%20%20%20%20%20%20%20%0A%20%20%20%20%0A%20%20%20%20%20%20%20%20%20%20%20%20var%20polygon_fd2fd36eeb124b06b5cff27eff3b2b68%20%3D%20L.polygon%28%0A%20%20%20%20%20%20%20%20%20%20%20%20%20%20%20%20%5B%5B37.11650160461014%2C%20127.65655464117533%5D%2C%20%5B37.223977099803356%2C%20127.57671189152485%5D%2C%20%5B37.240094590096135%2C%20127.60385165922673%5D%2C%20%5B37.13261938796623%2C%20127.6836559891132%5D%5D%2C%0A%20%20%20%20%20%20%20%20%20%20%20%20%20%20%20%20%7B%22bubblingMouseEvents%22%3A%20true%2C%20%22color%22%3A%20null%2C%20%22dashArray%22%3A%20null%2C%20%22dashOffset%22%3A%20null%2C%20%22fill%22%3A%20true%2C%20%22fillColor%22%3A%20%22%2306d6a0%22%2C%20%22fillOpacity%22%3A%200.8%2C%20%22fillRule%22%3A%20%22evenodd%22%2C%20%22lineCap%22%3A%20%22round%22%2C%20%22lineJoin%22%3A%20%22round%22%2C%20%22noClip%22%3A%20false%2C%20%22opacity%22%3A%201.0%2C%20%22smoothFactor%22%3A%201.0%2C%20%22stroke%22%3A%20true%2C%20%22weight%22%3A%201%7D%0A%20%20%20%20%20%20%20%20%20%20%20%20%29.addTo%28map_55094f1a776c4147b5ad73db012842ee%29%3B%0A%20%20%20%20%20%20%20%20%0A%20%20%20%20%0A%20%20%20%20%20%20%20%20%20%20%20%20var%20polygon_4720f08b7b8448a487f96d3098e67c8d%20%3D%20L.polygon%28%0A%20%20%20%20%20%20%20%20%20%20%20%20%20%20%20%20%5B%5B37.24487584209962%2C%20127.58499921974499%5D%2C%20%5B37.265688772125955%2C%20127.64829084856879%5D%2C%20%5B37.24001017081514%2C%20127.65885418492329%5D%2C%20%5B37.21919715031341%2C%20127.59555965184047%5D%5D%2C%0A%20%20%20%20%20%20%20%20%20%20%20%20%20%20%20%20%7B%22bubblingMouseEvents%22%3A%20true%2C%20%22color%22%3A%20null%2C%20%22dashArray%22%3A%20null%2C%20%22dashOffset%22%3A%20null%2C%20%22fill%22%3A%20true%2C%20%22fillColor%22%3A%20%22%2306d6a0%22%2C%20%22fillOpacity%22%3A%200.8%2C%20%22fillRule%22%3A%20%22evenodd%22%2C%20%22lineCap%22%3A%20%22round%22%2C%20%22lineJoin%22%3A%20%22round%22%2C%20%22noClip%22%3A%20false%2C%20%22opacity%22%3A%201.0%2C%20%22smoothFactor%22%3A%201.0%2C%20%22stroke%22%3A%20true%2C%20%22weight%22%3A%201%7D%0A%20%20%20%20%20%20%20%20%20%20%20%20%29.addTo%28map_55094f1a776c4147b5ad73db012842ee%29%3B%0A%20%20%20%20%20%20%20%20%0A%20%20%20%20%0A%20%20%20%20%20%20%20%20%20%20%20%20var%20polygon_c2081eea2b844481bf90978793d2813d%20%3D%20L.polygon%28%0A%20%20%20%20%20%20%20%20%20%20%20%20%20%20%20%20%5B%5B37.26563932066606%2C%20127.64810630953473%5D%2C%20%5B37.324756135330794%2C%20127.82114166957162%5D%2C%20%5B37.29917667650015%2C%20127.8320825828504%5D%2C%20%5B37.24005960574149%2C%20127.65903866848068%5D%5D%2C%0A%20%20%20%20%20%20%20%20%20%20%20%20%20%20%20%20%7B%22bubblingMouseEvents%22%3A%20true%2C%20%22color%22%3A%20null%2C%20%22dashArray%22%3A%20null%2C%20%22dashOffset%22%3A%20null%2C%20%22fill%22%3A%20true%2C%20%22fillColor%22%3A%20%22%2306d6a0%22%2C%20%22fillOpacity%22%3A%200.8%2C%20%22fillRule%22%3A%20%22evenodd%22%2C%20%22lineCap%22%3A%20%22round%22%2C%20%22lineJoin%22%3A%20%22round%22%2C%20%22noClip%22%3A%20false%2C%20%22opacity%22%3A%201.0%2C%20%22smoothFactor%22%3A%201.0%2C%20%22stroke%22%3A%20true%2C%20%22weight%22%3A%201%7D%0A%20%20%20%20%20%20%20%20%20%20%20%20%29.addTo%28map_55094f1a776c4147b5ad73db012842ee%29%3B%0A%20%20%20%20%20%20%20%20%0A%20%20%20%20%0A%20%20%20%20%20%20%20%20%20%20%20%20var%20polygon_72051023671746eba3789969ae6ec60d%20%3D%20L.polygon%28%0A%20%20%20%20%20%20%20%20%20%20%20%20%20%20%20%20%5B%5B37.323032950481796%2C%20127.8168981222174%5D%2C%20%5B37.37615371689023%2C%20127.89266306364254%5D%2C%20%5B37.35402028953429%2C%20127.91210376412705%5D%2C%20%5B37.30089932389942%2C%20127.8363251359739%5D%5D%2C%0A%20%20%20%20%20%20%20%20%20%20%20%20%20%20%20%20%7B%22bubblingMouseEvents%22%3A%20true%2C%20%22color%22%3A%20null%2C%20%22dashArray%22%3A%20null%2C%20%22dashOffset%22%3A%20null%2C%20%22fill%22%3A%20true%2C%20%22fillColor%22%3A%20%22%2306d6a0%22%2C%20%22fillOpacity%22%3A%200.8%2C%20%22fillRule%22%3A%20%22evenodd%22%2C%20%22lineCap%22%3A%20%22round%22%2C%20%22lineJoin%22%3A%20%22round%22%2C%20%22noClip%22%3A%20false%2C%20%22opacity%22%3A%201.0%2C%20%22smoothFactor%22%3A%201.0%2C%20%22stroke%22%3A%20true%2C%20%22weight%22%3A%201%7D%0A%20%20%20%20%20%20%20%20%20%20%20%20%29.addTo%28map_55094f1a776c4147b5ad73db012842ee%29%3B%0A%20%20%20%20%20%20%20%20%0A%20%20%20%20%0A%20%20%20%20%20%20%20%20%20%20%20%20var%20polygon_f95ec410996a4dbbbfc3ccb58fb61e72%20%3D%20L.polygon%28%0A%20%20%20%20%20%20%20%20%20%20%20%20%20%20%20%20%5B%5B37.375820661979446%2C%20127.89209354494216%5D%2C%20%5B37.39794115179052%2C%20127.92100015796105%5D%2C%20%5B37.37647381963923%2C%20127.94158586410062%5D%2C%20%5B37.354353249334146%2C%20127.91267320650257%5D%5D%2C%0A%20%20%20%20%20%20%20%20%20%20%20%20%20%20%20%20%7B%22bubblingMouseEvents%22%3A%20true%2C%20%22color%22%3A%20null%2C%20%22dashArray%22%3A%20null%2C%20%22dashOffset%22%3A%20null%2C%20%22fill%22%3A%20true%2C%20%22fillColor%22%3A%20%22%2306d6a0%22%2C%20%22fillOpacity%22%3A%200.8%2C%20%22fillRule%22%3A%20%22evenodd%22%2C%20%22lineCap%22%3A%20%22round%22%2C%20%22lineJoin%22%3A%20%22round%22%2C%20%22noClip%22%3A%20false%2C%20%22opacity%22%3A%201.0%2C%20%22smoothFactor%22%3A%201.0%2C%20%22stroke%22%3A%20true%2C%20%22weight%22%3A%201%7D%0A%20%20%20%20%20%20%20%20%20%20%20%20%29.addTo%28map_55094f1a776c4147b5ad73db012842ee%29%3B%0A%20%20%20%20%20%20%20%20%0A%20%20%20%20%0A%20%20%20%20%20%20%20%20%20%20%20%20var%20polygon_eaf24e6958de42719b68af3d993de03b%20%3D%20L.polygon%28%0A%20%20%20%20%20%20%20%20%20%20%20%20%20%20%20%20%5B%5B37.398152164545806%2C%20127.92135526616889%5D%2C%20%5B37.41193726289128%2C%20127.9403799260036%5D%2C%20%5B37.39004801635684%2C%20127.96025910143621%5D%2C%20%5B37.376262866854255%2C%20127.94123080143912%5D%5D%2C%0A%20%20%20%20%20%20%20%20%20%20%20%20%20%20%20%20%7B%22bubblingMouseEvents%22%3A%20true%2C%20%22color%22%3A%20null%2C%20%22dashArray%22%3A%20null%2C%20%22dashOffset%22%3A%20null%2C%20%22fill%22%3A%20true%2C%20%22fillColor%22%3A%20%22%2306d6a0%22%2C%20%22fillOpacity%22%3A%200.8%2C%20%22fillRule%22%3A%20%22evenodd%22%2C%20%22lineCap%22%3A%20%22round%22%2C%20%22lineJoin%22%3A%20%22round%22%2C%20%22noClip%22%3A%20false%2C%20%22opacity%22%3A%201.0%2C%20%22smoothFactor%22%3A%201.0%2C%20%22stroke%22%3A%20true%2C%20%22weight%22%3A%201%7D%0A%20%20%20%20%20%20%20%20%20%20%20%20%29.addTo%28map_55094f1a776c4147b5ad73db012842ee%29%3B%0A%20%20%20%20%20%20%20%20%0A%20%20%20%20%0A%20%20%20%20%20%20%20%20%20%20%20%20var%20polygon_d2484362cef446a4b00f1f9b9ad5ca74%20%3D%20L.polygon%28%0A%20%20%20%20%20%20%20%20%20%20%20%20%20%20%20%20%5B%5B37.413581039499675%2C%20127.94415334268402%5D%2C%20%5B37.45924734698121%2C%20128.06099972994843%5D%2C%20%5B37.43407124958101%2C%20128.0733403925485%5D%2C%20%5B37.38840474712671%2C%20127.95648651284266%5D%5D%2C%0A%20%20%20%20%20%20%20%20%20%20%20%20%20%20%20%20%7B%22bubblingMouseEvents%22%3A%20true%2C%20%22color%22%3A%20null%2C%20%22dashArray%22%3A%20null%2C%20%22dashOffset%22%3A%20null%2C%20%22fill%22%3A%20true%2C%20%22fillColor%22%3A%20%22%2306d6a0%22%2C%20%22fillOpacity%22%3A%200.8%2C%20%22fillRule%22%3A%20%22evenodd%22%2C%20%22lineCap%22%3A%20%22round%22%2C%20%22lineJoin%22%3A%20%22round%22%2C%20%22noClip%22%3A%20false%2C%20%22opacity%22%3A%201.0%2C%20%22smoothFactor%22%3A%201.0%2C%20%22stroke%22%3A%20true%2C%20%22weight%22%3A%201%7D%0A%20%20%20%20%20%20%20%20%20%20%20%20%29.addTo%28map_55094f1a776c4147b5ad73db012842ee%29%3B%0A%20%20%20%20%20%20%20%20%0A%20%20%20%20%0A%20%20%20%20%20%20%20%20%20%20%20%20var%20polygon_5067fcc5486749518a916dc101d8d5b4%20%3D%20L.polygon%28%0A%20%20%20%20%20%20%20%20%20%20%20%20%20%20%20%20%5B%5B37.45948589524909%2C%20128.06182815159528%5D%2C%20%5B37.50547238162225%2C%20128.20031451958005%5D%2C%20%5B37.479819467483985%2C%20128.21100512952933%5D%2C%20%5B37.4338327809651%2C%20128.07251221454356%5D%5D%2C%0A%20%20%20%20%20%20%20%20%20%20%20%20%20%20%20%20%7B%22bubblingMouseEvents%22%3A%20true%2C%20%22color%22%3A%20null%2C%20%22dashArray%22%3A%20null%2C%20%22dashOffset%22%3A%20null%2C%20%22fill%22%3A%20true%2C%20%22fillColor%22%3A%20%22%2306d6a0%22%2C%20%22fillOpacity%22%3A%200.8%2C%20%22fillRule%22%3A%20%22evenodd%22%2C%20%22lineCap%22%3A%20%22round%22%2C%20%22lineJoin%22%3A%20%22round%22%2C%20%22noClip%22%3A%20false%2C%20%22opacity%22%3A%201.0%2C%20%22smoothFactor%22%3A%201.0%2C%20%22stroke%22%3A%20true%2C%20%22weight%22%3A%201%7D%0A%20%20%20%20%20%20%20%20%20%20%20%20%29.addTo%28map_55094f1a776c4147b5ad73db012842ee%29%3B%0A%20%20%20%20%20%20%20%20%0A%20%20%20%20%0A%20%20%20%20%20%20%20%20%20%20%20%20var%20polygon_1e14ec98a7bb4bfb99e4119fbe12ff86%20%3D%20L.polygon%28%0A%20%20%20%20%20%20%20%20%20%20%20%20%20%20%20%20%5B%5B37.50505745056628%2C%20128.19894666207986%5D%2C%20%5B37.5365535062207%2C%20128.27202781225247%5D%2C%20%5B37.511730449071834%2C%20128.2854593858543%5D%2C%20%5B37.48023426072381%2C%20128.21237259353362%5D%5D%2C%0A%20%20%20%20%20%20%20%20%20%20%20%20%20%20%20%20%7B%22bubblingMouseEvents%22%3A%20true%2C%20%22color%22%3A%20null%2C%20%22dashArray%22%3A%20null%2C%20%22dashOffset%22%3A%20null%2C%20%22fill%22%3A%20true%2C%20%22fillColor%22%3A%20%22%2306d6a0%22%2C%20%22fillOpacity%22%3A%200.8%2C%20%22fillRule%22%3A%20%22evenodd%22%2C%20%22lineCap%22%3A%20%22round%22%2C%20%22lineJoin%22%3A%20%22round%22%2C%20%22noClip%22%3A%20false%2C%20%22opacity%22%3A%201.0%2C%20%22smoothFactor%22%3A%201.0%2C%20%22stroke%22%3A%20true%2C%20%22weight%22%3A%201%7D%0A%20%20%20%20%20%20%20%20%20%20%20%20%29.addTo%28map_55094f1a776c4147b5ad73db012842ee%29%3B%0A%20%20%20%20%20%20%20%20%0A%20%20%20%20%0A%20%20%20%20%20%20%20%20%20%20%20%20var%20polygon_3f8b603ce9004b98a39eb6ad3e3f2a4a%20%3D%20L.polygon%28%0A%20%20%20%20%20%20%20%20%20%20%20%20%20%20%20%20%5B%5B37.53660847163675%2C%20128.2721902636922%5D%2C%20%5B37.573587830884236%2C%20128.36051070391892%5D%2C%20%5B37.54865501745431%2C%20128.37362389402713%5D%2C%20%5B37.511675501672485%2C%20128.28529697861737%5D%5D%2C%0A%20%20%20%20%20%20%20%20%20%20%20%20%20%20%20%20%7B%22bubblingMouseEvents%22%3A%20true%2C%20%22color%22%3A%20null%2C%20%22dashArray%22%3A%20null%2C%20%22dashOffset%22%3A%20null%2C%20%22fill%22%3A%20true%2C%20%22fillColor%22%3A%20%22%2306d6a0%22%2C%20%22fillOpacity%22%3A%200.8%2C%20%22fillRule%22%3A%20%22evenodd%22%2C%20%22lineCap%22%3A%20%22round%22%2C%20%22lineJoin%22%3A%20%22round%22%2C%20%22noClip%22%3A%20false%2C%20%22opacity%22%3A%201.0%2C%20%22smoothFactor%22%3A%201.0%2C%20%22stroke%22%3A%20true%2C%20%22weight%22%3A%201%7D%0A%20%20%20%20%20%20%20%20%20%20%20%20%29.addTo%28map_55094f1a776c4147b5ad73db012842ee%29%3B%0A%20%20%20%20%20%20%20%20%0A%20%20%20%20%0A%20%20%20%20%20%20%20%20%20%20%20%20var%20polygon_b0459f1c22ac4f14a40503f8dbb292a8%20%3D%20L.polygon%28%0A%20%20%20%20%20%20%20%20%20%20%20%20%20%20%20%20%5B%5B37.572590968890374%2C%20128.35808727558774%5D%2C%20%5B37.6015436173378%2C%20128.40453869095327%5D%2C%20%5B37.578604325878516%2C%20128.42250512415376%5D%2C%20%5B37.54965156463819%2C%20128.37604675412214%5D%5D%2C%0A%20%20%20%20%20%20%20%20%20%20%20%20%20%20%20%20%7B%22bubblingMouseEvents%22%3A%20true%2C%20%22color%22%3A%20null%2C%20%22dashArray%22%3A%20null%2C%20%22dashOffset%22%3A%20null%2C%20%22fill%22%3A%20true%2C%20%22fillColor%22%3A%20%22%2306d6a0%22%2C%20%22fillOpacity%22%3A%200.8%2C%20%22fillRule%22%3A%20%22evenodd%22%2C%20%22lineCap%22%3A%20%22round%22%2C%20%22lineJoin%22%3A%20%22round%22%2C%20%22noClip%22%3A%20false%2C%20%22opacity%22%3A%201.0%2C%20%22smoothFactor%22%3A%201.0%2C%20%22stroke%22%3A%20true%2C%20%22weight%22%3A%201%7D%0A%20%20%20%20%20%20%20%20%20%20%20%20%29.addTo%28map_55094f1a776c4147b5ad73db012842ee%29%3B%0A%20%20%20%20%20%20%20%20%0A%20%20%20%20%0A%20%20%20%20%20%20%20%20%20%20%20%20var%20polygon_18a248025e124f5db709b366a03d2a5a%20%3D%20L.polygon%28%0A%20%20%20%20%20%20%20%20%20%20%20%20%20%20%20%20%5B%5B37.60200390570981%2C%20128.40554131298228%5D%2C%20%5B37.64253440752102%2C%20128.48167499760117%5D%2C%20%5B37.618674845855054%2C%20128.4976450603299%5D%2C%20%5B37.578144179758375%2C%20128.4215027115303%5D%5D%2C%0A%20%20%20%20%20%20%20%20%20%20%20%20%20%20%20%20%7B%22bubblingMouseEvents%22%3A%20true%2C%20%22color%22%3A%20null%2C%20%22dashArray%22%3A%20null%2C%20%22dashOffset%22%3A%20null%2C%20%22fill%22%3A%20true%2C%20%22fillColor%22%3A%20%22%2306d6a0%22%2C%20%22fillOpacity%22%3A%200.8%2C%20%22fillRule%22%3A%20%22evenodd%22%2C%20%22lineCap%22%3A%20%22round%22%2C%20%22lineJoin%22%3A%20%22round%22%2C%20%22noClip%22%3A%20false%2C%20%22opacity%22%3A%201.0%2C%20%22smoothFactor%22%3A%201.0%2C%20%22stroke%22%3A%20true%2C%20%22weight%22%3A%201%7D%0A%20%20%20%20%20%20%20%20%20%20%20%20%29.addTo%28map_55094f1a776c4147b5ad73db012842ee%29%3B%0A%20%20%20%20%20%20%20%20%0A%20%20%20%20%0A%20%20%20%20%20%20%20%20%20%20%20%20var%20polygon_02d24bed1e9241aca3c59d884c015671%20%3D%20L.polygon%28%0A%20%20%20%20%20%20%20%20%20%20%20%20%20%20%20%20%5B%5B37.64356264114665%2C%20128.48483245472733%5D%2C%20%5B37.665125680330135%2C%20128.5575986857333%5D%2C%20%5B37.639210084857055%2C%20128.56725750184452%5D%2C%20%5B37.61764695071149%2C%20128.49448847947673%5D%5D%2C%0A%20%20%20%20%20%20%20%20%20%20%20%20%20%20%20%20%7B%22bubblingMouseEvents%22%3A%20true%2C%20%22color%22%3A%20null%2C%20%22dashArray%22%3A%20null%2C%20%22dashOffset%22%3A%20null%2C%20%22fill%22%3A%20true%2C%20%22fillColor%22%3A%20%22%2306d6a0%22%2C%20%22fillOpacity%22%3A%200.8%2C%20%22fillRule%22%3A%20%22evenodd%22%2C%20%22lineCap%22%3A%20%22round%22%2C%20%22lineJoin%22%3A%20%22round%22%2C%20%22noClip%22%3A%20false%2C%20%22opacity%22%3A%201.0%2C%20%22smoothFactor%22%3A%201.0%2C%20%22stroke%22%3A%20true%2C%20%22weight%22%3A%201%7D%0A%20%20%20%20%20%20%20%20%20%20%20%20%29.addTo%28map_55094f1a776c4147b5ad73db012842ee%29%3B%0A%20%20%20%20%20%20%20%20%0A%20%20%20%20%0A%20%20%20%20%20%20%20%20%20%20%20%20var%20polygon_a384b62ff0724f939f224612c3a61952%20%3D%20L.polygon%28%0A%20%20%20%20%20%20%20%20%20%20%20%20%20%20%20%20%5B%5B37.66542006072517%2C%20128.55909369998795%5D%2C%20%5B37.692035915255104%2C%20128.6921281392043%5D%2C%20%5B37.66553178102973%2C%20128.698799801824%5D%2C%20%5B37.63891580659675%2C%20128.56576298072298%5D%5D%2C%0A%20%20%20%20%20%20%20%20%20%20%20%20%20%20%20%20%7B%22bubblingMouseEvents%22%3A%20true%2C%20%22color%22%3A%20null%2C%20%22dashArray%22%3A%20null%2C%20%22dashOffset%22%3A%20null%2C%20%22fill%22%3A%20true%2C%20%22fillColor%22%3A%20%22%2306d6a0%22%2C%20%22fillOpacity%22%3A%200.8%2C%20%22fillRule%22%3A%20%22evenodd%22%2C%20%22lineCap%22%3A%20%22round%22%2C%20%22lineJoin%22%3A%20%22round%22%2C%20%22noClip%22%3A%20false%2C%20%22opacity%22%3A%201.0%2C%20%22smoothFactor%22%3A%201.0%2C%20%22stroke%22%3A%20true%2C%20%22weight%22%3A%201%7D%0A%20%20%20%20%20%20%20%20%20%20%20%20%29.addTo%28map_55094f1a776c4147b5ad73db012842ee%29%3B%0A%20%20%20%20%20%20%20%20%0A%20%20%20%20%0A%20%20%20%20%20%20%20%20%20%20%20%20var%20polygon_6af9a4f4c96b497cbdfa8caa43da3075%20%3D%20L.polygon%28%0A%20%20%20%20%20%20%20%20%20%20%20%20%20%20%20%20%5B%5B37.689926235116076%2C%20128.68584093688816%5D%2C%20%5B37.78372179458247%2C%20128.82249080680552%5D%2C%20%5B37.76143669418598%2C%20128.84175946707956%5D%2C%20%5B37.667640779238205%2C%20128.70508531262217%5D%5D%2C%0A%20%20%20%20%20%20%20%20%20%20%20%20%20%20%20%20%7B%22bubblingMouseEvents%22%3A%20true%2C%20%22color%22%3A%20null%2C%20%22dashArray%22%3A%20null%2C%20%22dashOffset%22%3A%20null%2C%20%22fill%22%3A%20true%2C%20%22fillColor%22%3A%20%22%2306d6a0%22%2C%20%22fillOpacity%22%3A%200.8%2C%20%22fillRule%22%3A%20%22evenodd%22%2C%20%22lineCap%22%3A%20%22round%22%2C%20%22lineJoin%22%3A%20%22round%22%2C%20%22noClip%22%3A%20false%2C%20%22opacity%22%3A%201.0%2C%20%22smoothFactor%22%3A%201.0%2C%20%22stroke%22%3A%20true%2C%20%22weight%22%3A%201%7D%0A%20%20%20%20%20%20%20%20%20%20%20%20%29.addTo%28map_55094f1a776c4147b5ad73db012842ee%29%3B%0A%20%20%20%20%20%20%20%20%0A%20%20%20%20%0A%20%20%20%20%20%20%20%20%20%20%20%20var%20polygon_c38f77f0a2f84e78a05bc8a7af8fa5aa%20%3D%20L.polygon%28%0A%20%20%20%20%20%20%20%20%20%20%20%20%20%20%20%20%5B%5B37.39797123136585%2C%20127.5789100333898%5D%2C%20%5B37.413576191566186%2C%20127.67066323664163%5D%2C%20%5B37.38692820480291%2C%20127.6763441091723%5D%2C%20%5B37.37132317410329%2C%20127.5845897284252%5D%5D%2C%0A%20%20%20%20%20%20%20%20%20%20%20%20%20%20%20%20%7B%22bubblingMouseEvents%22%3A%20true%2C%20%22color%22%3A%20null%2C%20%22dashArray%22%3A%20null%2C%20%22dashOffset%22%3A%20null%2C%20%22fill%22%3A%20true%2C%20%22fillColor%22%3A%20%22%2306d6a0%22%2C%20%22fillOpacity%22%3A%200.8%2C%20%22fillRule%22%3A%20%22evenodd%22%2C%20%22lineCap%22%3A%20%22round%22%2C%20%22lineJoin%22%3A%20%22round%22%2C%20%22noClip%22%3A%20false%2C%20%22opacity%22%3A%201.0%2C%20%22smoothFactor%22%3A%201.0%2C%20%22stroke%22%3A%20true%2C%20%22weight%22%3A%201%7D%0A%20%20%20%20%20%20%20%20%20%20%20%20%29.addTo%28map_55094f1a776c4147b5ad73db012842ee%29%3B%0A%20%20%20%20%20%20%20%20%0A%20%20%20%20%0A%20%20%20%20%20%20%20%20%20%20%20%20var%20polygon_ea3c40e479604a1aaa19b91307c4596d%20%3D%20L.polygon%28%0A%20%20%20%20%20%20%20%20%20%20%20%20%20%20%20%20%5B%5B37.413767035688025%2C%20127.67365232902279%5D%2C%20%5B37.41306942936581%2C%20127.75343324463682%5D%2C%20%5B37.38603981834139%2C%20127.75313699412051%5D%2C%20%5B37.38673742786057%2C%20127.67335607576038%5D%5D%2C%0A%20%20%20%20%20%20%20%20%20%20%20%20%20%20%20%20%7B%22bubblingMouseEvents%22%3A%20true%2C%20%22color%22%3A%20null%2C%20%22dashArray%22%3A%20null%2C%20%22dashOffset%22%3A%20null%2C%20%22fill%22%3A%20true%2C%20%22fillColor%22%3A%20%22%2306d6a0%22%2C%20%22fillOpacity%22%3A%200.8%2C%20%22fillRule%22%3A%20%22evenodd%22%2C%20%22lineCap%22%3A%20%22round%22%2C%20%22lineJoin%22%3A%20%22round%22%2C%20%22noClip%22%3A%20false%2C%20%22opacity%22%3A%201.0%2C%20%22smoothFactor%22%3A%201.0%2C%20%22stroke%22%3A%20true%2C%20%22weight%22%3A%201%7D%0A%20%20%20%20%20%20%20%20%20%20%20%20%29.addTo%28map_55094f1a776c4147b5ad73db012842ee%29%3B%0A%20%20%20%20%20%20%20%20%0A%20%20%20%20%0A%20%20%20%20%20%20%20%20%20%20%20%20var%20polygon_3c8ba213539749c7b6a8f21c73a0f45b%20%3D%20L.polygon%28%0A%20%20%20%20%20%20%20%20%20%20%20%20%20%20%20%20%5B%5B37.413052764385455%2C%20127.75413911631264%5D%2C%20%5B37.407723334054985%2C%20127.85974073191733%5D%2C%20%5B37.380727022694344%2C%20127.85803311205643%5D%2C%20%5B37.38605647741756%2C%20127.75243137553574%5D%5D%2C%0A%20%20%20%20%20%20%20%20%20%20%20%20%20%20%20%20%7B%22bubblingMouseEvents%22%3A%20true%2C%20%22color%22%3A%20null%2C%20%22dashArray%22%3A%20null%2C%20%22dashOffset%22%3A%20null%2C%20%22fill%22%3A%20true%2C%20%22fillColor%22%3A%20%22%2306d6a0%22%2C%20%22fillOpacity%22%3A%200.8%2C%20%22fillRule%22%3A%20%22evenodd%22%2C%20%22lineCap%22%3A%20%22round%22%2C%20%22lineJoin%22%3A%20%22round%22%2C%20%22noClip%22%3A%20false%2C%20%22opacity%22%3A%201.0%2C%20%22smoothFactor%22%3A%201.0%2C%20%22stroke%22%3A%20true%2C%20%22weight%22%3A%201%7D%0A%20%20%20%20%20%20%20%20%20%20%20%20%29.addTo%28map_55094f1a776c4147b5ad73db012842ee%29%3B%0A%20%20%20%20%20%20%20%20%0A%20%20%20%20%0A%20%20%20%20%20%20%20%20%20%20%20%20var%20polygon_d672794e75ce46d6ba936d3a69f19c9e%20%3D%20L.polygon%28%0A%20%20%20%20%20%20%20%20%20%20%20%20%20%20%20%20%5B%5B37.40740381560456%2C%20127.86264464566256%5D%2C%20%5B37.39956574646192%2C%20127.89710238344279%5D%2C%20%5B37.37320832520737%2C%20127.889588727781%5D%2C%20%5B37.381046429373555%2C%20127.85513020769656%5D%5D%2C%0A%20%20%20%20%20%20%20%20%20%20%20%20%20%20%20%20%7B%22bubblingMouseEvents%22%3A%20true%2C%20%22color%22%3A%20null%2C%20%22dashArray%22%3A%20null%2C%20%22dashOffset%22%3A%20null%2C%20%22fill%22%3A%20true%2C%20%22fillColor%22%3A%20%22%2306d6a0%22%2C%20%22fillOpacity%22%3A%200.8%2C%20%22fillRule%22%3A%20%22evenodd%22%2C%20%22lineCap%22%3A%20%22round%22%2C%20%22lineJoin%22%3A%20%22round%22%2C%20%22noClip%22%3A%20false%2C%20%22opacity%22%3A%201.0%2C%20%22smoothFactor%22%3A%201.0%2C%20%22stroke%22%3A%20true%2C%20%22weight%22%3A%201%7D%0A%20%20%20%20%20%20%20%20%20%20%20%20%29.addTo%28map_55094f1a776c4147b5ad73db012842ee%29%3B%0A%20%20%20%20%20%20%20%20%0A%20%20%20%20%0A%20%20%20%20%20%20%20%20%20%20%20%20var%20polygon_b5949a49e6a7411f850ffd9383b96eff%20%3D%20L.polygon%28%0A%20%20%20%20%20%20%20%20%20%20%20%20%20%20%20%20%5B%5B37.39989928612799%2C%20127.89297856032296%5D%2C%20%5B37.40072011743331%2C%20127.93092813661531%5D%2C%20%5B37.373695737311046%2C%20127.93166068863464%5D%2C%20%5B37.372874902245236%2C%20127.89371110435631%5D%5D%2C%0A%20%20%20%20%20%20%20%20%20%20%20%20%20%20%20%20%7B%22bubblingMouseEvents%22%3A%20true%2C%20%22color%22%3A%20null%2C%20%22dashArray%22%3A%20null%2C%20%22dashOffset%22%3A%20null%2C%20%22fill%22%3A%20true%2C%20%22fillColor%22%3A%20%22%2306d6a0%22%2C%20%22fillOpacity%22%3A%200.8%2C%20%22fillRule%22%3A%20%22evenodd%22%2C%20%22lineCap%22%3A%20%22round%22%2C%20%22lineJoin%22%3A%20%22round%22%2C%20%22noClip%22%3A%20false%2C%20%22opacity%22%3A%201.0%2C%20%22smoothFactor%22%3A%201.0%2C%20%22stroke%22%3A%20true%2C%20%22weight%22%3A%201%7D%0A%20%20%20%20%20%20%20%20%20%20%20%20%29.addTo%28map_55094f1a776c4147b5ad73db012842ee%29%3B%0A%20%20%20%20%20%20%20%20%0A%20%20%20%20%0A%20%20%20%20%20%20%20%20%20%20%20%20var%20polygon_29c0930d8e7246d0a6777b7830a7731d%20%3D%20L.polygon%28%0A%20%20%20%20%20%20%20%20%20%20%20%20%20%20%20%20%5B%5B36.578804336276875%2C%20128.61513709034097%5D%2C%20%5B36.65797937697838%2C%20128.53039032495002%5D%2C%20%5B36.67773237918982%2C%20128.5533013305086%5D%2C%20%5B36.59855760159138%2C%20128.638024672657%5D%5D%2C%0A%20%20%20%20%20%20%20%20%20%20%20%20%20%20%20%20%7B%22bubblingMouseEvents%22%3A%20true%2C%20%22color%22%3A%20null%2C%20%22dashArray%22%3A%20null%2C%20%22dashOffset%22%3A%20null%2C%20%22fill%22%3A%20true%2C%20%22fillColor%22%3A%20%22%2306d6a0%22%2C%20%22fillOpacity%22%3A%200.8%2C%20%22fillRule%22%3A%20%22evenodd%22%2C%20%22lineCap%22%3A%20%22round%22%2C%20%22lineJoin%22%3A%20%22round%22%2C%20%22noClip%22%3A%20false%2C%20%22opacity%22%3A%201.0%2C%20%22smoothFactor%22%3A%201.0%2C%20%22stroke%22%3A%20true%2C%20%22weight%22%3A%201%7D%0A%20%20%20%20%20%20%20%20%20%20%20%20%29.addTo%28map_55094f1a776c4147b5ad73db012842ee%29%3B%0A%20%20%20%20%20%20%20%20%0A%20%20%20%20%0A%20%20%20%20%20%20%20%20%20%20%20%20var%20polygon_6588e23f47e54cc880afa85cfdd1b1ac%20%3D%20L.polygon%28%0A%20%20%20%20%20%20%20%20%20%20%20%20%20%20%20%20%5B%5B36.67165576931609%2C%20128.5257413942954%5D%2C%20%5B36.77304383123851%2C%20128.55542462215985%5D%2C%20%5B36.76544311735601%2C%20128.58767132833918%5D%2C%20%5B36.664054925667095%2C%20128.55794575007616%5D%5D%2C%0A%20%20%20%20%20%20%20%20%20%20%20%20%20%20%20%20%7B%22bubblingMouseEvents%22%3A%20true%2C%20%22color%22%3A%20null%2C%20%22dashArray%22%3A%20null%2C%20%22dashOffset%22%3A%20null%2C%20%22fill%22%3A%20true%2C%20%22fillColor%22%3A%20%22%2306d6a0%22%2C%20%22fillOpacity%22%3A%200.8%2C%20%22fillRule%22%3A%20%22evenodd%22%2C%20%22lineCap%22%3A%20%22round%22%2C%20%22lineJoin%22%3A%20%22round%22%2C%20%22noClip%22%3A%20false%2C%20%22opacity%22%3A%201.0%2C%20%22smoothFactor%22%3A%201.0%2C%20%22stroke%22%3A%20true%2C%20%22weight%22%3A%201%7D%0A%20%20%20%20%20%20%20%20%20%20%20%20%29.addTo%28map_55094f1a776c4147b5ad73db012842ee%29%3B%0A%20%20%20%20%20%20%20%20%0A%20%20%20%20%0A%20%20%20%20%20%20%20%20%20%20%20%20var%20polygon_f9f35654f2cd474dbb83fb6e02b35e3d%20%3D%20L.polygon%28%0A%20%20%20%20%20%20%20%20%20%20%20%20%20%20%20%20%5B%5B36.76326832094443%2C%20128.55647965100366%5D%2C%20%5B36.84667296664836%2C%20128.51535855660967%5D%2C%20%5B36.85862337787054%2C%20128.54553184767636%5D%2C%20%5B36.77521890016744%2C%20128.58662022966763%5D%5D%2C%0A%20%20%20%20%20%20%20%20%20%20%20%20%20%20%20%20%7B%22bubblingMouseEvents%22%3A%20true%2C%20%22color%22%3A%20null%2C%20%22dashArray%22%3A%20null%2C%20%22dashOffset%22%3A%20null%2C%20%22fill%22%3A%20true%2C%20%22fillColor%22%3A%20%22%2306d6a0%22%2C%20%22fillOpacity%22%3A%200.8%2C%20%22fillRule%22%3A%20%22evenodd%22%2C%20%22lineCap%22%3A%20%22round%22%2C%20%22lineJoin%22%3A%20%22round%22%2C%20%22noClip%22%3A%20false%2C%20%22opacity%22%3A%201.0%2C%20%22smoothFactor%22%3A%201.0%2C%20%22stroke%22%3A%20true%2C%20%22weight%22%3A%201%7D%0A%20%20%20%20%20%20%20%20%20%20%20%20%29.addTo%28map_55094f1a776c4147b5ad73db012842ee%29%3B%0A%20%20%20%20%20%20%20%20%0A%20%20%20%20%0A%20%20%20%20%20%20%20%20%20%20%20%20var%20polygon_3176793396eb490eaebe69a16721ac88%20%3D%20L.polygon%28%0A%20%20%20%20%20%20%20%20%20%20%20%20%20%20%20%20%5B%5B36.840070855356515%2C%20128.52428720874585%5D%2C%20%5B36.90530292813169%2C%20128.35847993630978%5D%2C%20%5B36.93045886018114%2C%20128.37080607377234%5D%2C%20%5B36.86522706420852%2C%20128.5366028648995%5D%5D%2C%0A%20%20%20%20%20%20%20%20%20%20%20%20%20%20%20%20%7B%22bubblingMouseEvents%22%3A%20true%2C%20%22color%22%3A%20null%2C%20%22dashArray%22%3A%20null%2C%20%22dashOffset%22%3A%20null%2C%20%22fill%22%3A%20true%2C%20%22fillColor%22%3A%20%22%2306d6a0%22%2C%20%22fillOpacity%22%3A%200.8%2C%20%22fillRule%22%3A%20%22evenodd%22%2C%20%22lineCap%22%3A%20%22round%22%2C%20%22lineJoin%22%3A%20%22round%22%2C%20%22noClip%22%3A%20false%2C%20%22opacity%22%3A%201.0%2C%20%22smoothFactor%22%3A%201.0%2C%20%22stroke%22%3A%20true%2C%20%22weight%22%3A%201%7D%0A%20%20%20%20%20%20%20%20%20%20%20%20%29.addTo%28map_55094f1a776c4147b5ad73db012842ee%29%3B%0A%20%20%20%20%20%20%20%20%0A%20%20%20%20%0A%20%20%20%20%20%20%20%20%20%20%20%20var%20polygon_9dd74fc7d77447c499d91104507bd520%20%3D%20L.polygon%28%0A%20%20%20%20%20%20%20%20%20%20%20%20%20%20%20%20%5B%5B36.90953522160867%2C%20128.35140132638224%5D%2C%20%5B37.00659750400666%2C%20128.27520458399664%5D%2C%20%5B37.02328743421026%2C%20128.30172244695032%5D%2C%20%5B36.926225425299116%2C%20128.37788554511744%5D%5D%2C%0A%20%20%20%20%20%20%20%20%20%20%20%20%20%20%20%20%7B%22bubblingMouseEvents%22%3A%20true%2C%20%22color%22%3A%20null%2C%20%22dashArray%22%3A%20null%2C%20%22dashOffset%22%3A%20null%2C%20%22fill%22%3A%20true%2C%20%22fillColor%22%3A%20%22%2306d6a0%22%2C%20%22fillOpacity%22%3A%200.8%2C%20%22fillRule%22%3A%20%22evenodd%22%2C%20%22lineCap%22%3A%20%22round%22%2C%20%22lineJoin%22%3A%20%22round%22%2C%20%22noClip%22%3A%20false%2C%20%22opacity%22%3A%201.0%2C%20%22smoothFactor%22%3A%201.0%2C%20%22stroke%22%3A%20true%2C%20%22weight%22%3A%201%7D%0A%20%20%20%20%20%20%20%20%20%20%20%20%29.addTo%28map_55094f1a776c4147b5ad73db012842ee%29%3B%0A%20%20%20%20%20%20%20%20%0A%20%20%20%20%0A%20%20%20%20%20%20%20%20%20%20%20%20var%20polygon_8e86b642e4c649a7bb847d22ffdc8c4d%20%3D%20L.polygon%28%0A%20%20%20%20%20%20%20%20%20%20%20%20%20%20%20%20%5B%5B37.00322329713919%2C%20128.28006666700625%5D%2C%20%5B37.06445987779008%2C%20128.17347644947043%5D%2C%20%5B37.08789885498759%2C%20128.1902833206408%5D%2C%20%5B37.026662516844766%2C%20128.29686004319873%5D%5D%2C%0A%20%20%20%20%20%20%20%20%20%20%20%20%20%20%20%20%7B%22bubblingMouseEvents%22%3A%20true%2C%20%22color%22%3A%20null%2C%20%22dashArray%22%3A%20null%2C%20%22dashOffset%22%3A%20null%2C%20%22fill%22%3A%20true%2C%20%22fillColor%22%3A%20%22%2306d6a0%22%2C%20%22fillOpacity%22%3A%200.8%2C%20%22fillRule%22%3A%20%22evenodd%22%2C%20%22lineCap%22%3A%20%22round%22%2C%20%22lineJoin%22%3A%20%22round%22%2C%20%22noClip%22%3A%20false%2C%20%22opacity%22%3A%201.0%2C%20%22smoothFactor%22%3A%201.0%2C%20%22stroke%22%3A%20true%2C%20%22weight%22%3A%201%7D%0A%20%20%20%20%20%20%20%20%20%20%20%20%29.addTo%28map_55094f1a776c4147b5ad73db012842ee%29%3B%0A%20%20%20%20%20%20%20%20%0A%20%20%20%20%0A%20%20%20%20%20%20%20%20%20%20%20%20var%20polygon_d18a1bdf42d74923a256a55ea7ff347d%20%3D%20L.polygon%28%0A%20%20%20%20%20%20%20%20%20%20%20%20%20%20%20%20%5B%5B37.06439444929537%2C%20128.17362020926302%5D%2C%20%5B37.06828358954693%2C%20128.16669437838797%5D%2C%20%5B37.09185342817959%2C%20128.18321454367754%5D%2C%20%5B37.08796430342072%2C%20128.19013953078968%5D%5D%2C%0A%20%20%20%20%20%20%20%20%20%20%20%20%20%20%20%20%7B%22bubblingMouseEvents%22%3A%20true%2C%20%22color%22%3A%20null%2C%20%22dashArray%22%3A%20null%2C%20%22dashOffset%22%3A%20null%2C%20%22fill%22%3A%20true%2C%20%22fillColor%22%3A%20%22%2306d6a0%22%2C%20%22fillOpacity%22%3A%200.8%2C%20%22fillRule%22%3A%20%22evenodd%22%2C%20%22lineCap%22%3A%20%22round%22%2C%20%22lineJoin%22%3A%20%22round%22%2C%20%22noClip%22%3A%20false%2C%20%22opacity%22%3A%201.0%2C%20%22smoothFactor%22%3A%201.0%2C%20%22stroke%22%3A%20true%2C%20%22weight%22%3A%201%7D%0A%20%20%20%20%20%20%20%20%20%20%20%20%29.addTo%28map_55094f1a776c4147b5ad73db012842ee%29%3B%0A%20%20%20%20%20%20%20%20%0A%20%20%20%20%0A%20%20%20%20%20%20%20%20%20%20%20%20var%20polygon_a6a716e891c34798b42e22d202ad9774%20%3D%20L.polygon%28%0A%20%20%20%20%20%20%20%20%20%20%20%20%20%20%20%20%5B%5B37.07303058928011%2C%20128.16055205658864%5D%2C%20%5B37.126128631647475%2C%20128.12816024368666%5D%2C%20%5B37.14020318592113%2C%20128.1569852725022%5D%2C%20%5B37.08710526989845%2C%20128.1893569708264%5D%5D%2C%0A%20%20%20%20%20%20%20%20%20%20%20%20%20%20%20%20%7B%22bubblingMouseEvents%22%3A%20true%2C%20%22color%22%3A%20null%2C%20%22dashArray%22%3A%20null%2C%20%22dashOffset%22%3A%20null%2C%20%22fill%22%3A%20true%2C%20%22fillColor%22%3A%20%22%2306d6a0%22%2C%20%22fillOpacity%22%3A%200.8%2C%20%22fillRule%22%3A%20%22evenodd%22%2C%20%22lineCap%22%3A%20%22round%22%2C%20%22lineJoin%22%3A%20%22round%22%2C%20%22noClip%22%3A%20false%2C%20%22opacity%22%3A%201.0%2C%20%22smoothFactor%22%3A%201.0%2C%20%22stroke%22%3A%20true%2C%20%22weight%22%3A%201%7D%0A%20%20%20%20%20%20%20%20%20%20%20%20%29.addTo%28map_55094f1a776c4147b5ad73db012842ee%29%3B%0A%20%20%20%20%20%20%20%20%0A%20%20%20%20%0A%20%20%20%20%20%20%20%20%20%20%20%20var%20polygon_b463444f273246c4beb7eedd0cbbc3d9%20%3D%20L.polygon%28%0A%20%20%20%20%20%20%20%20%20%20%20%20%20%20%20%20%5B%5B37.12626666096911%2C%20128.12805648606803%5D%2C%20%5B37.21877661017064%2C%20128.07312367192367%5D%2C%20%5B37.23257486485085%2C%20128.10219160683548%5D%2C%20%5B37.14006513160859%2C%20128.15708899659614%5D%5D%2C%0A%20%20%20%20%20%20%20%20%20%20%20%20%20%20%20%20%7B%22bubblingMouseEvents%22%3A%20true%2C%20%22color%22%3A%20null%2C%20%22dashArray%22%3A%20null%2C%20%22dashOffset%22%3A%20null%2C%20%22fill%22%3A%20true%2C%20%22fillColor%22%3A%20%22%2306d6a0%22%2C%20%22fillOpacity%22%3A%200.8%2C%20%22fillRule%22%3A%20%22evenodd%22%2C%20%22lineCap%22%3A%20%22round%22%2C%20%22lineJoin%22%3A%20%22round%22%2C%20%22noClip%22%3A%20false%2C%20%22opacity%22%3A%201.0%2C%20%22smoothFactor%22%3A%201.0%2C%20%22stroke%22%3A%20true%2C%20%22weight%22%3A%201%7D%0A%20%20%20%20%20%20%20%20%20%20%20%20%29.addTo%28map_55094f1a776c4147b5ad73db012842ee%29%3B%0A%20%20%20%20%20%20%20%20%0A%20%20%20%20%0A%20%20%20%20%20%20%20%20%20%20%20%20var%20polygon_05c144a31375483c90be5d61f52cd0e7%20%3D%20L.polygon%28%0A%20%20%20%20%20%20%20%20%20%20%20%20%20%20%20%20%5B%5B37.2142131594401%2C%20128.07870336691013%5D%2C%20%5B37.312655788102305%2C%20127.92109488220542%5D%2C%20%5B37.33558165441143%2C%20127.93902682432605%5D%2C%20%5B37.2371394079346%2C%20128.0966119745033%5D%5D%2C%0A%20%20%20%20%20%20%20%20%20%20%20%20%20%20%20%20%7B%22bubblingMouseEvents%22%3A%20true%2C%20%22color%22%3A%20null%2C%20%22dashArray%22%3A%20null%2C%20%22dashOffset%22%3A%20null%2C%20%22fill%22%3A%20true%2C%20%22fillColor%22%3A%20%22%2306d6a0%22%2C%20%22fillOpacity%22%3A%200.8%2C%20%22fillRule%22%3A%20%22evenodd%22%2C%20%22lineCap%22%3A%20%22round%22%2C%20%22lineJoin%22%3A%20%22round%22%2C%20%22noClip%22%3A%20false%2C%20%22opacity%22%3A%201.0%2C%20%22smoothFactor%22%3A%201.0%2C%20%22stroke%22%3A%20true%2C%20%22weight%22%3A%201%7D%0A%20%20%20%20%20%20%20%20%20%20%20%20%29.addTo%28map_55094f1a776c4147b5ad73db012842ee%29%3B%0A%20%20%20%20%20%20%20%20%0A%20%20%20%20%0A%20%20%20%20%20%20%20%20%20%20%20%20var%20polygon_fd81303ecfc64fcb8a431d5db58babc8%20%3D%20L.polygon%28%0A%20%20%20%20%20%20%20%20%20%20%20%20%20%20%20%20%5B%5B37.316552736613225%2C%20127.91603694210765%5D%2C%20%5B37.357521128831905%2C%20127.88835467409112%5D%2C%20%5B37.37265202291929%2C%20127.91641782630907%5D%2C%20%5B37.33168373574486%2C%20127.94408485246068%5D%5D%2C%0A%20%20%20%20%20%20%20%20%20%20%20%20%20%20%20%20%7B%22bubblingMouseEvents%22%3A%20true%2C%20%22color%22%3A%20null%2C%20%22dashArray%22%3A%20null%2C%20%22dashOffset%22%3A%20null%2C%20%22fill%22%3A%20true%2C%20%22fillColor%22%3A%20%22%2306d6a0%22%2C%20%22fillOpacity%22%3A%200.8%2C%20%22fillRule%22%3A%20%22evenodd%22%2C%20%22lineCap%22%3A%20%22round%22%2C%20%22lineJoin%22%3A%20%22round%22%2C%20%22noClip%22%3A%20false%2C%20%22opacity%22%3A%201.0%2C%20%22smoothFactor%22%3A%201.0%2C%20%22stroke%22%3A%20true%2C%20%22weight%22%3A%201%7D%0A%20%20%20%20%20%20%20%20%20%20%20%20%29.addTo%28map_55094f1a776c4147b5ad73db012842ee%29%3B%0A%20%20%20%20%20%20%20%20%0A%20%20%20%20%0A%20%20%20%20%20%20%20%20%20%20%20%20var%20polygon_78b9933af5d04baa8930b717c17a067a%20%3D%20L.polygon%28%0A%20%20%20%20%20%20%20%20%20%20%20%20%20%20%20%20%5B%5B37.35980611031614%2C%20127.8867986752532%5D%2C%20%5B37.38110582582352%2C%20127.87775432477233%5D%2C%20%5B37.39166633423165%2C%20127.90893765815646%5D%2C%20%5B37.37036665685261%2C%20127.91797319212985%5D%5D%2C%0A%20%20%20%20%20%20%20%20%20%20%20%20%20%20%20%20%7B%22bubblingMouseEvents%22%3A%20true%2C%20%22color%22%3A%20null%2C%20%22dashArray%22%3A%20null%2C%20%22dashOffset%22%3A%20null%2C%20%22fill%22%3A%20true%2C%20%22fillColor%22%3A%20%22%2306d6a0%22%2C%20%22fillOpacity%22%3A%200.8%2C%20%22fillRule%22%3A%20%22evenodd%22%2C%20%22lineCap%22%3A%20%22round%22%2C%20%22lineJoin%22%3A%20%22round%22%2C%20%22noClip%22%3A%20false%2C%20%22opacity%22%3A%201.0%2C%20%22smoothFactor%22%3A%201.0%2C%20%22stroke%22%3A%20true%2C%20%22weight%22%3A%201%7D%0A%20%20%20%20%20%20%20%20%20%20%20%20%29.addTo%28map_55094f1a776c4147b5ad73db012842ee%29%3B%0A%20%20%20%20%20%20%20%20%0A%20%20%20%20%0A%20%20%20%20%20%20%20%20%20%20%20%20var%20polygon_189f5556e94a4d3faa222ae0fcc29c93%20%3D%20L.polygon%28%0A%20%20%20%20%20%20%20%20%20%20%20%20%20%20%20%20%5B%5B37.39526552558398%2C%20127.88057361521042%5D%2C%20%5B37.429547529829826%2C%20127.91044108404222%5D%2C%20%5B37.41178941006536%2C%20127.93599227607389%5D%2C%20%5B37.377507302598275%2C%20127.90611316922079%5D%5D%2C%0A%20%20%20%20%20%20%20%20%20%20%20%20%20%20%20%20%7B%22bubblingMouseEvents%22%3A%20true%2C%20%22color%22%3A%20null%2C%20%22dashArray%22%3A%20null%2C%20%22dashOffset%22%3A%20null%2C%20%22fill%22%3A%20true%2C%20%22fillColor%22%3A%20%22%2306d6a0%22%2C%20%22fillOpacity%22%3A%200.8%2C%20%22fillRule%22%3A%20%22evenodd%22%2C%20%22lineCap%22%3A%20%22round%22%2C%20%22lineJoin%22%3A%20%22round%22%2C%20%22noClip%22%3A%20false%2C%20%22opacity%22%3A%201.0%2C%20%22smoothFactor%22%3A%201.0%2C%20%22stroke%22%3A%20true%2C%20%22weight%22%3A%201%7D%0A%20%20%20%20%20%20%20%20%20%20%20%20%29.addTo%28map_55094f1a776c4147b5ad73db012842ee%29%3B%0A%20%20%20%20%20%20%20%20%0A%20%20%20%20%0A%20%20%20%20%20%20%20%20%20%20%20%20var%20polygon_649490a00b5b4de4b89a05519363b38e%20%3D%20L.polygon%28%0A%20%20%20%20%20%20%20%20%20%20%20%20%20%20%20%20%5B%5B37.42723260099464%2C%20127.90840437066122%5D%2C%20%5B37.511531308021596%2C%20127.95522757249262%5D%2C%20%5B37.49840276440113%2C%20127.98488590023271%5D%2C%20%5B37.41410386961922%2C%20127.93802942030601%5D%5D%2C%0A%20%20%20%20%20%20%20%20%20%20%20%20%20%20%20%20%7B%22bubblingMouseEvents%22%3A%20true%2C%20%22color%22%3A%20null%2C%20%22dashArray%22%3A%20null%2C%20%22dashOffset%22%3A%20null%2C%20%22fill%22%3A%20true%2C%20%22fillColor%22%3A%20%22%2306d6a0%22%2C%20%22fillOpacity%22%3A%200.8%2C%20%22fillRule%22%3A%20%22evenodd%22%2C%20%22lineCap%22%3A%20%22round%22%2C%20%22lineJoin%22%3A%20%22round%22%2C%20%22noClip%22%3A%20false%2C%20%22opacity%22%3A%201.0%2C%20%22smoothFactor%22%3A%201.0%2C%20%22stroke%22%3A%20true%2C%20%22weight%22%3A%201%7D%0A%20%20%20%20%20%20%20%20%20%20%20%20%29.addTo%28map_55094f1a776c4147b5ad73db012842ee%29%3B%0A%20%20%20%20%20%20%20%20%0A%20%20%20%20%0A%20%20%20%20%20%20%20%20%20%20%20%20var%20polygon_a7f008e71b9a4089a5d50083fab5e02a%20%3D%20L.polygon%28%0A%20%20%20%20%20%20%20%20%20%20%20%20%20%20%20%20%5B%5B37.497521510348044%2C%20127.95590142425758%5D%2C%20%5B37.67050688454233%2C%20127.84167793490468%5D%2C%20%5B37.68539766133436%2C%20127.8700595829927%5D%2C%20%5B37.51241272467142%2C%20127.98421745731909%5D%5D%2C%0A%20%20%20%20%20%20%20%20%20%20%20%20%20%20%20%20%7B%22bubblingMouseEvents%22%3A%20true%2C%20%22color%22%3A%20null%2C%20%22dashArray%22%3A%20null%2C%20%22dashOffset%22%3A%20null%2C%20%22fill%22%3A%20true%2C%20%22fillColor%22%3A%20%22%2306d6a0%22%2C%20%22fillOpacity%22%3A%200.8%2C%20%22fillRule%22%3A%20%22evenodd%22%2C%20%22lineCap%22%3A%20%22round%22%2C%20%22lineJoin%22%3A%20%22round%22%2C%20%22noClip%22%3A%20false%2C%20%22opacity%22%3A%201.0%2C%20%22smoothFactor%22%3A%201.0%2C%20%22stroke%22%3A%20true%2C%20%22weight%22%3A%201%7D%0A%20%20%20%20%20%20%20%20%20%20%20%20%29.addTo%28map_55094f1a776c4147b5ad73db012842ee%29%3B%0A%20%20%20%20%20%20%20%20%0A%20%20%20%20%0A%20%20%20%20%20%20%20%20%20%20%20%20var%20polygon_ed45999c91bc4809a07ceb36b4549d56%20%3D%20L.polygon%28%0A%20%20%20%20%20%20%20%20%20%20%20%20%20%20%20%20%5B%5B37.66908549164603%2C%20127.84303643044468%5D%2C%20%5B37.74721739158276%2C%20127.77509723717822%5D%2C%20%5B37.76495102584676%2C%20127.80078907908324%5D%2C%20%5B37.686819361529054%2C%20127.86870130564672%5D%5D%2C%0A%20%20%20%20%20%20%20%20%20%20%20%20%20%20%20%20%7B%22bubblingMouseEvents%22%3A%20true%2C%20%22color%22%3A%20null%2C%20%22dashArray%22%3A%20null%2C%20%22dashOffset%22%3A%20null%2C%20%22fill%22%3A%20true%2C%20%22fillColor%22%3A%20%22%2306d6a0%22%2C%20%22fillOpacity%22%3A%200.8%2C%20%22fillRule%22%3A%20%22evenodd%22%2C%20%22lineCap%22%3A%20%22round%22%2C%20%22lineJoin%22%3A%20%22round%22%2C%20%22noClip%22%3A%20false%2C%20%22opacity%22%3A%201.0%2C%20%22smoothFactor%22%3A%201.0%2C%20%22stroke%22%3A%20true%2C%20%22weight%22%3A%201%7D%0A%20%20%20%20%20%20%20%20%20%20%20%20%29.addTo%28map_55094f1a776c4147b5ad73db012842ee%29%3B%0A%20%20%20%20%20%20%20%20%0A%20%20%20%20%0A%20%20%20%20%20%20%20%20%20%20%20%20var%20polygon_7ee595859ad841fd9c8163835430a3b1%20%3D%20L.polygon%28%0A%20%20%20%20%20%20%20%20%20%20%20%20%20%20%20%20%5B%5B37.752863049403096%2C%20127.7714110282563%5D%2C%20%5B37.839147031389736%2C%20127.75021902348612%5D%2C%20%5B37.84558834842463%2C%20127.78332013105677%5D%2C%20%5B37.75930446102183%2C%20127.80447365503436%5D%5D%2C%0A%20%20%20%20%20%20%20%20%20%20%20%20%20%20%20%20%7B%22bubblingMouseEvents%22%3A%20true%2C%20%22color%22%3A%20null%2C%20%22dashArray%22%3A%20null%2C%20%22dashOffset%22%3A%20null%2C%20%22fill%22%3A%20true%2C%20%22fillColor%22%3A%20%22%2306d6a0%22%2C%20%22fillOpacity%22%3A%200.8%2C%20%22fillRule%22%3A%20%22evenodd%22%2C%20%22lineCap%22%3A%20%22round%22%2C%20%22lineJoin%22%3A%20%22round%22%2C%20%22noClip%22%3A%20false%2C%20%22opacity%22%3A%201.0%2C%20%22smoothFactor%22%3A%201.0%2C%20%22stroke%22%3A%20true%2C%20%22weight%22%3A%201%7D%0A%20%20%20%20%20%20%20%20%20%20%20%20%29.addTo%28map_55094f1a776c4147b5ad73db012842ee%29%3B%0A%20%20%20%20%20%20%20%20%0A%20%20%20%20%0A%20%20%20%20%20%20%20%20%20%20%20%20var%20polygon_04f0c9d598e8479782f9771512f5cf6f%20%3D%20L.polygon%28%0A%20%20%20%20%20%20%20%20%20%20%20%20%20%20%20%20%5B%5B37.74794302346957%2C%20127.62169685709857%5D%2C%20%5B37.76490624314066%2C%20127.72061617551466%5D%2C%20%5B37.73826608015442%2C%20127.72636977339702%5D%2C%20%5B37.72130278361789%2C%20127.62744914204998%5D%5D%2C%0A%20%20%20%20%20%20%20%20%20%20%20%20%20%20%20%20%7B%22bubblingMouseEvents%22%3A%20true%2C%20%22color%22%3A%20null%2C%20%22dashArray%22%3A%20null%2C%20%22dashOffset%22%3A%20null%2C%20%22fill%22%3A%20true%2C%20%22fillColor%22%3A%20%22%2306d6a0%22%2C%20%22fillOpacity%22%3A%200.8%2C%20%22fillRule%22%3A%20%22evenodd%22%2C%20%22lineCap%22%3A%20%22round%22%2C%20%22lineJoin%22%3A%20%22round%22%2C%20%22noClip%22%3A%20false%2C%20%22opacity%22%3A%201.0%2C%20%22smoothFactor%22%3A%201.0%2C%20%22stroke%22%3A%20true%2C%20%22weight%22%3A%201%7D%0A%20%20%20%20%20%20%20%20%20%20%20%20%29.addTo%28map_55094f1a776c4147b5ad73db012842ee%29%3B%0A%20%20%20%20%20%20%20%20%0A%20%20%20%20%0A%20%20%20%20%20%20%20%20%20%20%20%20var%20polygon_9ea0add7a40d44359ecf7696eea75270%20%3D%20L.polygon%28%0A%20%20%20%20%20%20%20%20%20%20%20%20%20%20%20%20%5B%5B37.76504358643847%2C%20127.72193004563782%5D%2C%20%5B37.77060091156221%2C%20127.78218609598525%5D%2C%20%5B37.74368613628419%2C%20127.78531265265786%5D%2C%20%5B37.73812878571637%2C%20127.72505636846095%5D%5D%2C%0A%20%20%20%20%20%20%20%20%20%20%20%20%20%20%20%20%7B%22bubblingMouseEvents%22%3A%20true%2C%20%22color%22%3A%20null%2C%20%22dashArray%22%3A%20null%2C%20%22dashOffset%22%3A%20null%2C%20%22fill%22%3A%20true%2C%20%22fillColor%22%3A%20%22%2306d6a0%22%2C%20%22fillOpacity%22%3A%200.8%2C%20%22fillRule%22%3A%20%22evenodd%22%2C%20%22lineCap%22%3A%20%22round%22%2C%20%22lineJoin%22%3A%20%22round%22%2C%20%22noClip%22%3A%20false%2C%20%22opacity%22%3A%201.0%2C%20%22smoothFactor%22%3A%201.0%2C%20%22stroke%22%3A%20true%2C%20%22weight%22%3A%201%7D%0A%20%20%20%20%20%20%20%20%20%20%20%20%29.addTo%28map_55094f1a776c4147b5ad73db012842ee%29%3B%0A%20%20%20%20%20%20%20%20%0A%20%20%20%20%0A%20%20%20%20%20%20%20%20%20%20%20%20var%20polygon_449c5a68347d46768963c46ad27f4d6f%20%3D%20L.polygon%28%0A%20%20%20%20%20%20%20%20%20%20%20%20%20%20%20%20%5B%5B37.77024658898394%2C%20127.78791825378667%5D%2C%20%5B37.769187957119684%2C%20127.79211016185751%5D%2C%20%5B37.7429816972246%2C%20127.7837745582801%5D%2C%20%5B37.74404033380827%2C%20127.77958253142992%5D%5D%2C%0A%20%20%20%20%20%20%20%20%20%20%20%20%20%20%20%20%7B%22bubblingMouseEvents%22%3A%20true%2C%20%22color%22%3A%20null%2C%20%22dashArray%22%3A%20null%2C%20%22dashOffset%22%3A%20null%2C%20%22fill%22%3A%20true%2C%20%22fillColor%22%3A%20%22%2306d6a0%22%2C%20%22fillOpacity%22%3A%200.8%2C%20%22fillRule%22%3A%20%22evenodd%22%2C%20%22lineCap%22%3A%20%22round%22%2C%20%22lineJoin%22%3A%20%22round%22%2C%20%22noClip%22%3A%20false%2C%20%22opacity%22%3A%201.0%2C%20%22smoothFactor%22%3A%201.0%2C%20%22stroke%22%3A%20true%2C%20%22weight%22%3A%201%7D%0A%20%20%20%20%20%20%20%20%20%20%20%20%29.addTo%28map_55094f1a776c4147b5ad73db012842ee%29%3B%0A%20%20%20%20%20%20%20%20%0A%20%20%20%20%0A%20%20%20%20%20%20%20%20%20%20%20%20var%20polygon_77a0a9bd847648aeb1962d2444c5da2d%20%3D%20L.polygon%28%0A%20%20%20%20%20%20%20%20%20%20%20%20%20%20%20%20%5B%5B37.76959810925154%2C%20127.78770601021951%5D%2C%20%5B37.772056822839296%2C%20127.9653489183547%5D%2C%20%5B37.745030415041846%2C%20127.96582007781129%5D%2C%20%5B37.74257169014993%2C%20127.78817715408287%5D%5D%2C%0A%20%20%20%20%20%20%20%20%20%20%20%20%20%20%20%20%7B%22bubblingMouseEvents%22%3A%20true%2C%20%22color%22%3A%20null%2C%20%22dashArray%22%3A%20null%2C%20%22dashOffset%22%3A%20null%2C%20%22fill%22%3A%20true%2C%20%22fillColor%22%3A%20%22%2306d6a0%22%2C%20%22fillOpacity%22%3A%200.8%2C%20%22fillRule%22%3A%20%22evenodd%22%2C%20%22lineCap%22%3A%20%22round%22%2C%20%22lineJoin%22%3A%20%22round%22%2C%20%22noClip%22%3A%20false%2C%20%22opacity%22%3A%201.0%2C%20%22smoothFactor%22%3A%201.0%2C%20%22stroke%22%3A%20true%2C%20%22weight%22%3A%201%7D%0A%20%20%20%20%20%20%20%20%20%20%20%20%29.addTo%28map_55094f1a776c4147b5ad73db012842ee%29%3B%0A%20%20%20%20%20%20%20%20%0A%20%20%20%20%0A%20%20%20%20%20%20%20%20%20%20%20%20var%20polygon_ec10a1c14dc2402683e661ec063648c4%20%3D%20L.polygon%28%0A%20%20%20%20%20%20%20%20%20%20%20%20%20%20%20%20%5B%5B37.771858585554135%2C%20127.962670001052%5D%2C%20%5B37.80205478515574%2C%20128.13645725209955%5D%2C%20%5B37.775424918067806%2C%20128.14228765802284%5D%2C%20%5B37.74522858165276%2C%20127.96849803622366%5D%5D%2C%0A%20%20%20%20%20%20%20%20%20%20%20%20%20%20%20%20%7B%22bubblingMouseEvents%22%3A%20true%2C%20%22color%22%3A%20null%2C%20%22dashArray%22%3A%20null%2C%20%22dashOffset%22%3A%20null%2C%20%22fill%22%3A%20true%2C%20%22fillColor%22%3A%20%22%2306d6a0%22%2C%20%22fillOpacity%22%3A%200.8%2C%20%22fillRule%22%3A%20%22evenodd%22%2C%20%22lineCap%22%3A%20%22round%22%2C%20%22lineJoin%22%3A%20%22round%22%2C%20%22noClip%22%3A%20false%2C%20%22opacity%22%3A%201.0%2C%20%22smoothFactor%22%3A%201.0%2C%20%22stroke%22%3A%20true%2C%20%22weight%22%3A%201%7D%0A%20%20%20%20%20%20%20%20%20%20%20%20%29.addTo%28map_55094f1a776c4147b5ad73db012842ee%29%3B%0A%20%20%20%20%20%20%20%20%0A%20%20%20%20%0A%20%20%20%20%20%20%20%20%20%20%20%20var%20polygon_98f2fd946ba848978b2b44e30fed3a92%20%3D%20L.polygon%28%0A%20%20%20%20%20%20%20%20%20%20%20%20%20%20%20%20%5B%5B37.79908281745727%2C%20128.12841144075898%5D%2C%20%5B37.9244857065297%2C%20128.2775209565797%5D%2C%20%5B37.90379928111397%2C%20128.29947813470574%5D%2C%20%5B37.77839595035847%2C%20128.1503314601428%5D%5D%2C%0A%20%20%20%20%20%20%20%20%20%20%20%20%20%20%20%20%7B%22bubblingMouseEvents%22%3A%20true%2C%20%22color%22%3A%20null%2C%20%22dashArray%22%3A%20null%2C%20%22dashOffset%22%3A%20null%2C%20%22fill%22%3A%20true%2C%20%22fillColor%22%3A%20%22%2306d6a0%22%2C%20%22fillOpacity%22%3A%200.8%2C%20%22fillRule%22%3A%20%22evenodd%22%2C%20%22lineCap%22%3A%20%22round%22%2C%20%22lineJoin%22%3A%20%22round%22%2C%20%22noClip%22%3A%20false%2C%20%22opacity%22%3A%201.0%2C%20%22smoothFactor%22%3A%201.0%2C%20%22stroke%22%3A%20true%2C%20%22weight%22%3A%201%7D%0A%20%20%20%20%20%20%20%20%20%20%20%20%29.addTo%28map_55094f1a776c4147b5ad73db012842ee%29%3B%0A%20%20%20%20%20%20%20%20%0A%20%20%20%20%0A%20%20%20%20%20%20%20%20%20%20%20%20var%20polygon_b22cd12371a1415d926becd1dea52d88%20%3D%20L.polygon%28%0A%20%20%20%20%20%20%20%20%20%20%20%20%20%20%20%20%5B%5B37.92697023840908%2C%20128.28313142234651%5D%2C%20%5B38.00789632487747%2C%20128.52718608977193%5D%2C%20%5B37.98224195889066%2C%20128.53793533291403%5D%2C%20%5B37.90131551861561%2C%20128.2938688788158%5D%5D%2C%0A%20%20%20%20%20%20%20%20%20%20%20%20%20%20%20%20%7B%22bubblingMouseEvents%22%3A%20true%2C%20%22color%22%3A%20null%2C%20%22dashArray%22%3A%20null%2C%20%22dashOffset%22%3A%20null%2C%20%22fill%22%3A%20true%2C%20%22fillColor%22%3A%20%22%2306d6a0%22%2C%20%22fillOpacity%22%3A%200.8%2C%20%22fillRule%22%3A%20%22evenodd%22%2C%20%22lineCap%22%3A%20%22round%22%2C%20%22lineJoin%22%3A%20%22round%22%2C%20%22noClip%22%3A%20false%2C%20%22opacity%22%3A%201.0%2C%20%22smoothFactor%22%3A%201.0%2C%20%22stroke%22%3A%20true%2C%20%22weight%22%3A%201%7D%0A%20%20%20%20%20%20%20%20%20%20%20%20%29.addTo%28map_55094f1a776c4147b5ad73db012842ee%29%3B%0A%20%20%20%20%20%20%20%20%0A%20%20%20%20%0A%20%20%20%20%20%20%20%20%20%20%20%20var%20polygon_a96d6ede03f14d89a12a91f3a3484f0d%20%3D%20L.polygon%28%0A%20%20%20%20%20%20%20%20%20%20%20%20%20%20%20%20%5B%5B38.00434389179027%2C%20128.52014056580745%5D%2C%20%5B38.07633098975472%2C%20128.58806474871315%5D%2C%20%5B38.05778066519808%2C%20128.61292810381488%5D%2C%20%5B37.985793339505754%2C%20128.54497960094113%5D%5D%2C%0A%20%20%20%20%20%20%20%20%20%20%20%20%20%20%20%20%7B%22bubblingMouseEvents%22%3A%20true%2C%20%22color%22%3A%20null%2C%20%22dashArray%22%3A%20null%2C%20%22dashOffset%22%3A%20null%2C%20%22fill%22%3A%20true%2C%20%22fillColor%22%3A%20%22%2306d6a0%22%2C%20%22fillOpacity%22%3A%200.8%2C%20%22fillRule%22%3A%20%22evenodd%22%2C%20%22lineCap%22%3A%20%22round%22%2C%20%22lineJoin%22%3A%20%22round%22%2C%20%22noClip%22%3A%20false%2C%20%22opacity%22%3A%201.0%2C%20%22smoothFactor%22%3A%201.0%2C%20%22stroke%22%3A%20true%2C%20%22weight%22%3A%201%7D%0A%20%20%20%20%20%20%20%20%20%20%20%20%29.addTo%28map_55094f1a776c4147b5ad73db012842ee%29%3B%0A%20%20%20%20%20%20%20%20%0A%20%20%20%20%0A%20%20%20%20%20%20%20%20%20%20%20%20var%20polygon_01c3052404c84f68b0823cbeb73882a3%20%3D%20L.polygon%28%0A%20%20%20%20%20%20%20%20%20%20%20%20%20%20%20%20%5B%5B37.38456722958994%2C%20129.19200334468954%5D%2C%20%5B37.44001242309461%2C%20129.11907646290865%5D%2C%20%5B37.461529258583546%2C%20129.1395977890754%5D%2C%20%5B37.40608426739388%2C%20129.21250954513462%5D%5D%2C%0A%20%20%20%20%20%20%20%20%20%20%20%20%20%20%20%20%7B%22bubblingMouseEvents%22%3A%20true%2C%20%22color%22%3A%20null%2C%20%22dashArray%22%3A%20null%2C%20%22dashOffset%22%3A%20null%2C%20%22fill%22%3A%20true%2C%20%22fillColor%22%3A%20%22%2306d6a0%22%2C%20%22fillOpacity%22%3A%200.8%2C%20%22fillRule%22%3A%20%22evenodd%22%2C%20%22lineCap%22%3A%20%22round%22%2C%20%22lineJoin%22%3A%20%22round%22%2C%20%22noClip%22%3A%20false%2C%20%22opacity%22%3A%201.0%2C%20%22smoothFactor%22%3A%201.0%2C%20%22stroke%22%3A%20true%2C%20%22weight%22%3A%201%7D%0A%20%20%20%20%20%20%20%20%20%20%20%20%29.addTo%28map_55094f1a776c4147b5ad73db012842ee%29%3B%0A%20%20%20%20%20%20%20%20%0A%20%20%20%20%0A%20%20%20%20%20%20%20%20%20%20%20%20var%20polygon_3dcb333f5e43474c9742c005732f5ab8%20%3D%20L.polygon%28%0A%20%20%20%20%20%20%20%20%20%20%20%20%20%20%20%20%5B%5B37.444171760592965%2C%20129.11454246628685%5D%2C%20%5B37.505262469108%2C%20129.08035346214797%5D%2C%20%5B37.518459543894615%2C%20129.10996654112475%5D%2C%20%5B37.45736897217812%2C%20129.1441314458279%5D%5D%2C%0A%20%20%20%20%20%20%20%20%20%20%20%20%20%20%20%20%7B%22bubblingMouseEvents%22%3A%20true%2C%20%22color%22%3A%20null%2C%20%22dashArray%22%3A%20null%2C%20%22dashOffset%22%3A%20null%2C%20%22fill%22%3A%20true%2C%20%22fillColor%22%3A%20%22%2306d6a0%22%2C%20%22fillOpacity%22%3A%200.8%2C%20%22fillRule%22%3A%20%22evenodd%22%2C%20%22lineCap%22%3A%20%22round%22%2C%20%22lineJoin%22%3A%20%22round%22%2C%20%22noClip%22%3A%20false%2C%20%22opacity%22%3A%201.0%2C%20%22smoothFactor%22%3A%201.0%2C%20%22stroke%22%3A%20true%2C%20%22weight%22%3A%201%7D%0A%20%20%20%20%20%20%20%20%20%20%20%20%29.addTo%28map_55094f1a776c4147b5ad73db012842ee%29%3B%0A%20%20%20%20%20%20%20%20%0A%20%20%20%20%0A%20%20%20%20%20%20%20%20%20%20%20%20var%20polygon_e248b423abaa44f7a043c099b11848d2%20%3D%20L.polygon%28%0A%20%20%20%20%20%20%20%20%20%20%20%20%20%20%20%20%5B%5B37.511437662312375%2C%20129.0782009808897%5D%2C%20%5B37.58347663584086%2C%20129.07592853056582%5D%2C%20%5B37.584322742717%2C%20129.10987681149945%5D%2C%20%5B37.51228377953746%2C%20129.1121166068328%5D%5D%2C%0A%20%20%20%20%20%20%20%20%20%20%20%20%20%20%20%20%7B%22bubblingMouseEvents%22%3A%20true%2C%20%22color%22%3A%20null%2C%20%22dashArray%22%3A%20null%2C%20%22dashOffset%22%3A%20null%2C%20%22fill%22%3A%20true%2C%20%22fillColor%22%3A%20%22%2306d6a0%22%2C%20%22fillOpacity%22%3A%200.8%2C%20%22fillRule%22%3A%20%22evenodd%22%2C%20%22lineCap%22%3A%20%22round%22%2C%20%22lineJoin%22%3A%20%22round%22%2C%20%22noClip%22%3A%20false%2C%20%22opacity%22%3A%201.0%2C%20%22smoothFactor%22%3A%201.0%2C%20%22stroke%22%3A%20true%2C%20%22weight%22%3A%201%7D%0A%20%20%20%20%20%20%20%20%20%20%20%20%29.addTo%28map_55094f1a776c4147b5ad73db012842ee%29%3B%0A%20%20%20%20%20%20%20%20%0A%20%20%20%20%0A%20%20%20%20%20%20%20%20%20%20%20%20var%20polygon_18bc7ee14437497aa17d9f5e0c66470c%20%3D%20L.polygon%28%0A%20%20%20%20%20%20%20%20%20%20%20%20%20%20%20%20%5B%5B37.5724993133612%2C%20129.0837849830016%5D%2C%20%5B37.60777719935814%2C%20129.02835704091535%5D%2C%20%5B37.630579528881476%2C%20129.04660362016114%5D%2C%20%5B37.59530177953122%2C%20129.1020229483822%5D%5D%2C%0A%20%20%20%20%20%20%20%20%20%20%20%20%20%20%20%20%7B%22bubblingMouseEvents%22%3A%20true%2C%20%22color%22%3A%20null%2C%20%22dashArray%22%3A%20null%2C%20%22dashOffset%22%3A%20null%2C%20%22fill%22%3A%20true%2C%20%22fillColor%22%3A%20%22%2306d6a0%22%2C%20%22fillOpacity%22%3A%200.8%2C%20%22fillRule%22%3A%20%22evenodd%22%2C%20%22lineCap%22%3A%20%22round%22%2C%20%22lineJoin%22%3A%20%22round%22%2C%20%22noClip%22%3A%20false%2C%20%22opacity%22%3A%201.0%2C%20%22smoothFactor%22%3A%201.0%2C%20%22stroke%22%3A%20true%2C%20%22weight%22%3A%201%7D%0A%20%20%20%20%20%20%20%20%20%20%20%20%29.addTo%28map_55094f1a776c4147b5ad73db012842ee%29%3B%0A%20%20%20%20%20%20%20%20%0A%20%20%20%20%0A%20%20%20%20%20%20%20%20%20%20%20%20var%20polygon_6ae71cd732eb452295dd493ccdbdf107%20%3D%20L.polygon%28%0A%20%20%20%20%20%20%20%20%20%20%20%20%20%20%20%20%5B%5B37.607148823665774%2C%20129.02973675281612%5D%2C%20%5B37.68195326112723%2C%20128.88363205822415%5D%2C%20%5B37.7060122308857%2C%20128.89913446762066%5D%2C%20%5B37.631208099300004%2C%20129.04522361720728%5D%5D%2C%0A%20%20%20%20%20%20%20%20%20%20%20%20%20%20%20%20%7B%22bubblingMouseEvents%22%3A%20true%2C%20%22color%22%3A%20null%2C%20%22dashArray%22%3A%20null%2C%20%22dashOffset%22%3A%20null%2C%20%22fill%22%3A%20true%2C%20%22fillColor%22%3A%20%22%2306d6a0%22%2C%20%22fillOpacity%22%3A%200.8%2C%20%22fillRule%22%3A%20%22evenodd%22%2C%20%22lineCap%22%3A%20%22round%22%2C%20%22lineJoin%22%3A%20%22round%22%2C%20%22noClip%22%3A%20false%2C%20%22opacity%22%3A%201.0%2C%20%22smoothFactor%22%3A%201.0%2C%20%22stroke%22%3A%20true%2C%20%22weight%22%3A%201%7D%0A%20%20%20%20%20%20%20%20%20%20%20%20%29.addTo%28map_55094f1a776c4147b5ad73db012842ee%29%3B%0A%20%20%20%20%20%20%20%20%0A%20%20%20%20%0A%20%20%20%20%20%20%20%20%20%20%20%20var%20polygon_b65a94ccbc7c4c2288107e62ce6bb7ba%20%3D%20L.polygon%28%0A%20%20%20%20%20%20%20%20%20%20%20%20%20%20%20%20%5B%5B37.68467635291693%2C%20128.87905046966708%5D%2C%20%5B37.74010089591353%2C%20128.82641168978648%5D%2C%20%5B37.75871273618198%2C%20128.8510962398726%5D%2C%20%5B37.70328836861113%2C%20128.90371663443327%5D%5D%2C%0A%20%20%20%20%20%20%20%20%20%20%20%20%20%20%20%20%7B%22bubblingMouseEvents%22%3A%20true%2C%20%22color%22%3A%20null%2C%20%22dashArray%22%3A%20null%2C%20%22dashOffset%22%3A%20null%2C%20%22fill%22%3A%20true%2C%20%22fillColor%22%3A%20%22%2306d6a0%22%2C%20%22fillOpacity%22%3A%200.8%2C%20%22fillRule%22%3A%20%22evenodd%22%2C%20%22lineCap%22%3A%20%22round%22%2C%20%22lineJoin%22%3A%20%22round%22%2C%20%22noClip%22%3A%20false%2C%20%22opacity%22%3A%201.0%2C%20%22smoothFactor%22%3A%201.0%2C%20%22stroke%22%3A%20true%2C%20%22weight%22%3A%201%7D%0A%20%20%20%20%20%20%20%20%20%20%20%20%29.addTo%28map_55094f1a776c4147b5ad73db012842ee%29%3B%0A%20%20%20%20%20%20%20%20%0A%20%20%20%20%0A%20%20%20%20%20%20%20%20%20%20%20%20var%20polygon_f799e20a8f3d4a48a1eeca2dd14178f8%20%3D%20L.polygon%28%0A%20%20%20%20%20%20%20%20%20%20%20%20%20%20%20%20%5B%5B37.74569090564388%2C%20128.8223888662579%5D%2C%20%5B37.76886309850629%2C%20128.81575792499112%5D%2C%20%5B37.77629392280638%2C%20128.84849687875615%5D%2C%20%5B37.753121759236905%2C%20128.85511760857094%5D%5D%2C%0A%20%20%20%20%20%20%20%20%20%20%20%20%20%20%20%20%7B%22bubblingMouseEvents%22%3A%20true%2C%20%22color%22%3A%20null%2C%20%22dashArray%22%3A%20null%2C%20%22dashOffset%22%3A%20null%2C%20%22fill%22%3A%20true%2C%20%22fillColor%22%3A%20%22%2306d6a0%22%2C%20%22fillOpacity%22%3A%200.8%2C%20%22fillRule%22%3A%20%22evenodd%22%2C%20%22lineCap%22%3A%20%22round%22%2C%20%22lineJoin%22%3A%20%22round%22%2C%20%22noClip%22%3A%20false%2C%20%22opacity%22%3A%201.0%2C%20%22smoothFactor%22%3A%201.0%2C%20%22stroke%22%3A%20true%2C%20%22weight%22%3A%201%7D%0A%20%20%20%20%20%20%20%20%20%20%20%20%29.addTo%28map_55094f1a776c4147b5ad73db012842ee%29%3B%0A%20%20%20%20%20%20%20%20%0A%20%20%20%20%0A%20%20%20%20%20%20%20%20%20%20%20%20var%20polygon_cc47143e235a434591e47cee696a5952%20%3D%20L.polygon%28%0A%20%20%20%20%20%20%20%20%20%20%20%20%20%20%20%20%5B%5B37.768983585843955%2C%20128.8157152550456%5D%2C%20%5B37.83204194090122%2C%20128.79830053044705%5D%2C%20%5B37.83923170165337%2C%20128.83115269555537%5D%2C%20%5B37.77617342375527%2C%20128.84853949970199%5D%5D%2C%0A%20%20%20%20%20%20%20%20%20%20%20%20%20%20%20%20%7B%22bubblingMouseEvents%22%3A%20true%2C%20%22color%22%3A%20null%2C%20%22dashArray%22%3A%20null%2C%20%22dashOffset%22%3A%20null%2C%20%22fill%22%3A%20true%2C%20%22fillColor%22%3A%20%22%2306d6a0%22%2C%20%22fillOpacity%22%3A%200.8%2C%20%22fillRule%22%3A%20%22evenodd%22%2C%20%22lineCap%22%3A%20%22round%22%2C%20%22lineJoin%22%3A%20%22round%22%2C%20%22noClip%22%3A%20false%2C%20%22opacity%22%3A%201.0%2C%20%22smoothFactor%22%3A%201.0%2C%20%22stroke%22%3A%20true%2C%20%22weight%22%3A%201%7D%0A%20%20%20%20%20%20%20%20%20%20%20%20%29.addTo%28map_55094f1a776c4147b5ad73db012842ee%29%3B%0A%20%20%20%20%20%20%20%20%0A%20%20%20%20%0A%20%20%20%20%20%20%20%20%20%20%20%20var%20polygon_e22ef7777f174ab0bbd838be3554a315%20%3D%20L.polygon%28%0A%20%20%20%20%20%20%20%20%20%20%20%20%20%20%20%20%5B%5B37.83159041009955%2C%20128.7984684589346%5D%2C%20%5B37.911207140942565%2C%20128.77346600770753%5D%2C%20%5B37.91929989956136%2C%20128.80601751337412%5D%2C%20%5B37.83968327844482%2C%20128.83098494898096%5D%5D%2C%0A%20%20%20%20%20%20%20%20%20%20%20%20%20%20%20%20%7B%22bubblingMouseEvents%22%3A%20true%2C%20%22color%22%3A%20null%2C%20%22dashArray%22%3A%20null%2C%20%22dashOffset%22%3A%20null%2C%20%22fill%22%3A%20true%2C%20%22fillColor%22%3A%20%22%2306d6a0%22%2C%20%22fillOpacity%22%3A%200.8%2C%20%22fillRule%22%3A%20%22evenodd%22%2C%20%22lineCap%22%3A%20%22round%22%2C%20%22lineJoin%22%3A%20%22round%22%2C%20%22noClip%22%3A%20false%2C%20%22opacity%22%3A%201.0%2C%20%22smoothFactor%22%3A%201.0%2C%20%22stroke%22%3A%20true%2C%20%22weight%22%3A%201%7D%0A%20%20%20%20%20%20%20%20%20%20%20%20%29.addTo%28map_55094f1a776c4147b5ad73db012842ee%29%3B%0A%20%20%20%20%20%20%20%20%0A%20%20%20%20%0A%20%20%20%20%20%20%20%20%20%20%20%20var%20polygon_21aa2035203c42c6b9c54c5853246958%20%3D%20L.polygon%28%0A%20%20%20%20%20%20%20%20%20%20%20%20%20%20%20%20%5B%5B37.906407214335005%2C%20128.77684711376463%5D%2C%20%5B38.01635362422903%2C%20128.68161841532287%5D%2C%20%5B38.03404673182432%2C%20128.70744750674115%5D%2C%20%5B37.92410065349041%2C%20128.80263771297993%5D%5D%2C%0A%20%20%20%20%20%20%20%20%20%20%20%20%20%20%20%20%7B%22bubblingMouseEvents%22%3A%20true%2C%20%22color%22%3A%20null%2C%20%22dashArray%22%3A%20null%2C%20%22dashOffset%22%3A%20null%2C%20%22fill%22%3A%20true%2C%20%22fillColor%22%3A%20%22%2306d6a0%22%2C%20%22fillOpacity%22%3A%200.8%2C%20%22fillRule%22%3A%20%22evenodd%22%2C%20%22lineCap%22%3A%20%22round%22%2C%20%22lineJoin%22%3A%20%22round%22%2C%20%22noClip%22%3A%20false%2C%20%22opacity%22%3A%201.0%2C%20%22smoothFactor%22%3A%201.0%2C%20%22stroke%22%3A%20true%2C%20%22weight%22%3A%201%7D%0A%20%20%20%20%20%20%20%20%20%20%20%20%29.addTo%28map_55094f1a776c4147b5ad73db012842ee%29%3B%0A%20%20%20%20%20%20%20%20%0A%20%20%20%20%0A%20%20%20%20%20%20%20%20%20%20%20%20var%20polygon_fc7eca2f05794adcb9f99843c7ac60a9%20%3D%20L.polygon%28%0A%20%20%20%20%20%20%20%20%20%20%20%20%20%20%20%20%5B%5B38.012854602472885%2C%20128.6875854520356%5D%2C%20%5B38.054710288600496%2C%20128.59354808585604%5D%2C%20%5B38.0794022587958%2C%20128.6074502420927%5D%2C%20%5B38.037546748936336%2C%20128.70147969586708%5D%5D%2C%0A%20%20%20%20%20%20%20%20%20%20%20%20%20%20%20%20%7B%22bubblingMouseEvents%22%3A%20true%2C%20%22color%22%3A%20null%2C%20%22dashArray%22%3A%20null%2C%20%22dashOffset%22%3A%20null%2C%20%22fill%22%3A%20true%2C%20%22fillColor%22%3A%20%22%2306d6a0%22%2C%20%22fillOpacity%22%3A%200.8%2C%20%22fillRule%22%3A%20%22evenodd%22%2C%20%22lineCap%22%3A%20%22round%22%2C%20%22lineJoin%22%3A%20%22round%22%2C%20%22noClip%22%3A%20false%2C%20%22opacity%22%3A%201.0%2C%20%22smoothFactor%22%3A%201.0%2C%20%22stroke%22%3A%20true%2C%20%22weight%22%3A%201%7D%0A%20%20%20%20%20%20%20%20%20%20%20%20%29.addTo%28map_55094f1a776c4147b5ad73db012842ee%29%3B%0A%20%20%20%20%20%20%20%20%0A%20%20%20%20%0A%20%20%20%20%20%20%20%20%20%20%20%20var%20polygon_fc39a997666a4f4aadf85ce6e9e5cbe5%20%3D%20L.polygon%28%0A%20%20%20%20%20%20%20%20%20%20%20%20%20%20%20%20%5B%5B38.06483935817752%2C%20128.58363632941823%5D%2C%20%5B38.15224025785323%2C%20128.56908801724043%5D%2C%20%5B38.156672039999535%2C%20128.60285257659976%5D%2C%20%5B38.06927120642472%2C%20128.61736067944994%5D%5D%2C%0A%20%20%20%20%20%20%20%20%20%20%20%20%20%20%20%20%7B%22bubblingMouseEvents%22%3A%20true%2C%20%22color%22%3A%20null%2C%20%22dashArray%22%3A%20null%2C%20%22dashOffset%22%3A%20null%2C%20%22fill%22%3A%20true%2C%20%22fillColor%22%3A%20%22%2306d6a0%22%2C%20%22fillOpacity%22%3A%200.8%2C%20%22fillRule%22%3A%20%22evenodd%22%2C%20%22lineCap%22%3A%20%22round%22%2C%20%22lineJoin%22%3A%20%22round%22%2C%20%22noClip%22%3A%20false%2C%20%22opacity%22%3A%201.0%2C%20%22smoothFactor%22%3A%201.0%2C%20%22stroke%22%3A%20true%2C%20%22weight%22%3A%201%7D%0A%20%20%20%20%20%20%20%20%20%20%20%20%29.addTo%28map_55094f1a776c4147b5ad73db012842ee%29%3B%0A%20%20%20%20%20%20%20%20%0A%20%20%20%20%0A%20%20%20%20%20%20%20%20%20%20%20%20var%20polygon_8ae683b24c83419a9d04ba6b1bf87dff%20%3D%20L.polygon%28%0A%20%20%20%20%20%20%20%20%20%20%20%20%20%20%20%20%5B%5B38.14352599604707%2C%20128.5759088455374%5D%2C%20%5B38.193313672087925%2C%20128.50740783030628%5D%2C%20%5B38.2151753369578%2C%20128.52754641417172%5D%2C%20%5B38.1653878467707%2C%20128.59603373053594%5D%5D%2C%0A%20%20%20%20%20%20%20%20%20%20%20%20%20%20%20%20%7B%22bubblingMouseEvents%22%3A%20true%2C%20%22color%22%3A%20null%2C%20%22dashArray%22%3A%20null%2C%20%22dashOffset%22%3A%20null%2C%20%22fill%22%3A%20true%2C%20%22fillColor%22%3A%20%22%2306d6a0%22%2C%20%22fillOpacity%22%3A%200.8%2C%20%22fillRule%22%3A%20%22evenodd%22%2C%20%22lineCap%22%3A%20%22round%22%2C%20%22lineJoin%22%3A%20%22round%22%2C%20%22noClip%22%3A%20false%2C%20%22opacity%22%3A%201.0%2C%20%22smoothFactor%22%3A%201.0%2C%20%22stroke%22%3A%20true%2C%20%22weight%22%3A%201%7D%0A%20%20%20%20%20%20%20%20%20%20%20%20%29.addTo%28map_55094f1a776c4147b5ad73db012842ee%29%3B%0A%20%20%20%20%20%20%20%20%0A%3C/script%3E onload=\"this.contentDocument.open();this.contentDocument.write(    decodeURIComponent(this.getAttribute('data-html')));this.contentDocument.close();\" allowfullscreen webkitallowfullscreen mozallowfullscreen></iframe></div></div>"
      ],
      "text/plain": [
       "<folium.folium.Map at 0x198e0d5ae50>"
      ]
     },
     "execution_count": 46,
     "metadata": {},
     "output_type": "execute_result"
    }
   ],
   "source": [
    "grouping_map"
   ]
  },
  {
   "cell_type": "code",
   "execution_count": 47,
   "id": "7475a328-e24d-42a4-a27e-75be0fefccfe",
   "metadata": {},
   "outputs": [],
   "source": [
    "grouping_map.save('강원도 지역 고속도로 시각화.html')"
   ]
  },
  {
   "cell_type": "code",
   "execution_count": 48,
   "id": "dbae2937-c246-4d78-a1c6-a0f44d722222",
   "metadata": {},
   "outputs": [
    {
     "data": {
      "text/plain": [
       "2    13\n",
       "1     6\n",
       "Name: rest_count, dtype: int64"
      ]
     },
     "execution_count": 48,
     "metadata": {},
     "output_type": "execute_result"
    }
   ],
   "source": [
    "#휴게소 없는 구간 filtering\n",
    "traffic_df_gangwon = traffic_df_gangwon[traffic_df_gangwon['rest_count'] != 0]\n",
    "traffic_df_gangwon['rest_count'].value_counts()"
   ]
  },
  {
   "cell_type": "code",
   "execution_count": 49,
   "id": "65091f5d-e619-4001-a949-ef4bb07748a4",
   "metadata": {},
   "outputs": [
    {
     "data": {
      "text/plain": [
       "(8, 23)"
      ]
     },
     "execution_count": 49,
     "metadata": {},
     "output_type": "execute_result"
    }
   ],
   "source": [
    "#사고가 일어나지 않은 구간 filtering\n",
    "traffic_df_gangwon = traffic_df_gangwon[traffic_df_gangwon['accident_count'] != 0]\n",
    "traffic_df_gangwon.shape"
   ]
  },
  {
   "cell_type": "code",
   "execution_count": 50,
   "id": "59ea69d5-fca5-4b2c-8e91-3bd8d102fe8b",
   "metadata": {},
   "outputs": [],
   "source": [
    "import matplotlib\n",
    "import matplotlib.font_manager as fm\n",
    "fm.get_fontconfig_fonts()\n",
    "# font_location = '/usr/share/fonts/truetype/nanum/NanumGothicOTF.ttf'\n",
    "font_location = r'C:\\Users\\Jo\\PYDATAexam\\font\\malgun.ttf' # For Windows\n",
    "font_name = fm.FontProperties(fname=font_location).get_name()\n",
    "matplotlib.rc('font', family=font_name)"
   ]
  },
  {
   "cell_type": "code",
   "execution_count": 65,
   "id": "62c501eb-8b78-477d-8a88-95c781ddb537",
   "metadata": {},
   "outputs": [],
   "source": [
    "#elbow method \n",
    "def elbow_method(df):\n",
    "    cols = ['accident_count','3~12종','distance']\n",
    "    scaler = ['minmax', 'standard', 'robust']\n",
    "    box = {}\n",
    "\n",
    "    fig, axes = plt.subplots(1,3,figsize = (18 , 5))\n",
    "\n",
    "    for i, scale in enumerate(scaler):\n",
    "        data = df[cols].values\n",
    "        if scale == 'minmax':\n",
    "            data = MinMaxScaler().fit_transform(data)\n",
    "        elif scale == 'standard':\n",
    "            data = StandardScaler().fit_transform(data)\n",
    "        elif scale == 'robust':\n",
    "            data = RobustScaler().fit_transform(data)\n",
    "\n",
    "        distortions = []\n",
    "        for j in range(1,7):\n",
    "            data = df[cols].values\n",
    "            kmeans = KMeans(n_clusters=j).fit(data)\n",
    "            distortions.append(kmeans.inertia_)\n",
    "\n",
    "        axes[i].plot(range(1, 7), distortions, marker='o')\n",
    "        axes[i].set_title(scale)\n",
    "        axes[i].set_xlabel('Number of clusters')\n",
    "        axes[i].set_ylabel('Distortion')\n",
    "        \n",
    "    plt.show()"
   ]
  },
  {
   "cell_type": "code",
   "execution_count": 66,
   "id": "d35f9e8c-14a5-4a88-ac6a-2d0d35d3a0e5",
   "metadata": {},
   "outputs": [
    {
     "name": "stdout",
     "output_type": "stream",
     "text": [
      "silhouette_samples() return 값의 shape (8,)\n",
      "silhouette analysis score:0.762\n"
     ]
    },
    {
     "name": "stderr",
     "output_type": "stream",
     "text": [
      "C:\\Users\\Jo\\AppData\\Local\\Temp\\ipykernel_27932\\3212360106.py:8: SettingWithCopyWarning: \n",
      "A value is trying to be set on a copy of a slice from a DataFrame.\n",
      "Try using .loc[row_indexer,col_indexer] = value instead\n",
      "\n",
      "See the caveats in the documentation: https://pandas.pydata.org/pandas-docs/stable/user_guide/indexing.html#returning-a-view-versus-a-copy\n",
      "  silhouette_df['cluster'] = kmeans.labels_\n",
      "C:\\Users\\Jo\\AppData\\Local\\Temp\\ipykernel_27932\\3212360106.py:13: SettingWithCopyWarning: \n",
      "A value is trying to be set on a copy of a slice from a DataFrame.\n",
      "Try using .loc[row_indexer,col_indexer] = value instead\n",
      "\n",
      "See the caveats in the documentation: https://pandas.pydata.org/pandas-docs/stable/user_guide/indexing.html#returning-a-view-versus-a-copy\n",
      "  silhouette_df['silhouette_coeff'] = score_samples\n"
     ]
    },
    {
     "data": {
      "text/html": [
       "<div>\n",
       "<style scoped>\n",
       "    .dataframe tbody tr th:only-of-type {\n",
       "        vertical-align: middle;\n",
       "    }\n",
       "\n",
       "    .dataframe tbody tr th {\n",
       "        vertical-align: top;\n",
       "    }\n",
       "\n",
       "    .dataframe thead th {\n",
       "        text-align: right;\n",
       "    }\n",
       "</style>\n",
       "<table border=\"1\" class=\"dataframe\">\n",
       "  <thead>\n",
       "    <tr style=\"text-align: right;\">\n",
       "      <th></th>\n",
       "      <th>accident_count</th>\n",
       "      <th>3~12종</th>\n",
       "      <th>distance</th>\n",
       "      <th>cluster</th>\n",
       "      <th>silhouette_coeff</th>\n",
       "    </tr>\n",
       "  </thead>\n",
       "  <tbody>\n",
       "    <tr>\n",
       "      <th>2</th>\n",
       "      <td>6</td>\n",
       "      <td>3800</td>\n",
       "      <td>15.763568</td>\n",
       "      <td>0</td>\n",
       "      <td>0.950492</td>\n",
       "    </tr>\n",
       "    <tr>\n",
       "      <th>7</th>\n",
       "      <td>3</td>\n",
       "      <td>2492</td>\n",
       "      <td>10.813693</td>\n",
       "      <td>2</td>\n",
       "      <td>0.561847</td>\n",
       "    </tr>\n",
       "    <tr>\n",
       "      <th>11</th>\n",
       "      <td>13</td>\n",
       "      <td>5496</td>\n",
       "      <td>13.368577</td>\n",
       "      <td>1</td>\n",
       "      <td>0.978394</td>\n",
       "    </tr>\n",
       "    <tr>\n",
       "      <th>13</th>\n",
       "      <td>22</td>\n",
       "      <td>5460</td>\n",
       "      <td>13.506793</td>\n",
       "      <td>1</td>\n",
       "      <td>0.977932</td>\n",
       "    </tr>\n",
       "    <tr>\n",
       "      <th>29</th>\n",
       "      <td>1</td>\n",
       "      <td>3182</td>\n",
       "      <td>8.080314</td>\n",
       "      <td>2</td>\n",
       "      <td>0.402389</td>\n",
       "    </tr>\n",
       "  </tbody>\n",
       "</table>\n",
       "</div>"
      ],
      "text/plain": [
       "    accident_count  3~12종   distance  cluster  silhouette_coeff\n",
       "2                6   3800  15.763568        0          0.950492\n",
       "7                3   2492  10.813693        2          0.561847\n",
       "11              13   5496  13.368577        1          0.978394\n",
       "13              22   5460  13.506793        1          0.977932\n",
       "29               1   3182   8.080314        2          0.402389"
      ]
     },
     "execution_count": 66,
     "metadata": {},
     "output_type": "execute_result"
    }
   ],
   "source": [
    "#군집평가 : 실루엣 분석\n",
    "from sklearn.metrics import silhouette_samples, silhouette_score\n",
    "from sklearn.preprocessing import StandardScaler\n",
    "\n",
    "feature_names = ['accident_count','3~12종','distance']\n",
    "silhouette_df = traffic_df_gangwon[feature_names]\n",
    "kmeans = KMeans(n_clusters=3).fit(silhouette_df)\n",
    "silhouette_df['cluster'] = kmeans.labels_\n",
    "\n",
    "score_samples = silhouette_samples(silhouette_df.to_numpy(),silhouette_df['cluster'])\n",
    "print('silhouette_samples() return 값의 shape',score_samples.shape)\n",
    "\n",
    "silhouette_df['silhouette_coeff'] = score_samples\n",
    "\n",
    "average_score = silhouette_score(silhouette_df.to_numpy(),silhouette_df['cluster'])\n",
    "print('silhouette analysis score:{0:.3f}'.format(average_score))\n",
    "silhouette_df.head()"
   ]
  },
  {
   "cell_type": "code",
   "execution_count": 67,
   "id": "be104342-a448-4587-882d-bde920e1a122",
   "metadata": {},
   "outputs": [
    {
     "data": {
      "image/png": "[encoded data removed]",
      "text/plain": [
       "<Figure size 1440x288 with 5 Axes>"
      ]
     },
     "metadata": {
      "needs_background": "light"
     },
     "output_type": "display_data"
    }
   ],
   "source": [
    "visualize_silhouette([2,3,4,5,6], silhouette_df.to_numpy())"
   ]
  },
  {
   "cell_type": "code",
   "execution_count": 68,
   "id": "952ab737-bbb6-49ce-8003-6448c77b41c0",
   "metadata": {},
   "outputs": [
    {
     "name": "stderr",
     "output_type": "stream",
     "text": [
      "C:\\Users\\Jo\\anaconda3\\envs\\pydatavenv\\lib\\site-packages\\sklearn\\cluster\\_kmeans.py:1036: UserWarning: KMeans is known to have a memory leak on Windows with MKL, when there are less chunks than available threads. You can avoid it by setting the environment variable OMP_NUM_THREADS=1.\n",
      "  warnings.warn(\n",
      "C:\\Users\\Jo\\anaconda3\\envs\\pydatavenv\\lib\\site-packages\\sklearn\\cluster\\_kmeans.py:1036: UserWarning: KMeans is known to have a memory leak on Windows with MKL, when there are less chunks than available threads. You can avoid it by setting the environment variable OMP_NUM_THREADS=1.\n",
      "  warnings.warn(\n",
      "C:\\Users\\Jo\\anaconda3\\envs\\pydatavenv\\lib\\site-packages\\sklearn\\cluster\\_kmeans.py:1036: UserWarning: KMeans is known to have a memory leak on Windows with MKL, when there are less chunks than available threads. You can avoid it by setting the environment variable OMP_NUM_THREADS=1.\n",
      "  warnings.warn(\n"
     ]
    },
    {
     "data": {
      "image/png": "[encoded data removed]",
      "text/plain": [
       "<Figure size 1296x360 with 3 Axes>"
      ]
     },
     "metadata": {
      "needs_background": "light"
     },
     "output_type": "display_data"
    }
   ],
   "source": [
    "elbow_method(traffic_df_gangwon)"
   ]
  },
  {
   "cell_type": "code",
   "execution_count": 69,
   "id": "843a1946-313b-4296-8991-d78a45e225b5",
   "metadata": {},
   "outputs": [],
   "source": [
    "silhouette_df_copy = silhouette_df[['accident_count','3~12종','cluster','distance']]"
   ]
  },
  {
   "cell_type": "code",
   "execution_count": 70,
   "id": "7c557abe-90e0-4e66-b224-dfaed048cbcd",
   "metadata": {},
   "outputs": [
    {
     "data": {
      "text/html": [
       "<div>\n",
       "<style scoped>\n",
       "    .dataframe tbody tr th:only-of-type {\n",
       "        vertical-align: middle;\n",
       "    }\n",
       "\n",
       "    .dataframe tbody tr th {\n",
       "        vertical-align: top;\n",
       "    }\n",
       "\n",
       "    .dataframe thead th {\n",
       "        text-align: right;\n",
       "    }\n",
       "</style>\n",
       "<table border=\"1\" class=\"dataframe\">\n",
       "  <thead>\n",
       "    <tr style=\"text-align: right;\">\n",
       "      <th></th>\n",
       "      <th>accident_count</th>\n",
       "      <th>3~12종</th>\n",
       "      <th>cluster</th>\n",
       "      <th>distance</th>\n",
       "      <th>pca_x</th>\n",
       "      <th>pca_y</th>\n",
       "    </tr>\n",
       "  </thead>\n",
       "  <tbody>\n",
       "    <tr>\n",
       "      <th>2</th>\n",
       "      <td>6</td>\n",
       "      <td>3800</td>\n",
       "      <td>0</td>\n",
       "      <td>15.763568</td>\n",
       "      <td>28.488563</td>\n",
       "      <td>-3.178022</td>\n",
       "    </tr>\n",
       "    <tr>\n",
       "      <th>7</th>\n",
       "      <td>3</td>\n",
       "      <td>2492</td>\n",
       "      <td>2</td>\n",
       "      <td>10.813693</td>\n",
       "      <td>-1279.509396</td>\n",
       "      <td>2.492019</td>\n",
       "    </tr>\n",
       "    <tr>\n",
       "      <th>11</th>\n",
       "      <td>13</td>\n",
       "      <td>5496</td>\n",
       "      <td>1</td>\n",
       "      <td>13.368577</td>\n",
       "      <td>1724.501225</td>\n",
       "      <td>-4.001054</td>\n",
       "    </tr>\n",
       "    <tr>\n",
       "      <th>13</th>\n",
       "      <td>22</td>\n",
       "      <td>5460</td>\n",
       "      <td>1</td>\n",
       "      <td>13.506793</td>\n",
       "      <td>1688.550320</td>\n",
       "      <td>4.279245</td>\n",
       "    </tr>\n",
       "    <tr>\n",
       "      <th>29</th>\n",
       "      <td>1</td>\n",
       "      <td>3182</td>\n",
       "      <td>2</td>\n",
       "      <td>8.080314</td>\n",
       "      <td>-589.530688</td>\n",
       "      <td>-1.500846</td>\n",
       "    </tr>\n",
       "  </tbody>\n",
       "</table>\n",
       "</div>"
      ],
      "text/plain": [
       "    accident_count  3~12종  cluster   distance        pca_x     pca_y\n",
       "2                6   3800        0  15.763568    28.488563 -3.178022\n",
       "7                3   2492        2  10.813693 -1279.509396  2.492019\n",
       "11              13   5496        1  13.368577  1724.501225 -4.001054\n",
       "13              22   5460        1  13.506793  1688.550320  4.279245\n",
       "29               1   3182        2   8.080314  -589.530688 -1.500846"
      ]
     },
     "execution_count": 70,
     "metadata": {},
     "output_type": "execute_result"
    }
   ],
   "source": [
    "#차원 축소\n",
    "from sklearn.decomposition import PCA\n",
    "\n",
    "pca = PCA(n_components=2)\n",
    "pca_transformed = pca.fit_transform(silhouette_df_copy[['distance','accident_count','3~12종']].to_numpy())\n",
    "\n",
    "silhouette_df_copy['pca_x'] = pca_transformed[:,0]\n",
    "silhouette_df_copy['pca_y'] = pca_transformed[:,1]\n",
    "silhouette_df_copy.head()"
   ]
  },
  {
   "cell_type": "code",
   "execution_count": null,
   "id": "3064e640-e37f-456e-829c-2baa448d9812",
   "metadata": {},
   "outputs": [],
   "source": [
    "plt.scatter(x=silhouette_df_copy['pca_x'],y=silhouette_df_copy['pca_y'],edgecolor='k',c=silhouette_df_copy['cluster'])"
   ]
  },
  {
   "cell_type": "code",
   "execution_count": null,
   "id": "6bea4fd9-9ff6-40aa-9641-245c95571fa6",
   "metadata": {},
   "outputs": [],
   "source": [
    "#군집화\n",
    "def cluster(df, seed):\n",
    "    cols = ['accident_count','3~12종','distance']\n",
    "    data = df[cols].values\n",
    "    data = StandardScaler().fit_transform(data)\n",
    "\n",
    "    kmeans = KMeans(n_clusters=3, random_state=seed).fit(data)\n",
    "    df['cluster_id'] = kmeans.labels_\n",
    "    return df"
   ]
  },
  {
   "cell_type": "code",
   "execution_count": null,
   "id": "37c6e7e4-650e-4344-924d-8af29e905144",
   "metadata": {},
   "outputs": [],
   "source": [
    "group_df = cluster(traffic_df_gangwon, 0)"
   ]
  },
  {
   "cell_type": "code",
   "execution_count": null,
   "id": "72d9366a-9c54-4847-8d08-084537165fac",
   "metadata": {},
   "outputs": [],
   "source": [
    "group_df.reset_index(inplace=True)\n",
    "group_df.head()"
   ]
  },
  {
   "cell_type": "code",
   "execution_count": null,
   "id": "01bfe269-122c-4cd8-949d-60c7730690d3",
   "metadata": {},
   "outputs": [],
   "source": [
    "def cluster_color(id):\n",
    "    if id == 0:\n",
    "        color = '#ef476f'\n",
    "        opacity = 1\n",
    "    elif id == 1:\n",
    "        color = '#06d6a0'\n",
    "        opacity = 0.1\n",
    "    else:\n",
    "        color = '#118ab2'\n",
    "        opacity = 0.1        \n",
    "    return color, opacity"
   ]
  },
  {
   "cell_type": "code",
   "execution_count": null,
   "id": "2e1b0720-82d1-41f4-a539-346dda74a8f4",
   "metadata": {},
   "outputs": [],
   "source": [
    "counts=[]\n",
    "cluster_map = folium.Map(location=[36, 127.5], tiles='cartodbpositron', zoom_start=7)\n",
    "res = []\n",
    "for i in range(len(group_df)):\n",
    "    startpoint = group_df['startpoint_coor'][i]\n",
    "    endpoint = group_df['endpoint_coor'][i]\n",
    "\n",
    "    rad = cal_rad(startpoint, endpoint)\n",
    "    deg = np.rad2deg(rad)\n",
    "    dist = 1.5\n",
    "    origin_start = geopy.Point(startpoint)\n",
    "    origin_end = geopy.Point(endpoint)\n",
    "\n",
    "    degree = [90+deg, 270+deg]\n",
    "\n",
    "    poly_a = []\n",
    "    poly_b = []\n",
    "\n",
    "    for de in degree:\n",
    "\n",
    "        destination_start = geodesic(kilometers=dist).destination(origin_start, de)\n",
    "        destination_end = geodesic(kilometers=dist).destination(origin_end, de)\n",
    "        new_lat1, new_lon1 = destination_start.latitude, destination_start.longitude\n",
    "        new_lat2, new_lon2 = destination_end.latitude, destination_end.longitude\n",
    "\n",
    "        poly_a.append([new_lat1, new_lon1])\n",
    "        poly_b.append([new_lat2, new_lon2])\n",
    "      \n",
    "    polygon_vect = np.array([poly_a[0],poly_b[0],poly_b[1],poly_a[1]])\n",
    "    polygon = Polygon(polygon_vect)\n",
    "\n",
    "    folium.Polygon(locations=[poly_a[0], poly_b[0], poly_b[1], poly_a[1]],\n",
    "                  weight = 1,\n",
    "                  color = None, # traffic_color(traffic_df['traffic'][i])[0], #'#4287f5',\n",
    "                  fill_color = cluster_color(id = group_df['cluster_id'][i])[0], # '#50aa50', \n",
    "                  fill_opacity=cluster_color(id = group_df['cluster_id'][i])[1],\n",
    "                  tooltip=group_df['구간'][i]\n",
    "                      ).add_to(cluster_map)\n",
    "    \n",
    "    if cluster_color(id = group_df['cluster_id'][i])[0] == '#ef476f':\n",
    "        res.append(group_df.iloc[i]['구간'])"
   ]
  },
  {
   "cell_type": "code",
   "execution_count": null,
   "id": "2824865b-faeb-4f63-91f7-cd57fdb2d31e",
   "metadata": {},
   "outputs": [],
   "source": [
    "import pandas as pd\n",
    "\n",
    "rest_df = pd.read_csv('고속도로 휴게소 데이터.csv')\n",
    "rest_df.head()"
   ]
  },
  {
   "cell_type": "code",
   "execution_count": null,
   "id": "5a73ae76-d43a-45b8-b9d4-2bf3767aeeb7",
   "metadata": {},
   "outputs": [],
   "source": [
    "truck_no = rest_df[rest_df['truckSaYn'] == 'O']\n",
    "truck_no.head()"
   ]
  },
  {
   "cell_type": "code",
   "execution_count": null,
   "id": "c283b206-9330-4a9b-9006-0aecc6f17035",
   "metadata": {},
   "outputs": [],
   "source": [
    "for name, lat, lng in zip(rest_df.serviceAreaName, rest_df.위도, rest_df.경도):\n",
    "    folium.CircleMarker([lat, lng],\n",
    "                        radius=6,         # 원의 반지름\n",
    "                        color='brown',         # 원의 둘레 색상\n",
    "                        weight=0.1,\n",
    "                        fill=True,\n",
    "                        fill_color='blue',    # 원을 채우는 색\n",
    "                        fill_opacity=0.5, # 투명도    \n",
    "                        popup=name\n",
    "    ).add_to(cluster_map)"
   ]
  },
  {
   "cell_type": "code",
   "execution_count": null,
   "id": "610ad6c9-8095-40c6-856f-57f66e122461",
   "metadata": {},
   "outputs": [],
   "source": [
    "cluster_map"
   ]
  }
 ],
 "metadata": {
  "kernelspec": {
   "display_name": "pydatavenv",
   "language": "python",
   "name": "pydatavenv"
  },
  "language_info": {
   "codemirror_mode": {
    "name": "ipython",
    "version": 3
   },
   "file_extension": ".py",
   "mimetype": "text/x-python",
   "name": "python",
   "nbconvert_exporter": "python",
   "pygments_lexer": "ipython3",
   "version": "3.9.12"
  }
 },
 "nbformat": 4,
 "nbformat_minor": 5
}

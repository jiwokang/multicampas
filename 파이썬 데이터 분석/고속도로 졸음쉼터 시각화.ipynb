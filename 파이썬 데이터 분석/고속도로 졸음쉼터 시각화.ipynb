{
 "cells": [
  {
   "cell_type": "code",
   "execution_count": null,
   "id": "3a689026-9395-4188-89df-0148f8ed9637",
   "metadata": {},
   "outputs": [],
   "source": [
    "import seaborn as sns\n",
    "import numpy as np\n",
    "import matplotlib.pyplot as plt\n",
    "import folium\n",
    "import pandas as pd\n",
    "\n",
    "traffic_df = pd.read_csv('도로종류별 교통량_좌표추가_최종본.csv')\n",
    "traffic_df.head()"
   ]
  },
  {
   "cell_type": "code",
   "execution_count": null,
   "id": "b4d8fb7d-e08a-4666-b2ca-5fbcd387c784",
   "metadata": {},
   "outputs": [],
   "source": [
    "sleep_sector = pd.read_csv('졸음쉼터.csv')\n",
    "sleep_sector.head()"
   ]
  },
  {
   "cell_type": "code",
   "execution_count": null,
   "id": "fe1cd798-e486-4d27-8f92-20a58c6ffa1a",
   "metadata": {},
   "outputs": [],
   "source": [
    "sleep_sector = sleep_sector[['소재지지번주소','위도','경도']]\n",
    "sleep_sector.columns = ['serviceAreaName','위도','경도']\n",
    "sleep_sector.head()"
   ]
  },
  {
   "cell_type": "code",
   "execution_count": null,
   "id": "4910df88-1b7f-4869-87b2-d59ccc76e5b0",
   "metadata": {},
   "outputs": [],
   "source": [
    "map = folium.Map(location=[36.5,128], tiles='cartodbpositron', \n",
    "                        zoom_start=7.5)\n",
    "#고속도로 시각화\n",
    "for i in range(len(traffic_df)):\n",
    "    start_x_coor, start_y_coor = str_to_coor(traffic_df['startpoint_coor'][i])\n",
    "    end_x_coor, end_y_coor = str_to_coor(traffic_df['endpoint_coor'][i])\n",
    "    polylines = []\n",
    "    polylines.append([(start_x_coor,start_y_coor),(end_x_coor,end_y_coor)])\n",
    "\n",
    "    folium.PolyLine(locations=polylines,\n",
    "                 color=\"#B7D7B7\",\n",
    "                 weight = 5,\n",
    "                 fill_color = None,\n",
    "                 fill_opacity=0.2,\n",
    "                 tooltip=traffic_df['구간'][i]\n",
    "                ).add_to(map)\n",
    "    \n",
    "#휴게소 지점 시각화\n",
    "for name, lat, lng in zip(sleep_sector.serviceAreaName, sleep_sector.위도, sleep_sector.경도):\n",
    "    folium.CircleMarker([lat, lng],\n",
    "                        radius=6,         # 원의 반지름\n",
    "                        color='red',         # 원의 둘레 색상\n",
    "                        weight=0.1,\n",
    "                        fill=True,\n",
    "                        fill_color='red',    # 원을 채우는 색\n",
    "                        fill_opacity=0.5, # 투명도    \n",
    "                        popup=name\n",
    "    ).add_to(map)\n",
    "        \n",
    "display(map)"
   ]
  },
  {
   "cell_type": "code",
   "execution_count": null,
   "id": "5a71cb3f-b472-43a6-bb7b-06dcd8158899",
   "metadata": {},
   "outputs": [],
   "source": [
    "map.save('졸음쉼터_시각화.html')"
   ]
  }
 ],
 "metadata": {
  "kernelspec": {
   "display_name": "pydatavenv",
   "language": "python",
   "name": "pydatavenv"
  },
  "language_info": {
   "codemirror_mode": {
    "name": "ipython",
    "version": 3
   },
   "file_extension": ".py",
   "mimetype": "text/x-python",
   "name": "python",
   "nbconvert_exporter": "python",
   "pygments_lexer": "ipython3",
   "version": "3.9.12"
  }
 },
 "nbformat": 4,
 "nbformat_minor": 5
}
